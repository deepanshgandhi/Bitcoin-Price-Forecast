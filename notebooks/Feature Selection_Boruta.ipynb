{
 "cells": [
  {
   "cell_type": "code",
   "execution_count": 1,
   "id": "genetic-branch",
   "metadata": {},
   "outputs": [],
   "source": [
    "import numpy as np\n",
    "from sklearn.model_selection import train_test_split\n",
    "from sklearn.feature_selection import SelectFromModel\n",
    "from sklearn.metrics import accuracy_score\n",
    "\n",
    "import pandas as pd\n",
    "import numpy as np\n",
    "import seaborn as sns\n",
    "import re\n",
    "#import commons as cmns\n",
    "from sklearn.ensemble import RandomForestRegressor\n",
    "from sklearn.model_selection import train_test_split\n",
    "from sklearn.feature_selection import RFECV\n",
    "from sklearn.preprocessing import MinMaxScaler, RobustScaler\n",
    "from sklearn.impute import SimpleImputer\n",
    "from sklearn.pipeline import Pipeline\n",
    "import matplotlib.pyplot as plt\n",
    "import seaborn as sns\n",
    "%matplotlib inline\n",
    "from sklearn.preprocessing import PowerTransformer\n"
   ]
  },
  {
   "cell_type": "code",
   "execution_count": 12,
   "id": "handled-tracker",
   "metadata": {},
   "outputs": [],
   "source": [
    "data=pd.read_csv('../data/btc_data_lastest_10-21.csv',sep=',')\n",
    "data = data.drop([\"Unnamed: 0\"], axis=1)\n",
    "\n",
    "interval1 = (data['Date'] >= '2013/04/01') & (data['Date'] <= '2016/04/01')\n",
    "interval2=(data['Date'] >= '2013/04/01') & (data['Date'] <= '2017/04/01')\n",
    "interval3=(data['Date'] >= '2010/04/01') & (data['Date'] <= '2021/12/31')\n",
    "\n",
    "one=data['priceUSD'].shift(-1,fill_value=1)\n",
    "seven=data['priceUSD'].shift(-7,fill_value=1)\n",
    "fourteen=data['priceUSD'].shift(-14,fill_value=1)\n",
    "thirty=data['priceUSD'].shift(-30,fill_value=1)\n",
    "sixty=data['priceUSD'].shift(-60,fill_value=1)\n",
    "ninety=data['priceUSD'].shift(-90,fill_value=1)\n",
    "\n",
    "df=data.loc[interval3]\n",
    "\n",
    "X=df.iloc[:,2:]\n",
    "y=df.iloc[:,1:2]\n",
    "#X = X.drop([\"priceUSD\"], axis=1)\n",
    "\n",
    "y=np.ravel(y)\n",
    "\n",
    "min_max_scaler = MinMaxScaler()\n",
    "#X = min_max_scaler.fit_transform(X)\n",
    "\n"
   ]
  },
  {
   "cell_type": "code",
   "execution_count": 13,
   "id": "international-flexibility",
   "metadata": {},
   "outputs": [],
   "source": [
    "X_train, X_test, y_train, y_test = train_test_split(min_max_scaler.fit_transform(X), y, test_size=0.25, random_state=0)\n"
   ]
  },
  {
   "cell_type": "code",
   "execution_count": 22,
   "id": "inside-moses",
   "metadata": {},
   "outputs": [
    {
     "data": {
      "text/plain": [
       "RandomForestRegressor(bootstrap=True, criterion='mse', max_depth=None,\n",
       "                      max_features='auto', max_leaf_nodes=None,\n",
       "                      min_impurity_decrease=0.0, min_impurity_split=None,\n",
       "                      min_samples_leaf=1, min_samples_split=2,\n",
       "                      min_weight_fraction_leaf=0.0, n_estimators=1000,\n",
       "                      n_jobs=-1, oob_score=False, random_state=None, verbose=0,\n",
       "                      warm_start=False)"
      ]
     },
     "execution_count": 22,
     "metadata": {},
     "output_type": "execute_result"
    }
   ],
   "source": [
    "\n",
    "forest = RandomForestRegressor(\n",
    "   n_jobs = -1, \n",
    "   n_estimators = 1000\n",
    ")\n",
    "\n",
    "# Train the classifier\n",
    "forest.fit(min_max_scaler.fit_transform(X), y)\n",
    "\n",
    "\n",
    "#sfm = SelectFromModel(forest, threshold=0.8)\n",
    "\n",
    "# Train the selector\n",
    "#sfm.fit(min_max_scaler.fit_transform(X), y)"
   ]
  },
  {
   "cell_type": "code",
   "execution_count": 23,
   "id": "banner-plumbing",
   "metadata": {},
   "outputs": [
    {
     "name": "stdout",
     "output_type": "stream",
     "text": [
      "('transactions', 6.693667168234609e-07)\n",
      "('size', 6.570658497685955e-07)\n",
      "('sentbyaddress', 1.0835187803184465e-06)\n",
      "('difficulty', 7.701483776239039e-06)\n",
      "('hashrate', 5.095022631200769e-07)\n",
      "('mining_profitability', 4.627384352704417e-08)\n",
      "('sentinusdUSD', 2.5852427087817574e-06)\n",
      "('transactionfeesUSD', 5.793533652637996e-07)\n",
      "('median_transaction_feeUSD', 1.998621135292852e-06)\n",
      "('confirmationtime', 8.20370120787331e-07)\n",
      "('transactionvalueUSD', 2.138961488143281e-06)\n",
      "('mediantransactionvalueUSD', 6.702756838980914e-07)\n",
      "('activeaddresses', 6.048743634092075e-07)\n",
      "('top100cap', 7.597059923675344e-07)\n",
      "('fee_to_rewardUSD', 3.348975625969589e-07)\n",
      "('transactions3sma', 8.088585968356368e-07)\n",
      "('transactions7sma', 2.712400939006862e-07)\n",
      "('transactions14sma', 4.854861127869772e-07)\n",
      "('transactions30sma', 2.2672993339150584e-07)\n",
      "('transactions90sma', 3.243929318708372e-07)\n",
      "('transactions3ema', 6.828811841283747e-07)\n",
      "('transactions7ema', 7.423855400729742e-07)\n",
      "('transactions14ema', 3.20586483498993e-07)\n",
      "('transactions30ema', 2.4098120671614567e-07)\n",
      "('transactions90ema', 1.727743720306125e-07)\n",
      "('transactions3wma', 7.493458516551547e-07)\n",
      "('transactions7wma', 6.416099527538989e-07)\n",
      "('transactions14wma', 2.2422573621423015e-07)\n",
      "('transactions30wma', 3.4716081973991695e-07)\n",
      "('transactions90wma', 2.800951971672489e-07)\n",
      "('transactions3trx', 4.5088264220518505e-06)\n",
      "('transactions7trx', 1.202313770027701e-06)\n",
      "('transactions14trx', 6.292086906118131e-07)\n",
      "('transactions30trx', 2.7719706956762365e-07)\n",
      "('transactions90trx', 2.3398415418967168e-07)\n",
      "('transactions3mom', 4.78260910856471e-07)\n",
      "('transactions7mom', 1.9379359626218187e-06)\n",
      "('transactions14mom', 8.515161500019022e-07)\n",
      "('transactions30mom', 8.268987372228865e-07)\n",
      "('transactions90mom', 4.038857013577257e-07)\n",
      "('transactions3std', 1.602568117821716e-06)\n",
      "('transactions7std', 8.364488919475658e-07)\n",
      "('transactions14std', 9.198046680645642e-07)\n",
      "('transactions30std', 1.6680838802530464e-06)\n",
      "('transactions90std', 1.6792528715465073e-06)\n",
      "('transactions3var', 1.4490146580969042e-06)\n",
      "('transactions7var', 5.602287030932512e-07)\n",
      "('transactions14var', 1.2524105881615249e-06)\n",
      "('transactions30var', 1.2907926164188554e-06)\n",
      "('transactions90var', 1.5141746531530564e-06)\n",
      "('transactions3rsi', 2.353360524388172e-06)\n",
      "('transactions7rsi', 1.3320495804624486e-06)\n",
      "('transactions14rsi', 2.518398853000494e-06)\n",
      "('transactions30rsi', 6.66499803284383e-07)\n",
      "('transactions90rsi', 3.472242744800539e-07)\n",
      "('transactions3roc', 5.827072394481282e-07)\n",
      "('transactions7roc', 1.5461376785167473e-06)\n",
      "('transactions14roc', 6.18413961979898e-07)\n",
      "('transactions30roc', 5.415389578606513e-07)\n",
      "('transactions90roc', 5.809783462342457e-07)\n",
      "('size3sma', 4.2964660713554725e-07)\n",
      "('size7sma', 1.5305438468922895e-06)\n",
      "('size14sma', 9.259929831474822e-07)\n",
      "('size30sma', 6.76256517517168e-07)\n",
      "('size90sma', 6.4008885053363145e-06)\n",
      "('size3ema', 3.4683436701931585e-07)\n",
      "('size7ema', 2.765013397281297e-07)\n",
      "('size14ema', 2.2493990589630859e-07)\n",
      "('size30ema', 4.78382111591966e-07)\n",
      "('size90ema', 8.934115731392445e-07)\n",
      "('size3wma', 4.505390854715583e-07)\n",
      "('size7wma', 8.102854882149215e-07)\n",
      "('size14wma', 8.093581310457408e-07)\n",
      "('size30wma', 1.0137394777188693e-06)\n",
      "('size90wma', 7.082730071140756e-07)\n",
      "('size3trx', 8.453606088683629e-07)\n",
      "('size7trx', 2.9497963119980614e-06)\n",
      "('size14trx', 6.085280622632302e-07)\n",
      "('size30trx', 1.4838318560049437e-06)\n",
      "('size90trx', 2.803182511754234e-07)\n",
      "('size3mom', 1.0142331156511821e-06)\n",
      "('size7mom', 1.0541247061335206e-06)\n",
      "('size14mom', 6.398064313205752e-07)\n",
      "('size30mom', 1.6161271691174958e-06)\n",
      "('size90mom', 8.179495811245022e-07)\n",
      "('size3std', 9.590623575806561e-07)\n",
      "('size7std', 5.016915212290237e-07)\n",
      "('size14std', 8.563314853708906e-07)\n",
      "('size30std', 1.4869457721398677e-06)\n",
      "('size90std', 9.803285102241793e-06)\n",
      "('size3var', 1.196099792607744e-06)\n",
      "('size7var', 2.865074301834501e-07)\n",
      "('size14var', 6.498876106741282e-07)\n",
      "('size30var', 1.7012859060651447e-06)\n",
      "('size90var', 1.0693211988554373e-05)\n",
      "('size3rsi', 7.152899080760722e-07)\n",
      "('size7rsi', 7.000899575988479e-07)\n",
      "('size14rsi', 6.035812110281823e-07)\n",
      "('size30rsi', 5.334832096963683e-07)\n",
      "('size90rsi', 4.238620092530851e-07)\n",
      "('size3roc', 1.031793146444118e-06)\n",
      "('size7roc', 9.107413793096946e-07)\n",
      "('size14roc', 7.040860765595792e-07)\n",
      "('size30roc', 2.4863213533872284e-06)\n",
      "('size90roc', 8.180238757415141e-07)\n",
      "('sentbyaddress3sma', 4.930975655508046e-07)\n",
      "('sentbyaddress7sma', 1.6287631719122404e-06)\n",
      "('sentbyaddress14sma', 9.042135321428175e-07)\n",
      "('sentbyaddress30sma', 6.316209969340009e-07)\n",
      "('sentbyaddress90sma', 9.27855632894781e-06)\n",
      "('sentbyaddress3ema', 5.815830710041561e-07)\n",
      "('sentbyaddress7ema', 9.406683306053825e-07)\n",
      "('sentbyaddress14ema', 1.0242911951275765e-06)\n",
      "('sentbyaddress30ema', 6.516093996051274e-07)\n",
      "('sentbyaddress90ema', 1.268639253946868e-06)\n",
      "('sentbyaddress3wma', 6.863286859481291e-07)\n",
      "('sentbyaddress7wma', 3.8707670923049913e-07)\n",
      "('sentbyaddress14wma', 8.704234958220631e-07)\n",
      "('sentbyaddress30wma', 5.41527126000519e-07)\n",
      "('sentbyaddress90wma', 6.031373482668658e-06)\n",
      "('sentbyaddress3trx', 2.6734214534110535e-06)\n",
      "('sentbyaddress7trx', 8.640526245282183e-07)\n",
      "('sentbyaddress14trx', 4.3014037834349553e-07)\n",
      "('sentbyaddress30trx', 2.949642036709148e-07)\n",
      "('sentbyaddress90trx', 2.814462116743748e-06)\n",
      "('sentbyaddress3mom', 7.930171700099779e-07)\n",
      "('sentbyaddress7mom', 9.65453474178727e-07)\n",
      "('sentbyaddress14mom', 8.771129488555334e-07)\n",
      "('sentbyaddress30mom', 1.0097145732077461e-06)\n",
      "('sentbyaddress90mom', 7.531472709250282e-07)\n",
      "('sentbyaddress3std', 1.5469380991857778e-06)\n",
      "('sentbyaddress7std', 1.3642705535784276e-06)\n",
      "('sentbyaddress14std', 1.3507416727411242e-06)\n",
      "('sentbyaddress30std', 1.8790318786963254e-06)\n",
      "('sentbyaddress90std', 4.728183788146677e-07)\n",
      "('sentbyaddress3var', 1.2939800179334573e-06)\n",
      "('sentbyaddress7var', 6.932177702807426e-07)\n",
      "('sentbyaddress14var', 1.2964369504719902e-06)\n",
      "('sentbyaddress30var', 7.735758777909483e-07)\n",
      "('sentbyaddress90var', 7.02774274811889e-07)\n",
      "('sentbyaddress3rsi', 1.0105474461458443e-06)\n",
      "('sentbyaddress7rsi', 5.341999906924653e-07)\n",
      "('sentbyaddress14rsi', 1.0383990159047409e-06)\n",
      "('sentbyaddress30rsi', 1.7182299615784008e-06)\n",
      "('sentbyaddress90rsi', 9.594034278154097e-07)\n",
      "('sentbyaddress3roc', 1.12183526036453e-06)\n",
      "('sentbyaddress7roc', 1.373159855063436e-06)\n",
      "('sentbyaddress14roc', 1.1837318855219562e-06)\n",
      "('sentbyaddress30roc', 6.860704383000728e-07)\n",
      "('sentbyaddress90roc', 9.446129808829606e-07)\n",
      "('difficulty3sma', 6.853434620534248e-07)\n",
      "('difficulty7sma', 2.7119412323846475e-05)\n",
      "('difficulty14sma', 0.00011417119569616903)\n",
      "('difficulty30sma', 0.00014073350017526658)\n",
      "('difficulty90sma', 9.37740017684689e-05)\n",
      "('difficulty3ema', 0.0002715931200432332)\n",
      "('difficulty7ema', 0.0002700799471598821)\n",
      "('difficulty14ema', 8.36955746385656e-05)\n",
      "('difficulty30ema', 8.932632693634408e-05)\n",
      "('difficulty90ema', 0.0001193922115795263)\n",
      "('difficulty3wma', 2.7240082418927125e-05)\n",
      "('difficulty7wma', 1.2579333032105519e-05)\n",
      "('difficulty14wma', 0.00012932451022834622)\n",
      "('difficulty30wma', 0.00012265214189333265)\n",
      "('difficulty90wma', 4.836127673391734e-05)\n",
      "('difficulty3trx', 1.2226745210864337e-06)\n",
      "('difficulty7trx', 8.949933269656791e-07)\n",
      "('difficulty14trx', 9.087982568092801e-07)\n",
      "('difficulty30trx', 5.389224216448242e-07)\n",
      "('difficulty90trx', 4.480170431753186e-06)\n",
      "('difficulty3mom', 1.0168279130960009e-07)\n",
      "('difficulty7mom', 2.6754750413109337e-07)\n",
      "('difficulty14mom', 6.207322424125202e-07)\n",
      "('difficulty30mom', 7.793389359151201e-07)\n",
      "('difficulty90mom', 1.8145471834025635e-06)\n",
      "('difficulty3std', 1.95983889704468e-07)\n",
      "('difficulty7std', 5.558925096644112e-07)\n",
      "('difficulty14std', 5.243968318681182e-07)\n",
      "('difficulty30std', 1.5290671931353127e-06)\n",
      "('difficulty90std', 1.2270785187465643e-06)\n",
      "('difficulty3var', 8.575091735872561e-08)\n",
      "('difficulty7var', 6.26429751155946e-07)\n",
      "('difficulty14var', 5.436423428549272e-07)\n",
      "('difficulty30var', 1.177722569302068e-06)\n",
      "('difficulty90var', 1.0898847849136131e-06)\n",
      "('difficulty3rsi', 2.5877801869616627e-08)\n",
      "('difficulty7rsi', 3.879331201911777e-07)\n",
      "('difficulty14rsi', 5.149717756477703e-07)\n",
      "('difficulty30rsi', 5.727114744129727e-08)\n",
      "('difficulty90rsi', 9.176330840810912e-08)\n",
      "('difficulty3roc', 6.328408980531507e-08)\n",
      "('difficulty7roc', 2.8799920027917057e-07)\n",
      "('difficulty14roc', 1.0231239029553533e-06)\n",
      "('difficulty30roc', 2.296107519991209e-07)\n",
      "('difficulty90roc', 1.478193717494257e-06)\n",
      "('hashrate3sma', 1.4998195451902346e-05)\n",
      "('hashrate7sma', 3.563491641946085e-05)\n",
      "('hashrate14sma', 0.0002800776681831891)\n",
      "('hashrate30sma', 0.00011555996412015178)\n",
      "('hashrate90sma', 4.888390719536106e-05)\n",
      "('hashrate3ema', 5.816800688527937e-07)\n",
      "('hashrate7ema', 1.011768036993175e-05)\n",
      "('hashrate14ema', 1.4823433233771511e-05)\n",
      "('hashrate30ema', 9.263354808840727e-05)\n",
      "('hashrate90ema', 7.118273563399384e-05)\n",
      "('hashrate3wma', 1.0491901246245015e-06)\n",
      "('hashrate7wma', 1.2016288908477928e-06)\n",
      "('hashrate14wma', 3.370775380675712e-05)\n",
      "('hashrate30wma', 0.0001342528714545162)\n",
      "('hashrate90wma', 5.283763340863013e-05)\n",
      "('hashrate3trx', 2.091869722690626e-06)\n",
      "('hashrate7trx', 1.1050742636544392e-06)\n",
      "('hashrate14trx', 6.636399436891074e-07)\n",
      "('hashrate30trx', 4.308334196751878e-06)\n",
      "('hashrate90trx', 9.129690381310134e-06)\n",
      "('hashrate3mom', 2.104507410429189e-06)\n",
      "('hashrate7mom', 7.211983694936451e-07)\n",
      "('hashrate14mom', 1.275980604666793e-06)\n",
      "('hashrate30mom', 1.4636210962746982e-06)\n",
      "('hashrate90mom', 1.1500167552109873e-06)\n",
      "('hashrate3std', 1.115333519900408e-06)\n",
      "('hashrate7std', 8.105203849362428e-07)\n",
      "('hashrate14std', 3.79655831147734e-07)\n",
      "('hashrate30std', 3.5636632684447067e-06)\n",
      "('hashrate90std', 1.904214453252088e-06)\n",
      "('hashrate3var', 1.6510131484170996e-06)\n",
      "('hashrate7var', 9.447923491608552e-07)\n",
      "('hashrate14var', 5.891736693016248e-07)\n",
      "('hashrate30var', 8.030044315400649e-07)\n",
      "('hashrate90var', 6.540837092471002e-07)\n",
      "('hashrate3rsi', 1.4269128549317099e-06)\n",
      "('hashrate7rsi', 1.006005784215873e-06)\n",
      "('hashrate14rsi', 5.924840582462418e-07)\n",
      "('hashrate30rsi', 5.602058778515059e-07)\n",
      "('hashrate90rsi', 6.162539572737998e-07)\n",
      "('hashrate3roc', 1.931337323332827e-06)\n",
      "('hashrate7roc', 1.3615552051077628e-06)\n",
      "('hashrate14roc', 1.3192524246079164e-06)\n",
      "('hashrate30roc', 1.567105436643857e-06)\n",
      "('hashrate90roc', 8.28795411317028e-07)\n",
      "('mining_profitability3sma', 1.5411978432559297e-08)\n",
      "('mining_profitability7sma', 1.7600171671622986e-08)\n",
      "('mining_profitability14sma', 1.841276440700244e-07)\n",
      "('mining_profitability30sma', 1.4160696806882592e-07)\n",
      "('mining_profitability90sma', 3.0871973270112336e-08)\n",
      "('mining_profitability3ema', 4.0704060381164017e-08)\n",
      "('mining_profitability7ema', 1.367731804090396e-08)\n",
      "('mining_profitability14ema', 2.1066527615587902e-08)\n",
      "('mining_profitability30ema', 2.1460925634469624e-08)\n",
      "('mining_profitability90ema', 3.4789154678640704e-08)\n",
      "('mining_profitability3wma', 4.418415146725121e-08)\n",
      "('mining_profitability7wma', 1.4765388071157921e-08)\n",
      "('mining_profitability14wma', 2.4724222712328978e-08)\n",
      "('mining_profitability30wma', 4.9680769879986317e-08)\n",
      "('mining_profitability90wma', 4.161083692642443e-07)\n",
      "('mining_profitability3trx', 4.205835377576213e-06)\n",
      "('mining_profitability7trx', 5.567153904472318e-07)\n",
      "('mining_profitability14trx', 9.086893945875725e-07)\n",
      "('mining_profitability30trx', 8.99033799772113e-07)\n",
      "('mining_profitability90trx', 0.00014967748348571148)\n",
      "('mining_profitability3mom', 1.0043895099756987e-07)\n",
      "('mining_profitability7mom', 1.3096464383082464e-07)\n",
      "('mining_profitability14mom', 1.2077170070459262e-07)\n",
      "('mining_profitability30mom', 1.464017680336347e-07)\n",
      "('mining_profitability90mom', 3.399305681417108e-08)\n",
      "('mining_profitability3std', 5.125687624131978e-08)\n",
      "('mining_profitability7std', 2.303144782971497e-07)\n",
      "('mining_profitability14std', 1.999183918216909e-08)\n",
      "('mining_profitability30std', 4.2271124506373986e-08)\n",
      "('mining_profitability90std', 2.5048527953677747e-08)\n",
      "('mining_profitability3var', 5.3301709660245164e-11)\n",
      "('mining_profitability7var', 3.413543547979608e-11)\n",
      "('mining_profitability14var', 6.23890637880575e-11)\n",
      "('mining_profitability30var', 3.75048651779258e-11)\n",
      "('mining_profitability90var', 2.9364263494137464e-10)\n",
      "('mining_profitability3rsi', 2.8153567205099167e-06)\n",
      "('mining_profitability7rsi', 3.239836486045877e-06)\n",
      "('mining_profitability14rsi', 2.283548627631002e-06)\n",
      "('mining_profitability30rsi', 7.225239620807442e-07)\n",
      "('mining_profitability90rsi', 8.626096600604237e-07)\n",
      "('mining_profitability3roc', 2.6620689910855933e-06)\n",
      "('mining_profitability7roc', 2.8969325573304864e-06)\n",
      "('mining_profitability14roc', 6.862717877770734e-07)\n",
      "('mining_profitability30roc', 1.4222645160942277e-06)\n",
      "('mining_profitability90roc', 5.872411424423065e-07)\n",
      "('sentinusd3smaUSD', 1.7894291431109676e-06)\n",
      "('sentinusd7smaUSD', 7.566685945821241e-07)\n",
      "('sentinusd14smaUSD', 8.462179164109642e-07)\n",
      "('sentinusd30smaUSD', 4.5538455664973544e-05)\n",
      "('sentinusd90smaUSD', 4.3565327030663726e-05)\n",
      "('sentinusd3emaUSD', 1.4930720390954749e-06)\n",
      "('sentinusd7emaUSD', 1.3183530763547992e-06)\n",
      "('sentinusd14emaUSD', 8.698983991555084e-07)\n",
      "('sentinusd30emaUSD', 2.992027528697998e-05)\n",
      "('sentinusd90emaUSD', 8.599225236845763e-05)\n",
      "('sentinusd3wmaUSD', 2.1623833106144314e-06)\n",
      "('sentinusd7wmaUSD', 1.5347393800520328e-06)\n",
      "('sentinusd14wmaUSD', 5.826524091795093e-07)\n",
      "('sentinusd30wmaUSD', 2.1384370479296398e-05)\n",
      "('sentinusd90wmaUSD', 5.4764471897346e-05)\n",
      "('sentinusd3trxUSD', 1.6841661643658305e-06)\n",
      "('sentinusd7trxUSD', 1.3687435916414472e-06)\n",
      "('sentinusd14trxUSD', 9.302304704908818e-07)\n",
      "('sentinusd30trxUSD', 1.0577240324658044e-06)\n",
      "('sentinusd90trxUSD', 1.3195470835089692e-06)\n",
      "('sentinusd3momUSD', 1.094780710422875e-06)\n",
      "('sentinusd7momUSD', 8.215756221318073e-07)\n",
      "('sentinusd14momUSD', 1.1293866549049541e-06)\n",
      "('sentinusd30momUSD', 9.806012604504795e-07)\n",
      "('sentinusd90momUSD', 5.341347751480201e-07)\n",
      "('sentinusd3stdUSD', 7.282218771430388e-07)\n",
      "('sentinusd7stdUSD', 4.870687720895314e-07)\n",
      "('sentinusd14stdUSD', 4.0884400436139864e-07)\n",
      "('sentinusd30stdUSD', 2.8672719061099905e-05)\n",
      "('sentinusd90stdUSD', 3.368184668402951e-05)\n",
      "('sentinusd3varUSD', 6.104858093856411e-07)\n",
      "('sentinusd7varUSD', 6.328775699603246e-07)\n",
      "('sentinusd14varUSD', 4.121295320248767e-07)\n",
      "('sentinusd30varUSD', 1.6318325481033918e-05)\n",
      "('sentinusd90varUSD', 4.316951926830323e-05)\n",
      "('sentinusd3rsiUSD', 2.072753896791477e-06)\n",
      "('sentinusd7rsiUSD', 1.3750514433172703e-06)\n",
      "('sentinusd14rsiUSD', 1.4729439349145695e-06)\n",
      "('sentinusd30rsiUSD', 8.602843814646628e-07)\n",
      "('sentinusd90rsiUSD', 5.187762527033346e-07)\n",
      "('sentinusd3rocUSD', 1.3480170064249159e-06)\n",
      "('sentinusd7rocUSD', 7.837278728434765e-07)\n",
      "('sentinusd14rocUSD', 1.9508354016723964e-06)\n",
      "('sentinusd30rocUSD', 5.646030765423779e-07)\n",
      "('sentinusd90rocUSD', 7.755613827572053e-07)\n",
      "('transactionfees3smaUSD', 2.484014569633811e-07)\n",
      "('transactionfees7smaUSD', 2.984515086260176e-07)\n",
      "('transactionfees14smaUSD', 1.091074232941314e-06)\n",
      "('transactionfees30smaUSD', 1.2136127835973317e-06)\n",
      "('transactionfees90smaUSD', 3.259941360748565e-05)\n",
      "('transactionfees3emaUSD', 3.2794974276156736e-07)\n",
      "('transactionfees7emaUSD', 3.734071389833979e-07)\n",
      "('transactionfees14emaUSD', 4.582627197960678e-07)\n",
      "('transactionfees30emaUSD', 1.381319618236499e-06)\n",
      "('transactionfees90emaUSD', 2.2946429064225203e-05)\n",
      "('transactionfees3wmaUSD', 3.960069118620089e-07)\n",
      "('transactionfees7wmaUSD', 3.4702867961662694e-07)\n",
      "('transactionfees14wmaUSD', 2.75539130549456e-07)\n",
      "('transactionfees30wmaUSD', 2.377284648639708e-06)\n",
      "('transactionfees90wmaUSD', 4.060831228272126e-05)\n",
      "('transactionfees3trxUSD', 6.113215977719574e-07)\n",
      "('transactionfees7trxUSD', 2.733391919538978e-06)\n",
      "('transactionfees14trxUSD', 3.7178256488974514e-06)\n",
      "('transactionfees30trxUSD', 9.83431231304349e-07)\n",
      "('transactionfees90trxUSD', 0.007990355249038506)\n",
      "('transactionfees3momUSD', 1.5231385567382648e-06)\n",
      "('transactionfees7momUSD', 8.043502471109875e-07)\n",
      "('transactionfees14momUSD', 3.933845999772032e-07)\n",
      "('transactionfees30momUSD', 9.707470416950504e-07)\n",
      "('transactionfees90momUSD', 8.693956163037289e-07)\n",
      "('transactionfees3stdUSD', 8.594111798870906e-07)\n",
      "('transactionfees7stdUSD', 9.49443402784616e-07)\n",
      "('transactionfees14stdUSD', 8.709980526748751e-07)\n",
      "('transactionfees30stdUSD', 1.0533826711420164e-06)\n",
      "('transactionfees90stdUSD', 6.255622828318796e-07)\n",
      "('transactionfees3varUSD', 8.8722430592703e-07)\n",
      "('transactionfees7varUSD', 3.666267249822759e-07)\n",
      "('transactionfees14varUSD', 6.312926559221463e-07)\n",
      "('transactionfees30varUSD', 1.1390662060266483e-06)\n",
      "('transactionfees90varUSD', 1.5302026871993402e-06)\n",
      "('transactionfees3rsiUSD', 2.1565901315784296e-06)\n",
      "('transactionfees7rsiUSD', 9.470932031393724e-07)\n",
      "('transactionfees14rsiUSD', 3.612281123951234e-07)\n",
      "('transactionfees30rsiUSD', 4.0968634716036075e-07)\n",
      "('transactionfees90rsiUSD', 2.604349245739214e-06)\n",
      "('transactionfees3rocUSD', 4.733615681054921e-07)\n",
      "('transactionfees7rocUSD', 8.50887220009495e-10)\n",
      "('transactionfees14rocUSD', 7.028476113897337e-07)\n",
      "('transactionfees30rocUSD', 3.13492127080871e-08)\n",
      "('transactionfees90rocUSD', 3.3856246876672685e-07)\n",
      "('median_transaction_fee3smaUSD', 4.2898504003618523e-07)\n",
      "('median_transaction_fee7smaUSD', 2.25614724976372e-07)\n",
      "('median_transaction_fee14smaUSD', 0.01949767659070125)\n",
      "('median_transaction_fee30smaUSD', 1.1711209244364716e-06)\n",
      "('median_transaction_fee90smaUSD', 1.8742535916900017e-05)\n",
      "('median_transaction_fee3emaUSD', 5.506808908640383e-07)\n",
      "('median_transaction_fee7emaUSD', 5.949171476741528e-07)\n",
      "('median_transaction_fee14emaUSD', 9.518772869611158e-05)\n",
      "('median_transaction_fee30emaUSD', 1.5651063140903296e-06)\n",
      "('median_transaction_fee90emaUSD', 2.6124836352819068e-05)\n",
      "('median_transaction_fee3wmaUSD', 4.940340997978179e-07)\n",
      "('median_transaction_fee7wmaUSD', 5.22990620921843e-07)\n",
      "('median_transaction_fee14wmaUSD', 3.1972288830488877e-07)\n",
      "('median_transaction_fee30wmaUSD', 1.9681448438654335e-06)\n",
      "('median_transaction_fee90wmaUSD', 1.9991587552774702e-05)\n",
      "('median_transaction_fee3trxUSD', 1.4886185947398306e-18)\n",
      "('median_transaction_fee7trxUSD', 0.0)\n",
      "('median_transaction_fee14trxUSD', 2.926548932651667e-06)\n",
      "('median_transaction_fee30trxUSD', 1.8373391970890007e-06)\n",
      "('median_transaction_fee90trxUSD', 1.3331171251162788e-05)\n",
      "('median_transaction_fee3momUSD', 5.902759044032053e-07)\n",
      "('median_transaction_fee7momUSD', 8.181344434320949e-07)\n",
      "('median_transaction_fee14momUSD', 1.1751054457004007e-06)\n",
      "('median_transaction_fee30momUSD', 5.197655735781944e-07)\n",
      "('median_transaction_fee90momUSD', 4.3613642494465475e-07)\n",
      "('median_transaction_fee3stdUSD', 1.07134128873481e-06)\n",
      "('median_transaction_fee7stdUSD', 1.6688611823321214e-06)\n",
      "('median_transaction_fee14stdUSD', 7.283550375476616e-07)\n",
      "('median_transaction_fee30stdUSD', 8.883070436196936e-07)\n",
      "('median_transaction_fee90stdUSD', 8.572124942895858e-07)\n",
      "('median_transaction_fee3varUSD', 8.13311902518365e-07)\n",
      "('median_transaction_fee7varUSD', 6.198555315044682e-07)\n",
      "('median_transaction_fee14varUSD', 7.789919526017009e-07)\n",
      "('median_transaction_fee30varUSD', 6.886847335667799e-07)\n",
      "('median_transaction_fee90varUSD', 5.220864981132611e-07)\n",
      "('median_transaction_fee3rsiUSD', 1.4684429067402064e-06)\n",
      "('median_transaction_fee7rsiUSD', 1.1430710871684481e-06)\n",
      "('median_transaction_fee14rsiUSD', 4.098101185070835e-07)\n",
      "('median_transaction_fee30rsiUSD', 2.4808845699428995e-07)\n",
      "('median_transaction_fee90rsiUSD', 3.485336952709889e-07)\n",
      "('median_transaction_fee3rocUSD', 1.0106194964659646e-06)\n",
      "('median_transaction_fee7rocUSD', 8.86198718390847e-07)\n",
      "('median_transaction_fee14rocUSD', 3.2616943494574063e-07)\n",
      "('median_transaction_fee30rocUSD', 8.63343459414488e-07)\n",
      "('median_transaction_fee90rocUSD', 4.88334977365445e-07)\n",
      "('confirmationtime3sma', 8.691273714631022e-07)\n",
      "('confirmationtime7sma', 2.8505252498171767e-07)\n",
      "('confirmationtime14sma', 4.773280091771302e-07)\n",
      "('confirmationtime30sma', 2.317746622283512e-07)\n",
      "('confirmationtime90sma', 2.6042959997550945e-06)\n",
      "('confirmationtime3ema', 5.141255392634599e-07)\n",
      "('confirmationtime7ema', 2.3286363357207078e-07)\n",
      "('confirmationtime14ema', 4.5456110278997044e-07)\n",
      "('confirmationtime30ema', 3.3817734186072615e-07)\n",
      "('confirmationtime90ema', 3.4455344044989746e-07)\n",
      "('confirmationtime3wma', 5.629499495332535e-07)\n",
      "('confirmationtime7wma', 4.793372667467497e-07)\n",
      "('confirmationtime14wma', 4.035618872531722e-07)\n",
      "('confirmationtime30wma', 5.30861085419968e-07)\n",
      "('confirmationtime90wma', 5.387154388336172e-07)\n",
      "('confirmationtime3trx', 1.6360457225702382e-06)\n",
      "('confirmationtime7trx', 2.081409706684935e-06)\n",
      "('confirmationtime14trx', 1.5749448742617504e-06)\n",
      "('confirmationtime30trx', 1.923041549504503e-07)\n",
      "('confirmationtime90trx', 7.334063142048263e-07)\n",
      "('confirmationtime3mom', 6.485752050956515e-07)\n",
      "('confirmationtime7mom', 1.2272448316573564e-06)\n",
      "('confirmationtime14mom', 1.0986677914969618e-06)\n",
      "('confirmationtime30mom', 1.6058479852656554e-06)\n",
      "('confirmationtime90mom', 7.243257777935154e-07)\n",
      "('confirmationtime3std', 7.390990071881713e-07)\n",
      "('confirmationtime7std', 5.172408316703059e-07)\n",
      "('confirmationtime14std', 5.801750440161373e-07)\n",
      "('confirmationtime30std', 3.7459747608612026e-07)\n",
      "('confirmationtime90std', 2.071590847983332e-06)\n",
      "('confirmationtime3var', 5.048748313336533e-07)\n",
      "('confirmationtime7var', 4.1576031018836755e-07)\n",
      "('confirmationtime14var', 6.346628894489206e-07)\n",
      "('confirmationtime30var', 3.8541441102365225e-07)\n",
      "('confirmationtime90var', 9.677419854619351e-07)\n",
      "('confirmationtime3rsi', 1.1178578741499e-06)\n",
      "('confirmationtime7rsi', 7.581683006987923e-07)\n",
      "('confirmationtime14rsi', 7.423664563772338e-07)\n",
      "('confirmationtime30rsi', 7.023626006977324e-07)\n",
      "('confirmationtime90rsi', 5.984155881646381e-07)\n",
      "('confirmationtime3roc', 9.313498057149943e-07)\n",
      "('confirmationtime7roc', 2.8561692933545584e-06)\n",
      "('confirmationtime14roc', 1.0844761239352204e-06)\n",
      "('confirmationtime30roc', 2.0045270732481987e-06)\n",
      "('confirmationtime90roc', 1.1509188603051274e-06)\n",
      "('transactionvalue3smaUSD', 2.3485541752258014e-06)\n",
      "('transactionvalue7smaUSD', 2.480354373917231e-05)\n",
      "('transactionvalue14smaUSD', 0.044807691788429235)\n",
      "('transactionvalue30smaUSD', 0.007887803782064917)\n",
      "('transactionvalue90smaUSD', 0.05481479867464323)\n",
      "('transactionvalue3emaUSD', 1.1979919769669537e-06)\n",
      "('transactionvalue7emaUSD', 2.123728504121184e-05)\n",
      "('transactionvalue14emaUSD', 3.489058255138458e-05)\n",
      "('transactionvalue30emaUSD', 0.011804044785573137)\n",
      "('transactionvalue90emaUSD', 0.03011219353730638)\n",
      "('transactionvalue3wmaUSD', 2.3525193926924668e-06)\n",
      "('transactionvalue7wmaUSD', 7.0302226026679216e-06)\n",
      "('transactionvalue14wmaUSD', 1.7103457771395686e-05)\n",
      "('transactionvalue30wmaUSD', 0.023556784819618676)\n",
      "('transactionvalue90wmaUSD', 0.05904772731852884)\n",
      "('transactionvalue3trxUSD', 5.7183566637388645e-06)\n",
      "('transactionvalue7trxUSD', 1.224704482302284e-06)\n",
      "('transactionvalue14trxUSD', 2.254376689960262e-06)\n",
      "('transactionvalue30trxUSD', 4.608953816806456e-07)\n",
      "('transactionvalue90trxUSD', 6.293570189564313e-06)\n",
      "('transactionvalue3momUSD', 1.0988487159385798e-06)\n",
      "('transactionvalue7momUSD', 1.2812281946677772e-06)\n",
      "('transactionvalue14momUSD', 2.0986267289202387e-06)\n",
      "('transactionvalue30momUSD', 4.217676773940121e-07)\n",
      "('transactionvalue90momUSD', 9.31788139263741e-07)\n",
      "('transactionvalue3stdUSD', 7.728724200576498e-07)\n",
      "('transactionvalue7stdUSD', 5.747033187995262e-07)\n",
      "('transactionvalue14stdUSD', 5.189154452201629e-07)\n",
      "('transactionvalue30stdUSD', 8.566960704899965e-07)\n",
      "('transactionvalue90stdUSD', 2.6716382869879982e-05)\n",
      "('transactionvalue3varUSD', 1.0632612350168671e-06)\n",
      "('transactionvalue7varUSD', 7.030765081077218e-07)\n",
      "('transactionvalue14varUSD', 7.809832592384969e-07)\n",
      "('transactionvalue30varUSD', 5.204999660175696e-07)\n",
      "('transactionvalue90varUSD', 3.6896919953455984e-05)\n",
      "('transactionvalue3rsiUSD', 2.5044671672874384e-06)\n",
      "('transactionvalue7rsiUSD', 1.5224460839568321e-06)\n",
      "('transactionvalue14rsiUSD', 1.232288665571793e-06)\n",
      "('transactionvalue30rsiUSD', 6.513759726173036e-07)\n",
      "('transactionvalue90rsiUSD', 1.0574046889665843e-06)\n",
      "('transactionvalue3rocUSD', 1.1830937419693553e-06)\n",
      "('transactionvalue7rocUSD', 1.8501256078945902e-06)\n",
      "('transactionvalue14rocUSD', 9.840796226513681e-07)\n",
      "('transactionvalue30rocUSD', 5.130315545119439e-07)\n",
      "('transactionvalue90rocUSD', 1.1027563750117876e-06)\n",
      "('mediantransactionvalue3smaUSD', 7.312381274375536e-07)\n",
      "('mediantransactionvalue7smaUSD', 6.274184232276876e-07)\n",
      "('mediantransactionvalue14smaUSD', 1.8882461599914087e-06)\n",
      "('mediantransactionvalue30smaUSD', 2.9094554043059382e-05)\n",
      "('mediantransactionvalue90smaUSD', 3.3406656538286056e-05)\n",
      "('mediantransactionvalue3emaUSD', 9.279436805338751e-07)\n",
      "('mediantransactionvalue7emaUSD', 7.455359007981505e-07)\n",
      "('mediantransactionvalue14emaUSD', 1.0616226747654853e-06)\n",
      "('mediantransactionvalue30emaUSD', 3.636644433027343e-05)\n",
      "('mediantransactionvalue90emaUSD', 2.9064935488331116e-05)\n",
      "('mediantransactionvalue3wmaUSD', 1.1990805191052524e-06)\n",
      "('mediantransactionvalue7wmaUSD', 3.7079696087772804e-07)\n",
      "('mediantransactionvalue14wmaUSD', 5.324775728951469e-07)\n",
      "('mediantransactionvalue30wmaUSD', 4.290979995347083e-05)\n",
      "('mediantransactionvalue90wmaUSD', 5.082468715552443e-05)\n",
      "('mediantransactionvalue3trxUSD', 2.0633395502490013e-06)\n",
      "('mediantransactionvalue7trxUSD', 3.590417787958209e-06)\n",
      "('mediantransactionvalue14trxUSD', 1.7313254583392387e-06)\n",
      "('mediantransactionvalue30trxUSD', 1.0580838855591423e-06)\n",
      "('mediantransactionvalue90trxUSD', 7.285417249854896e-07)\n",
      "('mediantransactionvalue3momUSD', 1.3283069825406603e-06)\n",
      "('mediantransactionvalue7momUSD', 1.1903554249296087e-06)\n",
      "('mediantransactionvalue14momUSD', 1.0091288972604312e-06)\n",
      "('mediantransactionvalue30momUSD', 1.6674992218944316e-06)\n",
      "('mediantransactionvalue90momUSD', 6.813110211062912e-07)\n",
      "('mediantransactionvalue3stdUSD', 1.3516840371444838e-06)\n",
      "('mediantransactionvalue7stdUSD', 2.589291287495135e-06)\n",
      "('mediantransactionvalue14stdUSD', 1.0786292195188042e-06)\n",
      "('mediantransactionvalue30stdUSD', 5.482611297848409e-07)\n",
      "('mediantransactionvalue90stdUSD', 8.833854672459951e-06)\n",
      "('mediantransactionvalue3varUSD', 1.5419730344039822e-06)\n",
      "('mediantransactionvalue7varUSD', 2.258980787951651e-06)\n",
      "('mediantransactionvalue14varUSD', 1.328315648997036e-06)\n",
      "('mediantransactionvalue30varUSD', 3.5828055411649737e-07)\n",
      "('mediantransactionvalue90varUSD', 5.782785965963433e-06)\n",
      "('mediantransactionvalue3rsiUSD', 1.9311091194419278e-06)\n",
      "('mediantransactionvalue7rsiUSD', 1.938242756622034e-06)\n",
      "('mediantransactionvalue14rsiUSD', 2.309562649063576e-06)\n",
      "('mediantransactionvalue30rsiUSD', 9.774198560646729e-07)\n",
      "('mediantransactionvalue90rsiUSD', 7.550437001282927e-07)\n",
      "('mediantransactionvalue3rocUSD', 1.3469844789428273e-06)\n",
      "('mediantransactionvalue7rocUSD', 9.186710273262404e-07)\n",
      "('mediantransactionvalue14rocUSD', 8.533898334880931e-07)\n",
      "('mediantransactionvalue30rocUSD', 8.213062475744786e-07)\n",
      "('mediantransactionvalue90rocUSD', 6.992718430783897e-07)\n",
      "('activeaddresses3sma', 4.85181906526043e-07)\n",
      "('activeaddresses7sma', 3.869102007048837e-07)\n",
      "('activeaddresses14sma', 6.475734709752546e-07)\n",
      "('activeaddresses30sma', 1.9793291847283393e-06)\n",
      "('activeaddresses90sma', 2.3939397621317946e-06)\n",
      "('activeaddresses3ema', 4.0306938949119534e-07)\n",
      "('activeaddresses7ema', 3.0688014144572117e-07)\n",
      "('activeaddresses14ema', 3.602427788732433e-07)\n",
      "('activeaddresses30ema', 1.015159219233846e-06)\n",
      "('activeaddresses90ema', 7.1282212980503084e-06)\n",
      "('activeaddresses3wma', 7.270389163265099e-07)\n",
      "('activeaddresses7wma', 1.0567730196750603e-06)\n",
      "('activeaddresses14wma', 8.632868686408843e-07)\n",
      "('activeaddresses30wma', 4.6081371048428407e-07)\n",
      "('activeaddresses90wma', 7.0916182225734255e-06)\n",
      "('activeaddresses3trx', 1.8753578161632603e-06)\n",
      "('activeaddresses7trx', 9.222048217614925e-07)\n",
      "('activeaddresses14trx', 1.9530566759914754e-06)\n",
      "('activeaddresses30trx', 3.230756956669788e-07)\n",
      "('activeaddresses90trx', 8.336914724853992e-06)\n",
      "('activeaddresses3mom', 1.2455710958043713e-06)\n",
      "('activeaddresses7mom', 1.430791064585373e-06)\n",
      "('activeaddresses14mom', 8.966315618170816e-07)\n",
      "('activeaddresses30mom', 1.6049158899329981e-06)\n",
      "('activeaddresses90mom', 1.44151679424639e-06)\n",
      "('activeaddresses3std', 1.1809759288998763e-06)\n",
      "('activeaddresses7std', 1.6583772787699271e-06)\n",
      "('activeaddresses14std', 5.668548396331373e-07)\n",
      "('activeaddresses30std', 6.989222780876221e-07)\n",
      "('activeaddresses90std', 6.020775728400672e-07)\n",
      "('activeaddresses3var', 1.1518105128502819e-06)\n",
      "('activeaddresses7var', 1.3682340137871815e-06)\n",
      "('activeaddresses14var', 8.800986085756892e-07)\n",
      "('activeaddresses30var', 1.5009102623401935e-06)\n",
      "('activeaddresses90var', 7.260483085596492e-07)\n",
      "('activeaddresses3rsi', 1.2888255132492445e-06)\n",
      "('activeaddresses7rsi', 7.314439052915314e-07)\n",
      "('activeaddresses14rsi', 5.208936253149964e-07)\n",
      "('activeaddresses30rsi', 7.601160747694487e-07)\n",
      "('activeaddresses90rsi', 3.43732412080143e-07)\n",
      "('activeaddresses3roc', 1.0565952133410626e-06)\n",
      "('activeaddresses7roc', 1.0695961562579606e-06)\n",
      "('activeaddresses14roc', 9.679856155395815e-07)\n",
      "('activeaddresses30roc', 1.1061646315909999e-06)\n",
      "('activeaddresses90roc', 1.7269793247462287e-06)\n",
      "('top100cap3sma', 3.4101013845156007e-07)\n",
      "('top100cap7sma', 4.630989431892073e-07)\n",
      "('top100cap14sma', 3.679613417561576e-07)\n",
      "('top100cap30sma', 1.6838410635835763e-06)\n",
      "('top100cap90sma', 3.3018939283473387e-06)\n",
      "('top100cap3ema', 4.4025927458352e-07)\n",
      "('top100cap7ema', 7.070770266861098e-07)\n",
      "('top100cap14ema', 8.738101388969751e-07)\n",
      "('top100cap30ema', 6.224937045567147e-06)\n",
      "('top100cap90ema', 3.849248495028074e-06)\n",
      "('top100cap3wma', 3.6162818951867e-07)\n",
      "('top100cap7wma', 4.4402272675481246e-07)\n",
      "('top100cap14wma', 5.510584614728919e-07)\n",
      "('top100cap30wma', 6.568684431030128e-07)\n",
      "('top100cap90wma', 6.175902953814934e-06)\n",
      "('top100cap3trx', 9.980148215972235e-07)\n",
      "('top100cap7trx', 8.093328557882415e-07)\n",
      "('top100cap14trx', 3.218669994813178e-06)\n",
      "('top100cap30trx', 1.8840808729421033e-05)\n",
      "('top100cap90trx', 1.0536099519094766e-07)\n",
      "('top100cap3mom', 1.1851828519714776e-06)\n",
      "('top100cap7mom', 1.854204195394819e-06)\n",
      "('top100cap14mom', 1.0512272707772358e-06)\n",
      "('top100cap30mom', 6.61306902135347e-07)\n",
      "('top100cap90mom', 1.1233077594702636e-06)\n",
      "('top100cap3std', 1.7672272047274133e-06)\n",
      "('top100cap7std', 8.932054944606419e-07)\n",
      "('top100cap14std', 2.3201030167692795e-06)\n",
      "('top100cap30std', 5.376775189436494e-06)\n",
      "('top100cap90std', 1.0647236721543337e-06)\n",
      "('top100cap3var', 1.584130873234458e-07)\n",
      "('top100cap7var', 3.545882208940245e-07)\n",
      "('top100cap14var', 1.2075942014162563e-06)\n",
      "('top100cap30var', 2.3769116273096964e-06)\n",
      "('top100cap90var', 8.521219129027103e-07)\n",
      "('top100cap3rsi', 2.653027718462887e-06)\n",
      "('top100cap7rsi', 1.012115598778023e-06)\n",
      "('top100cap14rsi', 2.2706756797587057e-06)\n",
      "('top100cap30rsi', 1.7745601294800754e-06)\n",
      "('top100cap90rsi', 1.791788880892e-06)\n",
      "('top100cap3roc', 1.492980011185086e-06)\n",
      "('top100cap7roc', 1.3157612973379044e-06)\n",
      "('top100cap14roc', 1.4528908827196327e-06)\n",
      "('top100cap30roc', 1.111870283432073e-06)\n",
      "('top100cap90roc', 9.792477983876739e-07)\n",
      "('fee_to_reward3smaUSD', 7.423021190916105e-07)\n",
      "('fee_to_reward7smaUSD', 2.3240081807453685e-07)\n",
      "('fee_to_reward14smaUSD', 6.808205657525784e-07)\n",
      "('fee_to_reward30smaUSD', 1.4757537706481398e-06)\n",
      "('fee_to_reward90smaUSD', 1.1408403158246543e-06)\n",
      "('fee_to_reward3emaUSD', 7.771484609465612e-07)\n",
      "('fee_to_reward7emaUSD', 6.785327046203779e-07)\n",
      "('fee_to_reward14emaUSD', 3.060497025413558e-07)\n",
      "('fee_to_reward30emaUSD', 4.625656278607779e-07)\n",
      "('fee_to_reward90emaUSD', 7.137918110170494e-07)\n",
      "('fee_to_reward3wmaUSD', 5.513076709951566e-07)\n",
      "('fee_to_reward7wmaUSD', 8.420532144083025e-07)\n",
      "('fee_to_reward14wmaUSD', 4.020101097644932e-07)\n",
      "('fee_to_reward30wmaUSD', 3.168239555821498e-07)\n",
      "('fee_to_reward90wmaUSD', 1.0505966989455086e-05)\n",
      "('fee_to_reward3trxUSD', 7.18231785809028e-07)\n",
      "('fee_to_reward7trxUSD', 4.671205105240175e-07)\n",
      "('fee_to_reward14trxUSD', 1.0754045467127345e-06)\n",
      "('fee_to_reward30trxUSD', 6.766608845912388e-07)\n",
      "('fee_to_reward90trxUSD', 3.56921767359296e-05)\n",
      "('fee_to_reward3momUSD', 7.612448775676304e-07)\n",
      "('fee_to_reward7momUSD', 1.5101021514522519e-06)\n",
      "('fee_to_reward14momUSD', 4.1656206254966306e-07)\n",
      "('fee_to_reward30momUSD', 1.8235139681345032e-06)\n",
      "('fee_to_reward90momUSD', 6.963802054338186e-07)\n",
      "('fee_to_reward3stdUSD', 8.978622268288157e-07)\n",
      "('fee_to_reward7stdUSD', 1.0731884159022857e-06)\n",
      "('fee_to_reward14stdUSD', 3.8077140086115887e-06)\n",
      "('fee_to_reward30stdUSD', 7.902947166208487e-07)\n",
      "('fee_to_reward90stdUSD', 7.37410470107636e-07)\n",
      "('fee_to_reward3varUSD', 1.1412301105642465e-06)\n",
      "('fee_to_reward7varUSD', 1.403576255377343e-06)\n",
      "('fee_to_reward14varUSD', 2.1590085879526015e-06)\n",
      "('fee_to_reward30varUSD', 7.44309980057118e-07)\n",
      "('fee_to_reward90varUSD', 5.725849041461474e-07)\n",
      "('fee_to_reward3rsiUSD', 1.382894940925154e-06)\n",
      "('fee_to_reward7rsiUSD', 7.383317209146509e-07)\n",
      "('fee_to_reward14rsiUSD', 4.75038401117741e-07)\n",
      "('fee_to_reward30rsiUSD', 6.71147815214101e-07)\n",
      "('fee_to_reward90rsiUSD', 2.64910959949878e-07)\n",
      "('fee_to_reward3rocUSD', 3.6050047594485335e-07)\n",
      "('fee_to_reward7rocUSD', 1.8953865708874848e-10)\n",
      "('fee_to_reward14rocUSD', 8.198008240600345e-07)\n",
      "('fee_to_reward30rocUSD', 1.471041083142782e-07)\n",
      "('fee_to_reward90rocUSD', 2.9224027738015815e-07)\n",
      "('price3smaUSD', 0.04983873011686277)\n",
      "('price7smaUSD', 0.022678257819385445)\n",
      "('price14smaUSD', 0.03461400611189761)\n",
      "('price30smaUSD', 0.02532502835808455)\n",
      "('price90smaUSD', 0.029868169570277905)\n",
      "('price3emaUSD', 0.10791765043453076)\n",
      "('price7emaUSD', 0.026784947029343684)\n",
      "('price14emaUSD', 0.030492260541472565)\n",
      "('price30emaUSD', 0.030497277122067117)\n",
      "('price90emaUSD', 0.03948111566519425)\n",
      "('price3wmaUSD', 0.1994979431551396)\n",
      "('price7wmaUSD', 0.03433008748597133)\n",
      "('price14wmaUSD', 0.02821242072630414)\n",
      "('price30wmaUSD', 0.030608949933450216)\n",
      "('price90wmaUSD', 0.04570923589540251)\n",
      "('price3trxUSD', 2.5570171683799534e-06)\n",
      "('price7trxUSD', 4.6602723326048886e-07)\n",
      "('price14trxUSD', 1.1412455016546548e-06)\n",
      "('price30trxUSD', 9.921277310230297e-07)\n",
      "('price90trxUSD', 1.033202928042922e-06)\n",
      "('price3momUSD', 1.661427027344007e-05)\n",
      "('price7momUSD', 2.8234228571982004e-06)\n",
      "('price14momUSD', 1.4645400457613465e-06)\n",
      "('price30momUSD', 8.606909423085604e-07)\n",
      "('price90momUSD', 5.995610046124005e-06)\n",
      "('price3stdUSD', 1.6360583438785155e-06)\n",
      "('price7stdUSD', 1.5198820236684834e-06)\n",
      "('price14stdUSD', 3.605676039945469e-07)\n",
      "('price30stdUSD', 8.145559316984764e-07)\n",
      "('price90stdUSD', 1.7114536563519136e-05)\n",
      "('price3varUSD', 1.7356343940543162e-06)\n",
      "('price7varUSD', 2.948921703491965e-06)\n",
      "('price14varUSD', 3.337444288176173e-07)\n",
      "('price30varUSD', 1.1168356444059718e-06)\n",
      "('price90varUSD', 2.8047448451154162e-05)\n",
      "('price3rsiUSD', 2.9962925112631603e-05)\n",
      "('price7rsiUSD', 2.4105424843416747e-05)\n",
      "('price14rsiUSD', 8.792096229743151e-06)\n",
      "('price30rsiUSD', 2.3668962223288413e-06)\n",
      "('price90rsiUSD', 7.287555635904242e-06)\n",
      "('price3rocUSD', 1.0470196258950057e-05)\n",
      "('price7rocUSD', 2.7048210056017676e-06)\n",
      "('price14rocUSD', 1.8335648682778503e-06)\n",
      "('price30rocUSD', 6.749225879117001e-07)\n",
      "('price90rocUSD', 1.5058535284621527e-06)\n"
     ]
    }
   ],
   "source": [
    "# Print the name and gini importance of each feature\n",
    "for feature in zip(X.columns, forest.feature_importances_):\n",
    "    print(feature)"
   ]
  },
  {
   "cell_type": "code",
   "execution_count": 26,
   "id": "realistic-humor",
   "metadata": {},
   "outputs": [
    {
     "ename": "KeyboardInterrupt",
     "evalue": "",
     "output_type": "error",
     "traceback": [
      "\u001b[0;31m---------------------------------------------------------------------------\u001b[0m",
      "\u001b[0;31mKeyboardInterrupt\u001b[0m                         Traceback (most recent call last)",
      "\u001b[0;32m<ipython-input-26-1cee585ca83c>\u001b[0m in \u001b[0;36m<module>\u001b[0;34m\u001b[0m\n\u001b[1;32m     22\u001b[0m     \u001b[0;31m# evaluate the model\u001b[0m\u001b[0;34m\u001b[0m\u001b[0;34m\u001b[0m\u001b[0;34m\u001b[0m\u001b[0m\n\u001b[1;32m     23\u001b[0m     \u001b[0mcv\u001b[0m \u001b[0;34m=\u001b[0m \u001b[0mRepeatedKFold\u001b[0m\u001b[0;34m(\u001b[0m\u001b[0mn_splits\u001b[0m\u001b[0;34m=\u001b[0m\u001b[0;36m10\u001b[0m\u001b[0;34m,\u001b[0m \u001b[0mn_repeats\u001b[0m\u001b[0;34m=\u001b[0m\u001b[0;36m3\u001b[0m\u001b[0;34m,\u001b[0m \u001b[0mrandom_state\u001b[0m\u001b[0;34m=\u001b[0m\u001b[0;36m1\u001b[0m\u001b[0;34m)\u001b[0m\u001b[0;34m\u001b[0m\u001b[0;34m\u001b[0m\u001b[0m\n\u001b[0;32m---> 24\u001b[0;31m     \u001b[0mscores\u001b[0m \u001b[0;34m=\u001b[0m \u001b[0mcross_val_score\u001b[0m\u001b[0;34m(\u001b[0m\u001b[0mpipeline\u001b[0m\u001b[0;34m,\u001b[0m \u001b[0mX\u001b[0m\u001b[0;34m,\u001b[0m \u001b[0my\u001b[0m\u001b[0;34m,\u001b[0m \u001b[0mscoring\u001b[0m\u001b[0;34m=\u001b[0m\u001b[0;34m'neg_mean_absolute_error'\u001b[0m\u001b[0;34m,\u001b[0m \u001b[0mcv\u001b[0m\u001b[0;34m=\u001b[0m\u001b[0mcv\u001b[0m\u001b[0;34m,\u001b[0m \u001b[0mn_jobs\u001b[0m\u001b[0;34m=\u001b[0m\u001b[0;34m-\u001b[0m\u001b[0;36m1\u001b[0m\u001b[0;34m)\u001b[0m\u001b[0;34m\u001b[0m\u001b[0;34m\u001b[0m\u001b[0m\n\u001b[0m\u001b[1;32m     25\u001b[0m     \u001b[0mresults\u001b[0m\u001b[0;34m.\u001b[0m\u001b[0mappend\u001b[0m\u001b[0;34m(\u001b[0m\u001b[0mscores\u001b[0m\u001b[0;34m)\u001b[0m\u001b[0;34m\u001b[0m\u001b[0;34m\u001b[0m\u001b[0m\n\u001b[1;32m     26\u001b[0m     \u001b[0;31m# summarize the results\u001b[0m\u001b[0;34m\u001b[0m\u001b[0;34m\u001b[0m\u001b[0;34m\u001b[0m\u001b[0m\n",
      "\u001b[0;32m~/.pyenv/versions/3.7.9/envs/nlp/lib/python3.7/site-packages/sklearn/model_selection/_validation.py\u001b[0m in \u001b[0;36mcross_val_score\u001b[0;34m(estimator, X, y, groups, scoring, cv, n_jobs, verbose, fit_params, pre_dispatch, error_score)\u001b[0m\n\u001b[1;32m    387\u001b[0m                                 \u001b[0mfit_params\u001b[0m\u001b[0;34m=\u001b[0m\u001b[0mfit_params\u001b[0m\u001b[0;34m,\u001b[0m\u001b[0;34m\u001b[0m\u001b[0;34m\u001b[0m\u001b[0m\n\u001b[1;32m    388\u001b[0m                                 \u001b[0mpre_dispatch\u001b[0m\u001b[0;34m=\u001b[0m\u001b[0mpre_dispatch\u001b[0m\u001b[0;34m,\u001b[0m\u001b[0;34m\u001b[0m\u001b[0;34m\u001b[0m\u001b[0m\n\u001b[0;32m--> 389\u001b[0;31m                                 error_score=error_score)\n\u001b[0m\u001b[1;32m    390\u001b[0m     \u001b[0;32mreturn\u001b[0m \u001b[0mcv_results\u001b[0m\u001b[0;34m[\u001b[0m\u001b[0;34m'test_score'\u001b[0m\u001b[0;34m]\u001b[0m\u001b[0;34m\u001b[0m\u001b[0;34m\u001b[0m\u001b[0m\n\u001b[1;32m    391\u001b[0m \u001b[0;34m\u001b[0m\u001b[0m\n",
      "\u001b[0;32m~/.pyenv/versions/3.7.9/envs/nlp/lib/python3.7/site-packages/sklearn/model_selection/_validation.py\u001b[0m in \u001b[0;36mcross_validate\u001b[0;34m(estimator, X, y, groups, scoring, cv, n_jobs, verbose, fit_params, pre_dispatch, return_train_score, return_estimator, error_score)\u001b[0m\n\u001b[1;32m    229\u001b[0m             \u001b[0mreturn_times\u001b[0m\u001b[0;34m=\u001b[0m\u001b[0;32mTrue\u001b[0m\u001b[0;34m,\u001b[0m \u001b[0mreturn_estimator\u001b[0m\u001b[0;34m=\u001b[0m\u001b[0mreturn_estimator\u001b[0m\u001b[0;34m,\u001b[0m\u001b[0;34m\u001b[0m\u001b[0;34m\u001b[0m\u001b[0m\n\u001b[1;32m    230\u001b[0m             error_score=error_score)\n\u001b[0;32m--> 231\u001b[0;31m         for train, test in cv.split(X, y, groups))\n\u001b[0m\u001b[1;32m    232\u001b[0m \u001b[0;34m\u001b[0m\u001b[0m\n\u001b[1;32m    233\u001b[0m     \u001b[0mzipped_scores\u001b[0m \u001b[0;34m=\u001b[0m \u001b[0mlist\u001b[0m\u001b[0;34m(\u001b[0m\u001b[0mzip\u001b[0m\u001b[0;34m(\u001b[0m\u001b[0;34m*\u001b[0m\u001b[0mscores\u001b[0m\u001b[0;34m)\u001b[0m\u001b[0;34m)\u001b[0m\u001b[0;34m\u001b[0m\u001b[0;34m\u001b[0m\u001b[0m\n",
      "\u001b[0;32m~/.pyenv/versions/3.7.9/envs/nlp/lib/python3.7/site-packages/joblib/parallel.py\u001b[0m in \u001b[0;36m__call__\u001b[0;34m(self, iterable)\u001b[0m\n\u001b[1;32m   1052\u001b[0m \u001b[0;34m\u001b[0m\u001b[0m\n\u001b[1;32m   1053\u001b[0m             \u001b[0;32mwith\u001b[0m \u001b[0mself\u001b[0m\u001b[0;34m.\u001b[0m\u001b[0m_backend\u001b[0m\u001b[0;34m.\u001b[0m\u001b[0mretrieval_context\u001b[0m\u001b[0;34m(\u001b[0m\u001b[0;34m)\u001b[0m\u001b[0;34m:\u001b[0m\u001b[0;34m\u001b[0m\u001b[0;34m\u001b[0m\u001b[0m\n\u001b[0;32m-> 1054\u001b[0;31m                 \u001b[0mself\u001b[0m\u001b[0;34m.\u001b[0m\u001b[0mretrieve\u001b[0m\u001b[0;34m(\u001b[0m\u001b[0;34m)\u001b[0m\u001b[0;34m\u001b[0m\u001b[0;34m\u001b[0m\u001b[0m\n\u001b[0m\u001b[1;32m   1055\u001b[0m             \u001b[0;31m# Make sure that we get a last message telling us we are done\u001b[0m\u001b[0;34m\u001b[0m\u001b[0;34m\u001b[0m\u001b[0;34m\u001b[0m\u001b[0m\n\u001b[1;32m   1056\u001b[0m             \u001b[0melapsed_time\u001b[0m \u001b[0;34m=\u001b[0m \u001b[0mtime\u001b[0m\u001b[0;34m.\u001b[0m\u001b[0mtime\u001b[0m\u001b[0;34m(\u001b[0m\u001b[0;34m)\u001b[0m \u001b[0;34m-\u001b[0m \u001b[0mself\u001b[0m\u001b[0;34m.\u001b[0m\u001b[0m_start_time\u001b[0m\u001b[0;34m\u001b[0m\u001b[0;34m\u001b[0m\u001b[0m\n",
      "\u001b[0;32m~/.pyenv/versions/3.7.9/envs/nlp/lib/python3.7/site-packages/joblib/parallel.py\u001b[0m in \u001b[0;36mretrieve\u001b[0;34m(self)\u001b[0m\n\u001b[1;32m    931\u001b[0m             \u001b[0;32mtry\u001b[0m\u001b[0;34m:\u001b[0m\u001b[0;34m\u001b[0m\u001b[0;34m\u001b[0m\u001b[0m\n\u001b[1;32m    932\u001b[0m                 \u001b[0;32mif\u001b[0m \u001b[0mgetattr\u001b[0m\u001b[0;34m(\u001b[0m\u001b[0mself\u001b[0m\u001b[0;34m.\u001b[0m\u001b[0m_backend\u001b[0m\u001b[0;34m,\u001b[0m \u001b[0;34m'supports_timeout'\u001b[0m\u001b[0;34m,\u001b[0m \u001b[0;32mFalse\u001b[0m\u001b[0;34m)\u001b[0m\u001b[0;34m:\u001b[0m\u001b[0;34m\u001b[0m\u001b[0;34m\u001b[0m\u001b[0m\n\u001b[0;32m--> 933\u001b[0;31m                     \u001b[0mself\u001b[0m\u001b[0;34m.\u001b[0m\u001b[0m_output\u001b[0m\u001b[0;34m.\u001b[0m\u001b[0mextend\u001b[0m\u001b[0;34m(\u001b[0m\u001b[0mjob\u001b[0m\u001b[0;34m.\u001b[0m\u001b[0mget\u001b[0m\u001b[0;34m(\u001b[0m\u001b[0mtimeout\u001b[0m\u001b[0;34m=\u001b[0m\u001b[0mself\u001b[0m\u001b[0;34m.\u001b[0m\u001b[0mtimeout\u001b[0m\u001b[0;34m)\u001b[0m\u001b[0;34m)\u001b[0m\u001b[0;34m\u001b[0m\u001b[0;34m\u001b[0m\u001b[0m\n\u001b[0m\u001b[1;32m    934\u001b[0m                 \u001b[0;32melse\u001b[0m\u001b[0;34m:\u001b[0m\u001b[0;34m\u001b[0m\u001b[0;34m\u001b[0m\u001b[0m\n\u001b[1;32m    935\u001b[0m                     \u001b[0mself\u001b[0m\u001b[0;34m.\u001b[0m\u001b[0m_output\u001b[0m\u001b[0;34m.\u001b[0m\u001b[0mextend\u001b[0m\u001b[0;34m(\u001b[0m\u001b[0mjob\u001b[0m\u001b[0;34m.\u001b[0m\u001b[0mget\u001b[0m\u001b[0;34m(\u001b[0m\u001b[0;34m)\u001b[0m\u001b[0;34m)\u001b[0m\u001b[0;34m\u001b[0m\u001b[0;34m\u001b[0m\u001b[0m\n",
      "\u001b[0;32m~/.pyenv/versions/3.7.9/envs/nlp/lib/python3.7/site-packages/joblib/_parallel_backends.py\u001b[0m in \u001b[0;36mwrap_future_result\u001b[0;34m(future, timeout)\u001b[0m\n\u001b[1;32m    540\u001b[0m         AsyncResults.get from multiprocessing.\"\"\"\n\u001b[1;32m    541\u001b[0m         \u001b[0;32mtry\u001b[0m\u001b[0;34m:\u001b[0m\u001b[0;34m\u001b[0m\u001b[0;34m\u001b[0m\u001b[0m\n\u001b[0;32m--> 542\u001b[0;31m             \u001b[0;32mreturn\u001b[0m \u001b[0mfuture\u001b[0m\u001b[0;34m.\u001b[0m\u001b[0mresult\u001b[0m\u001b[0;34m(\u001b[0m\u001b[0mtimeout\u001b[0m\u001b[0;34m=\u001b[0m\u001b[0mtimeout\u001b[0m\u001b[0;34m)\u001b[0m\u001b[0;34m\u001b[0m\u001b[0;34m\u001b[0m\u001b[0m\n\u001b[0m\u001b[1;32m    543\u001b[0m         \u001b[0;32mexcept\u001b[0m \u001b[0mCfTimeoutError\u001b[0m \u001b[0;32mas\u001b[0m \u001b[0me\u001b[0m\u001b[0;34m:\u001b[0m\u001b[0;34m\u001b[0m\u001b[0;34m\u001b[0m\u001b[0m\n\u001b[1;32m    544\u001b[0m             \u001b[0;32mraise\u001b[0m \u001b[0mTimeoutError\u001b[0m \u001b[0;32mfrom\u001b[0m \u001b[0me\u001b[0m\u001b[0;34m\u001b[0m\u001b[0;34m\u001b[0m\u001b[0m\n",
      "\u001b[0;32m~/.pyenv/versions/3.7.9/lib/python3.7/concurrent/futures/_base.py\u001b[0m in \u001b[0;36mresult\u001b[0;34m(self, timeout)\u001b[0m\n\u001b[1;32m    428\u001b[0m                 \u001b[0;32mreturn\u001b[0m \u001b[0mself\u001b[0m\u001b[0;34m.\u001b[0m\u001b[0m__get_result\u001b[0m\u001b[0;34m(\u001b[0m\u001b[0;34m)\u001b[0m\u001b[0;34m\u001b[0m\u001b[0;34m\u001b[0m\u001b[0m\n\u001b[1;32m    429\u001b[0m \u001b[0;34m\u001b[0m\u001b[0m\n\u001b[0;32m--> 430\u001b[0;31m             \u001b[0mself\u001b[0m\u001b[0;34m.\u001b[0m\u001b[0m_condition\u001b[0m\u001b[0;34m.\u001b[0m\u001b[0mwait\u001b[0m\u001b[0;34m(\u001b[0m\u001b[0mtimeout\u001b[0m\u001b[0;34m)\u001b[0m\u001b[0;34m\u001b[0m\u001b[0;34m\u001b[0m\u001b[0m\n\u001b[0m\u001b[1;32m    431\u001b[0m \u001b[0;34m\u001b[0m\u001b[0m\n\u001b[1;32m    432\u001b[0m             \u001b[0;32mif\u001b[0m \u001b[0mself\u001b[0m\u001b[0;34m.\u001b[0m\u001b[0m_state\u001b[0m \u001b[0;32min\u001b[0m \u001b[0;34m[\u001b[0m\u001b[0mCANCELLED\u001b[0m\u001b[0;34m,\u001b[0m \u001b[0mCANCELLED_AND_NOTIFIED\u001b[0m\u001b[0;34m]\u001b[0m\u001b[0;34m:\u001b[0m\u001b[0;34m\u001b[0m\u001b[0;34m\u001b[0m\u001b[0m\n",
      "\u001b[0;32m~/.pyenv/versions/3.7.9/lib/python3.7/threading.py\u001b[0m in \u001b[0;36mwait\u001b[0;34m(self, timeout)\u001b[0m\n\u001b[1;32m    294\u001b[0m         \u001b[0;32mtry\u001b[0m\u001b[0;34m:\u001b[0m    \u001b[0;31m# restore state no matter what (e.g., KeyboardInterrupt)\u001b[0m\u001b[0;34m\u001b[0m\u001b[0;34m\u001b[0m\u001b[0m\n\u001b[1;32m    295\u001b[0m             \u001b[0;32mif\u001b[0m \u001b[0mtimeout\u001b[0m \u001b[0;32mis\u001b[0m \u001b[0;32mNone\u001b[0m\u001b[0;34m:\u001b[0m\u001b[0;34m\u001b[0m\u001b[0;34m\u001b[0m\u001b[0m\n\u001b[0;32m--> 296\u001b[0;31m                 \u001b[0mwaiter\u001b[0m\u001b[0;34m.\u001b[0m\u001b[0macquire\u001b[0m\u001b[0;34m(\u001b[0m\u001b[0;34m)\u001b[0m\u001b[0;34m\u001b[0m\u001b[0;34m\u001b[0m\u001b[0m\n\u001b[0m\u001b[1;32m    297\u001b[0m                 \u001b[0mgotit\u001b[0m \u001b[0;34m=\u001b[0m \u001b[0;32mTrue\u001b[0m\u001b[0;34m\u001b[0m\u001b[0;34m\u001b[0m\u001b[0m\n\u001b[1;32m    298\u001b[0m             \u001b[0;32melse\u001b[0m\u001b[0;34m:\u001b[0m\u001b[0;34m\u001b[0m\u001b[0;34m\u001b[0m\u001b[0m\n",
      "\u001b[0;31mKeyboardInterrupt\u001b[0m: "
     ]
    }
   ],
   "source": [
    "from numpy import mean\n",
    "from numpy import std\n",
    "from sklearn.datasets import make_regression\n",
    "from sklearn.model_selection import cross_val_score\n",
    "from sklearn.model_selection import RepeatedKFold\n",
    "from sklearn.feature_selection import SelectKBest\n",
    "from sklearn.feature_selection import mutual_info_regression\n",
    "from sklearn.linear_model import LinearRegression\n",
    "from sklearn.pipeline import Pipeline\n",
    "from matplotlib import pyplot\n",
    "\n",
    "# define number of features to evaluate\n",
    "num_features = [i for i in range(10, 20)]\n",
    "\n",
    "# enumerate each number of features\n",
    "results = list()\n",
    "for k in num_features:\n",
    "    # create pipeline\n",
    "    model = RandomForestRegressor(random_state=7,n_jobs=-1)\n",
    "    fs = SelectKBest(score_func=mutual_info_regression, k=k)\n",
    "    pipeline = Pipeline(steps=[('sel',fs), ('lr', model)])\n",
    "    # evaluate the model\n",
    "    cv = RepeatedKFold(n_splits=10, n_repeats=3, random_state=1)\n",
    "    scores = cross_val_score(pipeline, X, y, scoring='neg_mean_absolute_error', cv=cv, n_jobs=-1)\n",
    "    results.append(scores)\n",
    "    # summarize the results\n",
    "    print('>%d %.3f (%.3f)' % (k, mean(scores), std(scores)))\n",
    "# plot model performance for comparison\n",
    "pyplot.boxplot(results, labels=num_features, showmeans=True)\n",
    "pyplot.show()"
   ]
  },
  {
   "cell_type": "code",
   "execution_count": 31,
   "id": "related-bidder",
   "metadata": {},
   "outputs": [
    {
     "name": "stdout",
     "output_type": "stream",
     "text": [
      "Fitting estimator with 16 features.\n"
     ]
    },
    {
     "name": "stderr",
     "output_type": "stream",
     "text": [
      "/root/.pyenv/versions/3.7.9/envs/nlp/lib/python3.7/site-packages/sklearn/ensemble/forest.py:245: FutureWarning: The default value of n_estimators will change from 10 in version 0.20 to 100 in 0.22.\n",
      "  \"10 in version 0.20 to 100 in 0.22.\", FutureWarning)\n"
     ]
    },
    {
     "name": "stdout",
     "output_type": "stream",
     "text": [
      "Fitting estimator with 2 features.\n"
     ]
    },
    {
     "name": "stderr",
     "output_type": "stream",
     "text": [
      "/root/.pyenv/versions/3.7.9/envs/nlp/lib/python3.7/site-packages/sklearn/ensemble/forest.py:245: FutureWarning: The default value of n_estimators will change from 10 in version 0.20 to 100 in 0.22.\n",
      "  \"10 in version 0.20 to 100 in 0.22.\", FutureWarning)\n",
      "/root/.pyenv/versions/3.7.9/envs/nlp/lib/python3.7/site-packages/sklearn/ensemble/forest.py:245: FutureWarning: The default value of n_estimators will change from 10 in version 0.20 to 100 in 0.22.\n",
      "  \"10 in version 0.20 to 100 in 0.22.\", FutureWarning)\n",
      "/root/.pyenv/versions/3.7.9/envs/nlp/lib/python3.7/site-packages/sklearn/ensemble/forest.py:245: FutureWarning: The default value of n_estimators will change from 10 in version 0.20 to 100 in 0.22.\n",
      "  \"10 in version 0.20 to 100 in 0.22.\", FutureWarning)\n"
     ]
    },
    {
     "name": "stdout",
     "output_type": "stream",
     "text": [
      "Index(['3sma: price3smaUSD'], dtype='object')\n",
      "Fitting estimator with 16 features.\n"
     ]
    },
    {
     "name": "stderr",
     "output_type": "stream",
     "text": [
      "/root/.pyenv/versions/3.7.9/envs/nlp/lib/python3.7/site-packages/sklearn/ensemble/forest.py:245: FutureWarning: The default value of n_estimators will change from 10 in version 0.20 to 100 in 0.22.\n",
      "  \"10 in version 0.20 to 100 in 0.22.\", FutureWarning)\n"
     ]
    },
    {
     "name": "stdout",
     "output_type": "stream",
     "text": [
      "Fitting estimator with 2 features.\n"
     ]
    },
    {
     "name": "stderr",
     "output_type": "stream",
     "text": [
      "/root/.pyenv/versions/3.7.9/envs/nlp/lib/python3.7/site-packages/sklearn/ensemble/forest.py:245: FutureWarning: The default value of n_estimators will change from 10 in version 0.20 to 100 in 0.22.\n",
      "  \"10 in version 0.20 to 100 in 0.22.\", FutureWarning)\n",
      "/root/.pyenv/versions/3.7.9/envs/nlp/lib/python3.7/site-packages/sklearn/ensemble/forest.py:245: FutureWarning: The default value of n_estimators will change from 10 in version 0.20 to 100 in 0.22.\n",
      "  \"10 in version 0.20 to 100 in 0.22.\", FutureWarning)\n",
      "/root/.pyenv/versions/3.7.9/envs/nlp/lib/python3.7/site-packages/sklearn/ensemble/forest.py:245: FutureWarning: The default value of n_estimators will change from 10 in version 0.20 to 100 in 0.22.\n",
      "  \"10 in version 0.20 to 100 in 0.22.\", FutureWarning)\n"
     ]
    },
    {
     "name": "stdout",
     "output_type": "stream",
     "text": [
      "Index(['7sma: price7smaUSD'], dtype='object')\n",
      "Fitting estimator with 16 features.\n"
     ]
    },
    {
     "name": "stderr",
     "output_type": "stream",
     "text": [
      "/root/.pyenv/versions/3.7.9/envs/nlp/lib/python3.7/site-packages/sklearn/ensemble/forest.py:245: FutureWarning: The default value of n_estimators will change from 10 in version 0.20 to 100 in 0.22.\n",
      "  \"10 in version 0.20 to 100 in 0.22.\", FutureWarning)\n"
     ]
    },
    {
     "name": "stdout",
     "output_type": "stream",
     "text": [
      "Fitting estimator with 2 features.\n"
     ]
    },
    {
     "name": "stderr",
     "output_type": "stream",
     "text": [
      "/root/.pyenv/versions/3.7.9/envs/nlp/lib/python3.7/site-packages/sklearn/ensemble/forest.py:245: FutureWarning: The default value of n_estimators will change from 10 in version 0.20 to 100 in 0.22.\n",
      "  \"10 in version 0.20 to 100 in 0.22.\", FutureWarning)\n",
      "/root/.pyenv/versions/3.7.9/envs/nlp/lib/python3.7/site-packages/sklearn/ensemble/forest.py:245: FutureWarning: The default value of n_estimators will change from 10 in version 0.20 to 100 in 0.22.\n",
      "  \"10 in version 0.20 to 100 in 0.22.\", FutureWarning)\n",
      "/root/.pyenv/versions/3.7.9/envs/nlp/lib/python3.7/site-packages/sklearn/ensemble/forest.py:245: FutureWarning: The default value of n_estimators will change from 10 in version 0.20 to 100 in 0.22.\n",
      "  \"10 in version 0.20 to 100 in 0.22.\", FutureWarning)\n"
     ]
    },
    {
     "name": "stdout",
     "output_type": "stream",
     "text": [
      "Index(['14sma: price14smaUSD'], dtype='object')\n",
      "Fitting estimator with 16 features.\n"
     ]
    },
    {
     "name": "stderr",
     "output_type": "stream",
     "text": [
      "/root/.pyenv/versions/3.7.9/envs/nlp/lib/python3.7/site-packages/sklearn/ensemble/forest.py:245: FutureWarning: The default value of n_estimators will change from 10 in version 0.20 to 100 in 0.22.\n",
      "  \"10 in version 0.20 to 100 in 0.22.\", FutureWarning)\n"
     ]
    },
    {
     "name": "stdout",
     "output_type": "stream",
     "text": [
      "Fitting estimator with 2 features.\n"
     ]
    },
    {
     "name": "stderr",
     "output_type": "stream",
     "text": [
      "/root/.pyenv/versions/3.7.9/envs/nlp/lib/python3.7/site-packages/sklearn/ensemble/forest.py:245: FutureWarning: The default value of n_estimators will change from 10 in version 0.20 to 100 in 0.22.\n",
      "  \"10 in version 0.20 to 100 in 0.22.\", FutureWarning)\n",
      "/root/.pyenv/versions/3.7.9/envs/nlp/lib/python3.7/site-packages/sklearn/ensemble/forest.py:245: FutureWarning: The default value of n_estimators will change from 10 in version 0.20 to 100 in 0.22.\n",
      "  \"10 in version 0.20 to 100 in 0.22.\", FutureWarning)\n",
      "/root/.pyenv/versions/3.7.9/envs/nlp/lib/python3.7/site-packages/sklearn/ensemble/forest.py:245: FutureWarning: The default value of n_estimators will change from 10 in version 0.20 to 100 in 0.22.\n",
      "  \"10 in version 0.20 to 100 in 0.22.\", FutureWarning)\n"
     ]
    },
    {
     "name": "stdout",
     "output_type": "stream",
     "text": [
      "Index(['30sma: price30smaUSD'], dtype='object')\n"
     ]
    },
    {
     "name": "stderr",
     "output_type": "stream",
     "text": [
      "/root/.pyenv/versions/3.7.9/envs/nlp/lib/python3.7/site-packages/sklearn/ensemble/forest.py:245: FutureWarning: The default value of n_estimators will change from 10 in version 0.20 to 100 in 0.22.\n",
      "  \"10 in version 0.20 to 100 in 0.22.\", FutureWarning)\n",
      "/root/.pyenv/versions/3.7.9/envs/nlp/lib/python3.7/site-packages/sklearn/ensemble/forest.py:245: FutureWarning: The default value of n_estimators will change from 10 in version 0.20 to 100 in 0.22.\n",
      "  \"10 in version 0.20 to 100 in 0.22.\", FutureWarning)\n",
      "/root/.pyenv/versions/3.7.9/envs/nlp/lib/python3.7/site-packages/sklearn/ensemble/forest.py:245: FutureWarning: The default value of n_estimators will change from 10 in version 0.20 to 100 in 0.22.\n",
      "  \"10 in version 0.20 to 100 in 0.22.\", FutureWarning)\n"
     ]
    },
    {
     "name": "stdout",
     "output_type": "stream",
     "text": [
      "90sma: transactionvalue90smaUSD\n",
      "Fitting estimator with 16 features.\n"
     ]
    },
    {
     "name": "stderr",
     "output_type": "stream",
     "text": [
      "/root/.pyenv/versions/3.7.9/envs/nlp/lib/python3.7/site-packages/sklearn/ensemble/forest.py:245: FutureWarning: The default value of n_estimators will change from 10 in version 0.20 to 100 in 0.22.\n",
      "  \"10 in version 0.20 to 100 in 0.22.\", FutureWarning)\n"
     ]
    },
    {
     "name": "stdout",
     "output_type": "stream",
     "text": [
      "Fitting estimator with 2 features.\n"
     ]
    },
    {
     "name": "stderr",
     "output_type": "stream",
     "text": [
      "/root/.pyenv/versions/3.7.9/envs/nlp/lib/python3.7/site-packages/sklearn/ensemble/forest.py:245: FutureWarning: The default value of n_estimators will change from 10 in version 0.20 to 100 in 0.22.\n",
      "  \"10 in version 0.20 to 100 in 0.22.\", FutureWarning)\n",
      "/root/.pyenv/versions/3.7.9/envs/nlp/lib/python3.7/site-packages/sklearn/ensemble/forest.py:245: FutureWarning: The default value of n_estimators will change from 10 in version 0.20 to 100 in 0.22.\n",
      "  \"10 in version 0.20 to 100 in 0.22.\", FutureWarning)\n",
      "/root/.pyenv/versions/3.7.9/envs/nlp/lib/python3.7/site-packages/sklearn/ensemble/forest.py:245: FutureWarning: The default value of n_estimators will change from 10 in version 0.20 to 100 in 0.22.\n",
      "  \"10 in version 0.20 to 100 in 0.22.\", FutureWarning)\n"
     ]
    },
    {
     "name": "stdout",
     "output_type": "stream",
     "text": [
      "Index(['3ema: price3emaUSD'], dtype='object')\n",
      "Fitting estimator with 16 features.\n"
     ]
    },
    {
     "name": "stderr",
     "output_type": "stream",
     "text": [
      "/root/.pyenv/versions/3.7.9/envs/nlp/lib/python3.7/site-packages/sklearn/ensemble/forest.py:245: FutureWarning: The default value of n_estimators will change from 10 in version 0.20 to 100 in 0.22.\n",
      "  \"10 in version 0.20 to 100 in 0.22.\", FutureWarning)\n"
     ]
    },
    {
     "name": "stdout",
     "output_type": "stream",
     "text": [
      "Fitting estimator with 2 features.\n"
     ]
    },
    {
     "name": "stderr",
     "output_type": "stream",
     "text": [
      "/root/.pyenv/versions/3.7.9/envs/nlp/lib/python3.7/site-packages/sklearn/ensemble/forest.py:245: FutureWarning: The default value of n_estimators will change from 10 in version 0.20 to 100 in 0.22.\n",
      "  \"10 in version 0.20 to 100 in 0.22.\", FutureWarning)\n",
      "/root/.pyenv/versions/3.7.9/envs/nlp/lib/python3.7/site-packages/sklearn/ensemble/forest.py:245: FutureWarning: The default value of n_estimators will change from 10 in version 0.20 to 100 in 0.22.\n",
      "  \"10 in version 0.20 to 100 in 0.22.\", FutureWarning)\n",
      "/root/.pyenv/versions/3.7.9/envs/nlp/lib/python3.7/site-packages/sklearn/ensemble/forest.py:245: FutureWarning: The default value of n_estimators will change from 10 in version 0.20 to 100 in 0.22.\n",
      "  \"10 in version 0.20 to 100 in 0.22.\", FutureWarning)\n"
     ]
    },
    {
     "name": "stdout",
     "output_type": "stream",
     "text": [
      "Index(['7ema: price7emaUSD'], dtype='object')\n",
      "Fitting estimator with 16 features.\n"
     ]
    },
    {
     "name": "stderr",
     "output_type": "stream",
     "text": [
      "/root/.pyenv/versions/3.7.9/envs/nlp/lib/python3.7/site-packages/sklearn/ensemble/forest.py:245: FutureWarning: The default value of n_estimators will change from 10 in version 0.20 to 100 in 0.22.\n",
      "  \"10 in version 0.20 to 100 in 0.22.\", FutureWarning)\n"
     ]
    },
    {
     "name": "stdout",
     "output_type": "stream",
     "text": [
      "Fitting estimator with 2 features.\n"
     ]
    },
    {
     "name": "stderr",
     "output_type": "stream",
     "text": [
      "/root/.pyenv/versions/3.7.9/envs/nlp/lib/python3.7/site-packages/sklearn/ensemble/forest.py:245: FutureWarning: The default value of n_estimators will change from 10 in version 0.20 to 100 in 0.22.\n",
      "  \"10 in version 0.20 to 100 in 0.22.\", FutureWarning)\n",
      "/root/.pyenv/versions/3.7.9/envs/nlp/lib/python3.7/site-packages/sklearn/ensemble/forest.py:245: FutureWarning: The default value of n_estimators will change from 10 in version 0.20 to 100 in 0.22.\n",
      "  \"10 in version 0.20 to 100 in 0.22.\", FutureWarning)\n",
      "/root/.pyenv/versions/3.7.9/envs/nlp/lib/python3.7/site-packages/sklearn/ensemble/forest.py:245: FutureWarning: The default value of n_estimators will change from 10 in version 0.20 to 100 in 0.22.\n",
      "  \"10 in version 0.20 to 100 in 0.22.\", FutureWarning)\n"
     ]
    },
    {
     "name": "stdout",
     "output_type": "stream",
     "text": [
      "Index(['14ema: price14emaUSD'], dtype='object')\n",
      "Fitting estimator with 16 features.\n"
     ]
    },
    {
     "name": "stderr",
     "output_type": "stream",
     "text": [
      "/root/.pyenv/versions/3.7.9/envs/nlp/lib/python3.7/site-packages/sklearn/ensemble/forest.py:245: FutureWarning: The default value of n_estimators will change from 10 in version 0.20 to 100 in 0.22.\n",
      "  \"10 in version 0.20 to 100 in 0.22.\", FutureWarning)\n"
     ]
    },
    {
     "name": "stdout",
     "output_type": "stream",
     "text": [
      "Fitting estimator with 2 features.\n"
     ]
    },
    {
     "name": "stderr",
     "output_type": "stream",
     "text": [
      "/root/.pyenv/versions/3.7.9/envs/nlp/lib/python3.7/site-packages/sklearn/ensemble/forest.py:245: FutureWarning: The default value of n_estimators will change from 10 in version 0.20 to 100 in 0.22.\n",
      "  \"10 in version 0.20 to 100 in 0.22.\", FutureWarning)\n",
      "/root/.pyenv/versions/3.7.9/envs/nlp/lib/python3.7/site-packages/sklearn/ensemble/forest.py:245: FutureWarning: The default value of n_estimators will change from 10 in version 0.20 to 100 in 0.22.\n",
      "  \"10 in version 0.20 to 100 in 0.22.\", FutureWarning)\n",
      "/root/.pyenv/versions/3.7.9/envs/nlp/lib/python3.7/site-packages/sklearn/ensemble/forest.py:245: FutureWarning: The default value of n_estimators will change from 10 in version 0.20 to 100 in 0.22.\n",
      "  \"10 in version 0.20 to 100 in 0.22.\", FutureWarning)\n"
     ]
    },
    {
     "name": "stdout",
     "output_type": "stream",
     "text": [
      "Index(['30ema: price30emaUSD'], dtype='object')\n",
      "Fitting estimator with 16 features.\n"
     ]
    },
    {
     "name": "stderr",
     "output_type": "stream",
     "text": [
      "/root/.pyenv/versions/3.7.9/envs/nlp/lib/python3.7/site-packages/sklearn/ensemble/forest.py:245: FutureWarning: The default value of n_estimators will change from 10 in version 0.20 to 100 in 0.22.\n",
      "  \"10 in version 0.20 to 100 in 0.22.\", FutureWarning)\n"
     ]
    },
    {
     "name": "stdout",
     "output_type": "stream",
     "text": [
      "Fitting estimator with 2 features.\n"
     ]
    },
    {
     "name": "stderr",
     "output_type": "stream",
     "text": [
      "/root/.pyenv/versions/3.7.9/envs/nlp/lib/python3.7/site-packages/sklearn/ensemble/forest.py:245: FutureWarning: The default value of n_estimators will change from 10 in version 0.20 to 100 in 0.22.\n",
      "  \"10 in version 0.20 to 100 in 0.22.\", FutureWarning)\n",
      "/root/.pyenv/versions/3.7.9/envs/nlp/lib/python3.7/site-packages/sklearn/ensemble/forest.py:245: FutureWarning: The default value of n_estimators will change from 10 in version 0.20 to 100 in 0.22.\n",
      "  \"10 in version 0.20 to 100 in 0.22.\", FutureWarning)\n",
      "/root/.pyenv/versions/3.7.9/envs/nlp/lib/python3.7/site-packages/sklearn/ensemble/forest.py:245: FutureWarning: The default value of n_estimators will change from 10 in version 0.20 to 100 in 0.22.\n",
      "  \"10 in version 0.20 to 100 in 0.22.\", FutureWarning)\n"
     ]
    },
    {
     "name": "stdout",
     "output_type": "stream",
     "text": [
      "Index(['90ema: price90emaUSD'], dtype='object')\n",
      "Fitting estimator with 16 features.\n"
     ]
    },
    {
     "name": "stderr",
     "output_type": "stream",
     "text": [
      "/root/.pyenv/versions/3.7.9/envs/nlp/lib/python3.7/site-packages/sklearn/ensemble/forest.py:245: FutureWarning: The default value of n_estimators will change from 10 in version 0.20 to 100 in 0.22.\n",
      "  \"10 in version 0.20 to 100 in 0.22.\", FutureWarning)\n"
     ]
    },
    {
     "name": "stdout",
     "output_type": "stream",
     "text": [
      "Fitting estimator with 2 features.\n"
     ]
    },
    {
     "name": "stderr",
     "output_type": "stream",
     "text": [
      "/root/.pyenv/versions/3.7.9/envs/nlp/lib/python3.7/site-packages/sklearn/ensemble/forest.py:245: FutureWarning: The default value of n_estimators will change from 10 in version 0.20 to 100 in 0.22.\n",
      "  \"10 in version 0.20 to 100 in 0.22.\", FutureWarning)\n",
      "/root/.pyenv/versions/3.7.9/envs/nlp/lib/python3.7/site-packages/sklearn/ensemble/forest.py:245: FutureWarning: The default value of n_estimators will change from 10 in version 0.20 to 100 in 0.22.\n",
      "  \"10 in version 0.20 to 100 in 0.22.\", FutureWarning)\n",
      "/root/.pyenv/versions/3.7.9/envs/nlp/lib/python3.7/site-packages/sklearn/ensemble/forest.py:245: FutureWarning: The default value of n_estimators will change from 10 in version 0.20 to 100 in 0.22.\n",
      "  \"10 in version 0.20 to 100 in 0.22.\", FutureWarning)\n"
     ]
    },
    {
     "name": "stdout",
     "output_type": "stream",
     "text": [
      "Index(['3wma: price3wmaUSD'], dtype='object')\n",
      "Fitting estimator with 16 features.\n"
     ]
    },
    {
     "name": "stderr",
     "output_type": "stream",
     "text": [
      "/root/.pyenv/versions/3.7.9/envs/nlp/lib/python3.7/site-packages/sklearn/ensemble/forest.py:245: FutureWarning: The default value of n_estimators will change from 10 in version 0.20 to 100 in 0.22.\n",
      "  \"10 in version 0.20 to 100 in 0.22.\", FutureWarning)\n"
     ]
    },
    {
     "name": "stdout",
     "output_type": "stream",
     "text": [
      "Fitting estimator with 2 features.\n"
     ]
    },
    {
     "name": "stderr",
     "output_type": "stream",
     "text": [
      "/root/.pyenv/versions/3.7.9/envs/nlp/lib/python3.7/site-packages/sklearn/ensemble/forest.py:245: FutureWarning: The default value of n_estimators will change from 10 in version 0.20 to 100 in 0.22.\n",
      "  \"10 in version 0.20 to 100 in 0.22.\", FutureWarning)\n",
      "/root/.pyenv/versions/3.7.9/envs/nlp/lib/python3.7/site-packages/sklearn/ensemble/forest.py:245: FutureWarning: The default value of n_estimators will change from 10 in version 0.20 to 100 in 0.22.\n",
      "  \"10 in version 0.20 to 100 in 0.22.\", FutureWarning)\n",
      "/root/.pyenv/versions/3.7.9/envs/nlp/lib/python3.7/site-packages/sklearn/ensemble/forest.py:245: FutureWarning: The default value of n_estimators will change from 10 in version 0.20 to 100 in 0.22.\n",
      "  \"10 in version 0.20 to 100 in 0.22.\", FutureWarning)\n"
     ]
    },
    {
     "name": "stdout",
     "output_type": "stream",
     "text": [
      "Index(['7wma: price7wmaUSD'], dtype='object')\n",
      "Fitting estimator with 16 features.\n"
     ]
    },
    {
     "name": "stderr",
     "output_type": "stream",
     "text": [
      "/root/.pyenv/versions/3.7.9/envs/nlp/lib/python3.7/site-packages/sklearn/ensemble/forest.py:245: FutureWarning: The default value of n_estimators will change from 10 in version 0.20 to 100 in 0.22.\n",
      "  \"10 in version 0.20 to 100 in 0.22.\", FutureWarning)\n"
     ]
    },
    {
     "name": "stdout",
     "output_type": "stream",
     "text": [
      "Fitting estimator with 2 features.\n"
     ]
    },
    {
     "name": "stderr",
     "output_type": "stream",
     "text": [
      "/root/.pyenv/versions/3.7.9/envs/nlp/lib/python3.7/site-packages/sklearn/ensemble/forest.py:245: FutureWarning: The default value of n_estimators will change from 10 in version 0.20 to 100 in 0.22.\n",
      "  \"10 in version 0.20 to 100 in 0.22.\", FutureWarning)\n",
      "/root/.pyenv/versions/3.7.9/envs/nlp/lib/python3.7/site-packages/sklearn/ensemble/forest.py:245: FutureWarning: The default value of n_estimators will change from 10 in version 0.20 to 100 in 0.22.\n",
      "  \"10 in version 0.20 to 100 in 0.22.\", FutureWarning)\n",
      "/root/.pyenv/versions/3.7.9/envs/nlp/lib/python3.7/site-packages/sklearn/ensemble/forest.py:245: FutureWarning: The default value of n_estimators will change from 10 in version 0.20 to 100 in 0.22.\n",
      "  \"10 in version 0.20 to 100 in 0.22.\", FutureWarning)\n"
     ]
    },
    {
     "name": "stdout",
     "output_type": "stream",
     "text": [
      "Index(['14wma: price14wmaUSD'], dtype='object')\n",
      "Fitting estimator with 16 features.\n"
     ]
    },
    {
     "name": "stderr",
     "output_type": "stream",
     "text": [
      "/root/.pyenv/versions/3.7.9/envs/nlp/lib/python3.7/site-packages/sklearn/ensemble/forest.py:245: FutureWarning: The default value of n_estimators will change from 10 in version 0.20 to 100 in 0.22.\n",
      "  \"10 in version 0.20 to 100 in 0.22.\", FutureWarning)\n"
     ]
    },
    {
     "name": "stdout",
     "output_type": "stream",
     "text": [
      "Fitting estimator with 2 features.\n"
     ]
    },
    {
     "name": "stderr",
     "output_type": "stream",
     "text": [
      "/root/.pyenv/versions/3.7.9/envs/nlp/lib/python3.7/site-packages/sklearn/ensemble/forest.py:245: FutureWarning: The default value of n_estimators will change from 10 in version 0.20 to 100 in 0.22.\n",
      "  \"10 in version 0.20 to 100 in 0.22.\", FutureWarning)\n",
      "/root/.pyenv/versions/3.7.9/envs/nlp/lib/python3.7/site-packages/sklearn/ensemble/forest.py:245: FutureWarning: The default value of n_estimators will change from 10 in version 0.20 to 100 in 0.22.\n",
      "  \"10 in version 0.20 to 100 in 0.22.\", FutureWarning)\n",
      "/root/.pyenv/versions/3.7.9/envs/nlp/lib/python3.7/site-packages/sklearn/ensemble/forest.py:245: FutureWarning: The default value of n_estimators will change from 10 in version 0.20 to 100 in 0.22.\n",
      "  \"10 in version 0.20 to 100 in 0.22.\", FutureWarning)\n"
     ]
    },
    {
     "name": "stdout",
     "output_type": "stream",
     "text": [
      "Index(['30wma: price30wmaUSD'], dtype='object')\n",
      "Fitting estimator with 16 features.\n"
     ]
    },
    {
     "name": "stderr",
     "output_type": "stream",
     "text": [
      "/root/.pyenv/versions/3.7.9/envs/nlp/lib/python3.7/site-packages/sklearn/ensemble/forest.py:245: FutureWarning: The default value of n_estimators will change from 10 in version 0.20 to 100 in 0.22.\n",
      "  \"10 in version 0.20 to 100 in 0.22.\", FutureWarning)\n"
     ]
    },
    {
     "name": "stdout",
     "output_type": "stream",
     "text": [
      "Fitting estimator with 2 features.\n"
     ]
    },
    {
     "name": "stderr",
     "output_type": "stream",
     "text": [
      "/root/.pyenv/versions/3.7.9/envs/nlp/lib/python3.7/site-packages/sklearn/ensemble/forest.py:245: FutureWarning: The default value of n_estimators will change from 10 in version 0.20 to 100 in 0.22.\n",
      "  \"10 in version 0.20 to 100 in 0.22.\", FutureWarning)\n",
      "/root/.pyenv/versions/3.7.9/envs/nlp/lib/python3.7/site-packages/sklearn/ensemble/forest.py:245: FutureWarning: The default value of n_estimators will change from 10 in version 0.20 to 100 in 0.22.\n",
      "  \"10 in version 0.20 to 100 in 0.22.\", FutureWarning)\n",
      "/root/.pyenv/versions/3.7.9/envs/nlp/lib/python3.7/site-packages/sklearn/ensemble/forest.py:245: FutureWarning: The default value of n_estimators will change from 10 in version 0.20 to 100 in 0.22.\n",
      "  \"10 in version 0.20 to 100 in 0.22.\", FutureWarning)\n"
     ]
    },
    {
     "name": "stdout",
     "output_type": "stream",
     "text": [
      "Index(['90wma: price90wmaUSD'], dtype='object')\n",
      "Fitting estimator with 16 features.\n"
     ]
    },
    {
     "name": "stderr",
     "output_type": "stream",
     "text": [
      "/root/.pyenv/versions/3.7.9/envs/nlp/lib/python3.7/site-packages/sklearn/ensemble/forest.py:245: FutureWarning: The default value of n_estimators will change from 10 in version 0.20 to 100 in 0.22.\n",
      "  \"10 in version 0.20 to 100 in 0.22.\", FutureWarning)\n"
     ]
    },
    {
     "name": "stdout",
     "output_type": "stream",
     "text": [
      "Fitting estimator with 2 features.\n"
     ]
    },
    {
     "name": "stderr",
     "output_type": "stream",
     "text": [
      "/root/.pyenv/versions/3.7.9/envs/nlp/lib/python3.7/site-packages/sklearn/ensemble/forest.py:245: FutureWarning: The default value of n_estimators will change from 10 in version 0.20 to 100 in 0.22.\n",
      "  \"10 in version 0.20 to 100 in 0.22.\", FutureWarning)\n",
      "/root/.pyenv/versions/3.7.9/envs/nlp/lib/python3.7/site-packages/sklearn/ensemble/forest.py:245: FutureWarning: The default value of n_estimators will change from 10 in version 0.20 to 100 in 0.22.\n",
      "  \"10 in version 0.20 to 100 in 0.22.\", FutureWarning)\n",
      "/root/.pyenv/versions/3.7.9/envs/nlp/lib/python3.7/site-packages/sklearn/ensemble/forest.py:245: FutureWarning: The default value of n_estimators will change from 10 in version 0.20 to 100 in 0.22.\n",
      "  \"10 in version 0.20 to 100 in 0.22.\", FutureWarning)\n"
     ]
    },
    {
     "name": "stdout",
     "output_type": "stream",
     "text": [
      "Index(['7trx: size7trx'], dtype='object')\n",
      "Fitting estimator with 16 features.\n"
     ]
    },
    {
     "name": "stderr",
     "output_type": "stream",
     "text": [
      "/root/.pyenv/versions/3.7.9/envs/nlp/lib/python3.7/site-packages/sklearn/ensemble/forest.py:245: FutureWarning: The default value of n_estimators will change from 10 in version 0.20 to 100 in 0.22.\n",
      "  \"10 in version 0.20 to 100 in 0.22.\", FutureWarning)\n",
      "/root/.pyenv/versions/3.7.9/envs/nlp/lib/python3.7/site-packages/sklearn/ensemble/forest.py:245: FutureWarning: The default value of n_estimators will change from 10 in version 0.20 to 100 in 0.22.\n",
      "  \"10 in version 0.20 to 100 in 0.22.\", FutureWarning)\n",
      "/root/.pyenv/versions/3.7.9/envs/nlp/lib/python3.7/site-packages/sklearn/ensemble/forest.py:245: FutureWarning: The default value of n_estimators will change from 10 in version 0.20 to 100 in 0.22.\n",
      "  \"10 in version 0.20 to 100 in 0.22.\", FutureWarning)\n",
      "/root/.pyenv/versions/3.7.9/envs/nlp/lib/python3.7/site-packages/sklearn/ensemble/forest.py:245: FutureWarning: The default value of n_estimators will change from 10 in version 0.20 to 100 in 0.22.\n",
      "  \"10 in version 0.20 to 100 in 0.22.\", FutureWarning)\n"
     ]
    },
    {
     "name": "stdout",
     "output_type": "stream",
     "text": [
      "14trx: size14trx\n"
     ]
    },
    {
     "name": "stderr",
     "output_type": "stream",
     "text": [
      "/root/.pyenv/versions/3.7.9/envs/nlp/lib/python3.7/site-packages/sklearn/ensemble/forest.py:245: FutureWarning: The default value of n_estimators will change from 10 in version 0.20 to 100 in 0.22.\n",
      "  \"10 in version 0.20 to 100 in 0.22.\", FutureWarning)\n",
      "/root/.pyenv/versions/3.7.9/envs/nlp/lib/python3.7/site-packages/sklearn/ensemble/forest.py:245: FutureWarning: The default value of n_estimators will change from 10 in version 0.20 to 100 in 0.22.\n",
      "  \"10 in version 0.20 to 100 in 0.22.\", FutureWarning)\n",
      "/root/.pyenv/versions/3.7.9/envs/nlp/lib/python3.7/site-packages/sklearn/ensemble/forest.py:245: FutureWarning: The default value of n_estimators will change from 10 in version 0.20 to 100 in 0.22.\n",
      "  \"10 in version 0.20 to 100 in 0.22.\", FutureWarning)\n"
     ]
    },
    {
     "name": "stdout",
     "output_type": "stream",
     "text": [
      "30trx: top100cap30trx\n",
      "Fitting estimator with 16 features.\n"
     ]
    },
    {
     "name": "stderr",
     "output_type": "stream",
     "text": [
      "/root/.pyenv/versions/3.7.9/envs/nlp/lib/python3.7/site-packages/sklearn/ensemble/forest.py:245: FutureWarning: The default value of n_estimators will change from 10 in version 0.20 to 100 in 0.22.\n",
      "  \"10 in version 0.20 to 100 in 0.22.\", FutureWarning)\n",
      "/root/.pyenv/versions/3.7.9/envs/nlp/lib/python3.7/site-packages/sklearn/ensemble/forest.py:245: FutureWarning: The default value of n_estimators will change from 10 in version 0.20 to 100 in 0.22.\n",
      "  \"10 in version 0.20 to 100 in 0.22.\", FutureWarning)\n",
      "/root/.pyenv/versions/3.7.9/envs/nlp/lib/python3.7/site-packages/sklearn/ensemble/forest.py:245: FutureWarning: The default value of n_estimators will change from 10 in version 0.20 to 100 in 0.22.\n",
      "  \"10 in version 0.20 to 100 in 0.22.\", FutureWarning)\n",
      "/root/.pyenv/versions/3.7.9/envs/nlp/lib/python3.7/site-packages/sklearn/ensemble/forest.py:245: FutureWarning: The default value of n_estimators will change from 10 in version 0.20 to 100 in 0.22.\n",
      "  \"10 in version 0.20 to 100 in 0.22.\", FutureWarning)\n"
     ]
    },
    {
     "name": "stdout",
     "output_type": "stream",
     "text": [
      "90trx: mining_profitability90trx\n"
     ]
    },
    {
     "name": "stderr",
     "output_type": "stream",
     "text": [
      "/root/.pyenv/versions/3.7.9/envs/nlp/lib/python3.7/site-packages/sklearn/ensemble/forest.py:245: FutureWarning: The default value of n_estimators will change from 10 in version 0.20 to 100 in 0.22.\n",
      "  \"10 in version 0.20 to 100 in 0.22.\", FutureWarning)\n",
      "/root/.pyenv/versions/3.7.9/envs/nlp/lib/python3.7/site-packages/sklearn/ensemble/forest.py:245: FutureWarning: The default value of n_estimators will change from 10 in version 0.20 to 100 in 0.22.\n",
      "  \"10 in version 0.20 to 100 in 0.22.\", FutureWarning)\n",
      "/root/.pyenv/versions/3.7.9/envs/nlp/lib/python3.7/site-packages/sklearn/ensemble/forest.py:245: FutureWarning: The default value of n_estimators will change from 10 in version 0.20 to 100 in 0.22.\n",
      "  \"10 in version 0.20 to 100 in 0.22.\", FutureWarning)\n"
     ]
    },
    {
     "name": "stdout",
     "output_type": "stream",
     "text": [
      "3mom: price3momUSD\n"
     ]
    },
    {
     "name": "stderr",
     "output_type": "stream",
     "text": [
      "/root/.pyenv/versions/3.7.9/envs/nlp/lib/python3.7/site-packages/sklearn/ensemble/forest.py:245: FutureWarning: The default value of n_estimators will change from 10 in version 0.20 to 100 in 0.22.\n",
      "  \"10 in version 0.20 to 100 in 0.22.\", FutureWarning)\n",
      "/root/.pyenv/versions/3.7.9/envs/nlp/lib/python3.7/site-packages/sklearn/ensemble/forest.py:245: FutureWarning: The default value of n_estimators will change from 10 in version 0.20 to 100 in 0.22.\n",
      "  \"10 in version 0.20 to 100 in 0.22.\", FutureWarning)\n",
      "/root/.pyenv/versions/3.7.9/envs/nlp/lib/python3.7/site-packages/sklearn/ensemble/forest.py:245: FutureWarning: The default value of n_estimators will change from 10 in version 0.20 to 100 in 0.22.\n",
      "  \"10 in version 0.20 to 100 in 0.22.\", FutureWarning)\n"
     ]
    },
    {
     "name": "stdout",
     "output_type": "stream",
     "text": [
      "7mom: transactionfees7momUSD\n"
     ]
    },
    {
     "name": "stderr",
     "output_type": "stream",
     "text": [
      "/root/.pyenv/versions/3.7.9/envs/nlp/lib/python3.7/site-packages/sklearn/ensemble/forest.py:245: FutureWarning: The default value of n_estimators will change from 10 in version 0.20 to 100 in 0.22.\n",
      "  \"10 in version 0.20 to 100 in 0.22.\", FutureWarning)\n",
      "/root/.pyenv/versions/3.7.9/envs/nlp/lib/python3.7/site-packages/sklearn/ensemble/forest.py:245: FutureWarning: The default value of n_estimators will change from 10 in version 0.20 to 100 in 0.22.\n",
      "  \"10 in version 0.20 to 100 in 0.22.\", FutureWarning)\n",
      "/root/.pyenv/versions/3.7.9/envs/nlp/lib/python3.7/site-packages/sklearn/ensemble/forest.py:245: FutureWarning: The default value of n_estimators will change from 10 in version 0.20 to 100 in 0.22.\n",
      "  \"10 in version 0.20 to 100 in 0.22.\", FutureWarning)\n"
     ]
    },
    {
     "name": "stdout",
     "output_type": "stream",
     "text": [
      "14mom: price14momUSD\n"
     ]
    },
    {
     "name": "stderr",
     "output_type": "stream",
     "text": [
      "/root/.pyenv/versions/3.7.9/envs/nlp/lib/python3.7/site-packages/sklearn/ensemble/forest.py:245: FutureWarning: The default value of n_estimators will change from 10 in version 0.20 to 100 in 0.22.\n",
      "  \"10 in version 0.20 to 100 in 0.22.\", FutureWarning)\n",
      "/root/.pyenv/versions/3.7.9/envs/nlp/lib/python3.7/site-packages/sklearn/ensemble/forest.py:245: FutureWarning: The default value of n_estimators will change from 10 in version 0.20 to 100 in 0.22.\n",
      "  \"10 in version 0.20 to 100 in 0.22.\", FutureWarning)\n",
      "/root/.pyenv/versions/3.7.9/envs/nlp/lib/python3.7/site-packages/sklearn/ensemble/forest.py:245: FutureWarning: The default value of n_estimators will change from 10 in version 0.20 to 100 in 0.22.\n",
      "  \"10 in version 0.20 to 100 in 0.22.\", FutureWarning)\n"
     ]
    },
    {
     "name": "stdout",
     "output_type": "stream",
     "text": [
      "30mom: price30momUSD\n",
      "Fitting estimator with 16 features.\n"
     ]
    },
    {
     "name": "stderr",
     "output_type": "stream",
     "text": [
      "/root/.pyenv/versions/3.7.9/envs/nlp/lib/python3.7/site-packages/sklearn/ensemble/forest.py:245: FutureWarning: The default value of n_estimators will change from 10 in version 0.20 to 100 in 0.22.\n",
      "  \"10 in version 0.20 to 100 in 0.22.\", FutureWarning)\n",
      "/root/.pyenv/versions/3.7.9/envs/nlp/lib/python3.7/site-packages/sklearn/ensemble/forest.py:245: FutureWarning: The default value of n_estimators will change from 10 in version 0.20 to 100 in 0.22.\n",
      "  \"10 in version 0.20 to 100 in 0.22.\", FutureWarning)\n",
      "/root/.pyenv/versions/3.7.9/envs/nlp/lib/python3.7/site-packages/sklearn/ensemble/forest.py:245: FutureWarning: The default value of n_estimators will change from 10 in version 0.20 to 100 in 0.22.\n",
      "  \"10 in version 0.20 to 100 in 0.22.\", FutureWarning)\n",
      "/root/.pyenv/versions/3.7.9/envs/nlp/lib/python3.7/site-packages/sklearn/ensemble/forest.py:245: FutureWarning: The default value of n_estimators will change from 10 in version 0.20 to 100 in 0.22.\n",
      "  \"10 in version 0.20 to 100 in 0.22.\", FutureWarning)\n"
     ]
    },
    {
     "name": "stdout",
     "output_type": "stream",
     "text": [
      "90mom: price90momUSD\n"
     ]
    },
    {
     "name": "stderr",
     "output_type": "stream",
     "text": [
      "/root/.pyenv/versions/3.7.9/envs/nlp/lib/python3.7/site-packages/sklearn/ensemble/forest.py:245: FutureWarning: The default value of n_estimators will change from 10 in version 0.20 to 100 in 0.22.\n",
      "  \"10 in version 0.20 to 100 in 0.22.\", FutureWarning)\n",
      "/root/.pyenv/versions/3.7.9/envs/nlp/lib/python3.7/site-packages/sklearn/ensemble/forest.py:245: FutureWarning: The default value of n_estimators will change from 10 in version 0.20 to 100 in 0.22.\n",
      "  \"10 in version 0.20 to 100 in 0.22.\", FutureWarning)\n",
      "/root/.pyenv/versions/3.7.9/envs/nlp/lib/python3.7/site-packages/sklearn/ensemble/forest.py:245: FutureWarning: The default value of n_estimators will change from 10 in version 0.20 to 100 in 0.22.\n",
      "  \"10 in version 0.20 to 100 in 0.22.\", FutureWarning)\n"
     ]
    },
    {
     "name": "stdout",
     "output_type": "stream",
     "text": [
      "3std: price3stdUSD\n",
      "Fitting estimator with 16 features.\n"
     ]
    },
    {
     "name": "stderr",
     "output_type": "stream",
     "text": [
      "/root/.pyenv/versions/3.7.9/envs/nlp/lib/python3.7/site-packages/sklearn/ensemble/forest.py:245: FutureWarning: The default value of n_estimators will change from 10 in version 0.20 to 100 in 0.22.\n",
      "  \"10 in version 0.20 to 100 in 0.22.\", FutureWarning)\n",
      "/root/.pyenv/versions/3.7.9/envs/nlp/lib/python3.7/site-packages/sklearn/ensemble/forest.py:245: FutureWarning: The default value of n_estimators will change from 10 in version 0.20 to 100 in 0.22.\n",
      "  \"10 in version 0.20 to 100 in 0.22.\", FutureWarning)\n",
      "/root/.pyenv/versions/3.7.9/envs/nlp/lib/python3.7/site-packages/sklearn/ensemble/forest.py:245: FutureWarning: The default value of n_estimators will change from 10 in version 0.20 to 100 in 0.22.\n",
      "  \"10 in version 0.20 to 100 in 0.22.\", FutureWarning)\n",
      "/root/.pyenv/versions/3.7.9/envs/nlp/lib/python3.7/site-packages/sklearn/ensemble/forest.py:245: FutureWarning: The default value of n_estimators will change from 10 in version 0.20 to 100 in 0.22.\n",
      "  \"10 in version 0.20 to 100 in 0.22.\", FutureWarning)\n"
     ]
    },
    {
     "name": "stdout",
     "output_type": "stream",
     "text": [
      "7std: price7stdUSD\n"
     ]
    },
    {
     "name": "stderr",
     "output_type": "stream",
     "text": [
      "/root/.pyenv/versions/3.7.9/envs/nlp/lib/python3.7/site-packages/sklearn/ensemble/forest.py:245: FutureWarning: The default value of n_estimators will change from 10 in version 0.20 to 100 in 0.22.\n",
      "  \"10 in version 0.20 to 100 in 0.22.\", FutureWarning)\n",
      "/root/.pyenv/versions/3.7.9/envs/nlp/lib/python3.7/site-packages/sklearn/ensemble/forest.py:245: FutureWarning: The default value of n_estimators will change from 10 in version 0.20 to 100 in 0.22.\n",
      "  \"10 in version 0.20 to 100 in 0.22.\", FutureWarning)\n",
      "/root/.pyenv/versions/3.7.9/envs/nlp/lib/python3.7/site-packages/sklearn/ensemble/forest.py:245: FutureWarning: The default value of n_estimators will change from 10 in version 0.20 to 100 in 0.22.\n",
      "  \"10 in version 0.20 to 100 in 0.22.\", FutureWarning)\n"
     ]
    },
    {
     "name": "stdout",
     "output_type": "stream",
     "text": [
      "14std: price14stdUSD\n"
     ]
    },
    {
     "name": "stderr",
     "output_type": "stream",
     "text": [
      "/root/.pyenv/versions/3.7.9/envs/nlp/lib/python3.7/site-packages/sklearn/ensemble/forest.py:245: FutureWarning: The default value of n_estimators will change from 10 in version 0.20 to 100 in 0.22.\n",
      "  \"10 in version 0.20 to 100 in 0.22.\", FutureWarning)\n",
      "/root/.pyenv/versions/3.7.9/envs/nlp/lib/python3.7/site-packages/sklearn/ensemble/forest.py:245: FutureWarning: The default value of n_estimators will change from 10 in version 0.20 to 100 in 0.22.\n",
      "  \"10 in version 0.20 to 100 in 0.22.\", FutureWarning)\n",
      "/root/.pyenv/versions/3.7.9/envs/nlp/lib/python3.7/site-packages/sklearn/ensemble/forest.py:245: FutureWarning: The default value of n_estimators will change from 10 in version 0.20 to 100 in 0.22.\n",
      "  \"10 in version 0.20 to 100 in 0.22.\", FutureWarning)\n"
     ]
    },
    {
     "name": "stdout",
     "output_type": "stream",
     "text": [
      "30std: price30stdUSD\n"
     ]
    },
    {
     "name": "stderr",
     "output_type": "stream",
     "text": [
      "/root/.pyenv/versions/3.7.9/envs/nlp/lib/python3.7/site-packages/sklearn/ensemble/forest.py:245: FutureWarning: The default value of n_estimators will change from 10 in version 0.20 to 100 in 0.22.\n",
      "  \"10 in version 0.20 to 100 in 0.22.\", FutureWarning)\n",
      "/root/.pyenv/versions/3.7.9/envs/nlp/lib/python3.7/site-packages/sklearn/ensemble/forest.py:245: FutureWarning: The default value of n_estimators will change from 10 in version 0.20 to 100 in 0.22.\n",
      "  \"10 in version 0.20 to 100 in 0.22.\", FutureWarning)\n",
      "/root/.pyenv/versions/3.7.9/envs/nlp/lib/python3.7/site-packages/sklearn/ensemble/forest.py:245: FutureWarning: The default value of n_estimators will change from 10 in version 0.20 to 100 in 0.22.\n",
      "  \"10 in version 0.20 to 100 in 0.22.\", FutureWarning)\n"
     ]
    },
    {
     "name": "stdout",
     "output_type": "stream",
     "text": [
      "90std: price90stdUSD\n"
     ]
    },
    {
     "name": "stderr",
     "output_type": "stream",
     "text": [
      "/root/.pyenv/versions/3.7.9/envs/nlp/lib/python3.7/site-packages/sklearn/ensemble/forest.py:245: FutureWarning: The default value of n_estimators will change from 10 in version 0.20 to 100 in 0.22.\n",
      "  \"10 in version 0.20 to 100 in 0.22.\", FutureWarning)\n",
      "/root/.pyenv/versions/3.7.9/envs/nlp/lib/python3.7/site-packages/sklearn/ensemble/forest.py:245: FutureWarning: The default value of n_estimators will change from 10 in version 0.20 to 100 in 0.22.\n",
      "  \"10 in version 0.20 to 100 in 0.22.\", FutureWarning)\n",
      "/root/.pyenv/versions/3.7.9/envs/nlp/lib/python3.7/site-packages/sklearn/ensemble/forest.py:245: FutureWarning: The default value of n_estimators will change from 10 in version 0.20 to 100 in 0.22.\n",
      "  \"10 in version 0.20 to 100 in 0.22.\", FutureWarning)\n"
     ]
    },
    {
     "name": "stdout",
     "output_type": "stream",
     "text": [
      "3rsi: difficulty3rsi\n"
     ]
    },
    {
     "name": "stderr",
     "output_type": "stream",
     "text": [
      "/root/.pyenv/versions/3.7.9/envs/nlp/lib/python3.7/site-packages/sklearn/ensemble/forest.py:245: FutureWarning: The default value of n_estimators will change from 10 in version 0.20 to 100 in 0.22.\n",
      "  \"10 in version 0.20 to 100 in 0.22.\", FutureWarning)\n",
      "/root/.pyenv/versions/3.7.9/envs/nlp/lib/python3.7/site-packages/sklearn/ensemble/forest.py:245: FutureWarning: The default value of n_estimators will change from 10 in version 0.20 to 100 in 0.22.\n",
      "  \"10 in version 0.20 to 100 in 0.22.\", FutureWarning)\n",
      "/root/.pyenv/versions/3.7.9/envs/nlp/lib/python3.7/site-packages/sklearn/ensemble/forest.py:245: FutureWarning: The default value of n_estimators will change from 10 in version 0.20 to 100 in 0.22.\n",
      "  \"10 in version 0.20 to 100 in 0.22.\", FutureWarning)\n"
     ]
    },
    {
     "name": "stdout",
     "output_type": "stream",
     "text": [
      "7rsi: difficulty7rsi\n"
     ]
    },
    {
     "name": "stderr",
     "output_type": "stream",
     "text": [
      "/root/.pyenv/versions/3.7.9/envs/nlp/lib/python3.7/site-packages/sklearn/ensemble/forest.py:245: FutureWarning: The default value of n_estimators will change from 10 in version 0.20 to 100 in 0.22.\n",
      "  \"10 in version 0.20 to 100 in 0.22.\", FutureWarning)\n",
      "/root/.pyenv/versions/3.7.9/envs/nlp/lib/python3.7/site-packages/sklearn/ensemble/forest.py:245: FutureWarning: The default value of n_estimators will change from 10 in version 0.20 to 100 in 0.22.\n",
      "  \"10 in version 0.20 to 100 in 0.22.\", FutureWarning)\n",
      "/root/.pyenv/versions/3.7.9/envs/nlp/lib/python3.7/site-packages/sklearn/ensemble/forest.py:245: FutureWarning: The default value of n_estimators will change from 10 in version 0.20 to 100 in 0.22.\n",
      "  \"10 in version 0.20 to 100 in 0.22.\", FutureWarning)\n"
     ]
    },
    {
     "name": "stdout",
     "output_type": "stream",
     "text": [
      "14rsi: difficulty14rsi\n"
     ]
    },
    {
     "name": "stderr",
     "output_type": "stream",
     "text": [
      "/root/.pyenv/versions/3.7.9/envs/nlp/lib/python3.7/site-packages/sklearn/ensemble/forest.py:245: FutureWarning: The default value of n_estimators will change from 10 in version 0.20 to 100 in 0.22.\n",
      "  \"10 in version 0.20 to 100 in 0.22.\", FutureWarning)\n",
      "/root/.pyenv/versions/3.7.9/envs/nlp/lib/python3.7/site-packages/sklearn/ensemble/forest.py:245: FutureWarning: The default value of n_estimators will change from 10 in version 0.20 to 100 in 0.22.\n",
      "  \"10 in version 0.20 to 100 in 0.22.\", FutureWarning)\n",
      "/root/.pyenv/versions/3.7.9/envs/nlp/lib/python3.7/site-packages/sklearn/ensemble/forest.py:245: FutureWarning: The default value of n_estimators will change from 10 in version 0.20 to 100 in 0.22.\n",
      "  \"10 in version 0.20 to 100 in 0.22.\", FutureWarning)\n"
     ]
    },
    {
     "name": "stdout",
     "output_type": "stream",
     "text": [
      "30rsi: difficulty30rsi\n"
     ]
    },
    {
     "name": "stderr",
     "output_type": "stream",
     "text": [
      "/root/.pyenv/versions/3.7.9/envs/nlp/lib/python3.7/site-packages/sklearn/ensemble/forest.py:245: FutureWarning: The default value of n_estimators will change from 10 in version 0.20 to 100 in 0.22.\n",
      "  \"10 in version 0.20 to 100 in 0.22.\", FutureWarning)\n",
      "/root/.pyenv/versions/3.7.9/envs/nlp/lib/python3.7/site-packages/sklearn/ensemble/forest.py:245: FutureWarning: The default value of n_estimators will change from 10 in version 0.20 to 100 in 0.22.\n",
      "  \"10 in version 0.20 to 100 in 0.22.\", FutureWarning)\n",
      "/root/.pyenv/versions/3.7.9/envs/nlp/lib/python3.7/site-packages/sklearn/ensemble/forest.py:245: FutureWarning: The default value of n_estimators will change from 10 in version 0.20 to 100 in 0.22.\n",
      "  \"10 in version 0.20 to 100 in 0.22.\", FutureWarning)\n"
     ]
    },
    {
     "name": "stdout",
     "output_type": "stream",
     "text": [
      "90rsi: top100cap90rsi\n",
      "Fitting estimator with 16 features.\n"
     ]
    },
    {
     "name": "stderr",
     "output_type": "stream",
     "text": [
      "/root/.pyenv/versions/3.7.9/envs/nlp/lib/python3.7/site-packages/sklearn/ensemble/forest.py:245: FutureWarning: The default value of n_estimators will change from 10 in version 0.20 to 100 in 0.22.\n",
      "  \"10 in version 0.20 to 100 in 0.22.\", FutureWarning)\n",
      "/root/.pyenv/versions/3.7.9/envs/nlp/lib/python3.7/site-packages/sklearn/ensemble/forest.py:245: FutureWarning: The default value of n_estimators will change from 10 in version 0.20 to 100 in 0.22.\n",
      "  \"10 in version 0.20 to 100 in 0.22.\", FutureWarning)\n",
      "/root/.pyenv/versions/3.7.9/envs/nlp/lib/python3.7/site-packages/sklearn/ensemble/forest.py:245: FutureWarning: The default value of n_estimators will change from 10 in version 0.20 to 100 in 0.22.\n",
      "  \"10 in version 0.20 to 100 in 0.22.\", FutureWarning)\n",
      "/root/.pyenv/versions/3.7.9/envs/nlp/lib/python3.7/site-packages/sklearn/ensemble/forest.py:245: FutureWarning: The default value of n_estimators will change from 10 in version 0.20 to 100 in 0.22.\n",
      "  \"10 in version 0.20 to 100 in 0.22.\", FutureWarning)\n"
     ]
    },
    {
     "name": "stdout",
     "output_type": "stream",
     "text": [
      "3roc: median_transaction_fee3rocUSD\n",
      "Fitting estimator with 16 features.\n"
     ]
    },
    {
     "name": "stderr",
     "output_type": "stream",
     "text": [
      "/root/.pyenv/versions/3.7.9/envs/nlp/lib/python3.7/site-packages/sklearn/ensemble/forest.py:245: FutureWarning: The default value of n_estimators will change from 10 in version 0.20 to 100 in 0.22.\n",
      "  \"10 in version 0.20 to 100 in 0.22.\", FutureWarning)\n"
     ]
    },
    {
     "name": "stdout",
     "output_type": "stream",
     "text": [
      "Fitting estimator with 2 features.\n"
     ]
    },
    {
     "name": "stderr",
     "output_type": "stream",
     "text": [
      "/root/.pyenv/versions/3.7.9/envs/nlp/lib/python3.7/site-packages/sklearn/ensemble/forest.py:245: FutureWarning: The default value of n_estimators will change from 10 in version 0.20 to 100 in 0.22.\n",
      "  \"10 in version 0.20 to 100 in 0.22.\", FutureWarning)\n",
      "/root/.pyenv/versions/3.7.9/envs/nlp/lib/python3.7/site-packages/sklearn/ensemble/forest.py:245: FutureWarning: The default value of n_estimators will change from 10 in version 0.20 to 100 in 0.22.\n",
      "  \"10 in version 0.20 to 100 in 0.22.\", FutureWarning)\n",
      "/root/.pyenv/versions/3.7.9/envs/nlp/lib/python3.7/site-packages/sklearn/ensemble/forest.py:245: FutureWarning: The default value of n_estimators will change from 10 in version 0.20 to 100 in 0.22.\n",
      "  \"10 in version 0.20 to 100 in 0.22.\", FutureWarning)\n"
     ]
    },
    {
     "name": "stdout",
     "output_type": "stream",
     "text": [
      "Index(['7roc: median_transaction_fee7rocUSD'], dtype='object')\n",
      "Fitting estimator with 16 features.\n"
     ]
    },
    {
     "name": "stderr",
     "output_type": "stream",
     "text": [
      "/root/.pyenv/versions/3.7.9/envs/nlp/lib/python3.7/site-packages/sklearn/ensemble/forest.py:245: FutureWarning: The default value of n_estimators will change from 10 in version 0.20 to 100 in 0.22.\n",
      "  \"10 in version 0.20 to 100 in 0.22.\", FutureWarning)\n"
     ]
    },
    {
     "name": "stdout",
     "output_type": "stream",
     "text": [
      "Fitting estimator with 2 features.\n"
     ]
    },
    {
     "name": "stderr",
     "output_type": "stream",
     "text": [
      "/root/.pyenv/versions/3.7.9/envs/nlp/lib/python3.7/site-packages/sklearn/ensemble/forest.py:245: FutureWarning: The default value of n_estimators will change from 10 in version 0.20 to 100 in 0.22.\n",
      "  \"10 in version 0.20 to 100 in 0.22.\", FutureWarning)\n",
      "/root/.pyenv/versions/3.7.9/envs/nlp/lib/python3.7/site-packages/sklearn/ensemble/forest.py:245: FutureWarning: The default value of n_estimators will change from 10 in version 0.20 to 100 in 0.22.\n",
      "  \"10 in version 0.20 to 100 in 0.22.\", FutureWarning)\n",
      "/root/.pyenv/versions/3.7.9/envs/nlp/lib/python3.7/site-packages/sklearn/ensemble/forest.py:245: FutureWarning: The default value of n_estimators will change from 10 in version 0.20 to 100 in 0.22.\n",
      "  \"10 in version 0.20 to 100 in 0.22.\", FutureWarning)\n"
     ]
    },
    {
     "name": "stdout",
     "output_type": "stream",
     "text": [
      "Index(['14roc: difficulty14roc'], dtype='object')\n",
      "Fitting estimator with 16 features.\n"
     ]
    },
    {
     "name": "stderr",
     "output_type": "stream",
     "text": [
      "/root/.pyenv/versions/3.7.9/envs/nlp/lib/python3.7/site-packages/sklearn/ensemble/forest.py:245: FutureWarning: The default value of n_estimators will change from 10 in version 0.20 to 100 in 0.22.\n",
      "  \"10 in version 0.20 to 100 in 0.22.\", FutureWarning)\n",
      "/root/.pyenv/versions/3.7.9/envs/nlp/lib/python3.7/site-packages/sklearn/ensemble/forest.py:245: FutureWarning: The default value of n_estimators will change from 10 in version 0.20 to 100 in 0.22.\n",
      "  \"10 in version 0.20 to 100 in 0.22.\", FutureWarning)\n",
      "/root/.pyenv/versions/3.7.9/envs/nlp/lib/python3.7/site-packages/sklearn/ensemble/forest.py:245: FutureWarning: The default value of n_estimators will change from 10 in version 0.20 to 100 in 0.22.\n",
      "  \"10 in version 0.20 to 100 in 0.22.\", FutureWarning)\n",
      "/root/.pyenv/versions/3.7.9/envs/nlp/lib/python3.7/site-packages/sklearn/ensemble/forest.py:245: FutureWarning: The default value of n_estimators will change from 10 in version 0.20 to 100 in 0.22.\n",
      "  \"10 in version 0.20 to 100 in 0.22.\", FutureWarning)\n"
     ]
    },
    {
     "name": "stdout",
     "output_type": "stream",
     "text": [
      "30roc: size30roc\n",
      "Fitting estimator with 16 features.\n"
     ]
    },
    {
     "name": "stderr",
     "output_type": "stream",
     "text": [
      "/root/.pyenv/versions/3.7.9/envs/nlp/lib/python3.7/site-packages/sklearn/ensemble/forest.py:245: FutureWarning: The default value of n_estimators will change from 10 in version 0.20 to 100 in 0.22.\n",
      "  \"10 in version 0.20 to 100 in 0.22.\", FutureWarning)\n",
      "/root/.pyenv/versions/3.7.9/envs/nlp/lib/python3.7/site-packages/sklearn/ensemble/forest.py:245: FutureWarning: The default value of n_estimators will change from 10 in version 0.20 to 100 in 0.22.\n",
      "  \"10 in version 0.20 to 100 in 0.22.\", FutureWarning)\n",
      "/root/.pyenv/versions/3.7.9/envs/nlp/lib/python3.7/site-packages/sklearn/ensemble/forest.py:245: FutureWarning: The default value of n_estimators will change from 10 in version 0.20 to 100 in 0.22.\n",
      "  \"10 in version 0.20 to 100 in 0.22.\", FutureWarning)\n",
      "/root/.pyenv/versions/3.7.9/envs/nlp/lib/python3.7/site-packages/sklearn/ensemble/forest.py:245: FutureWarning: The default value of n_estimators will change from 10 in version 0.20 to 100 in 0.22.\n",
      "  \"10 in version 0.20 to 100 in 0.22.\", FutureWarning)\n"
     ]
    },
    {
     "name": "stdout",
     "output_type": "stream",
     "text": [
      "90roc: top100cap90roc\n"
     ]
    }
   ],
   "source": [
    "# for feature_list_index in sfm.get_support(indices=True):\n",
    "#     print(X.columns[feature_list_index])\n",
    "# sfm.get_support(indices=True)\n",
    "\n",
    "features_list=[]\n",
    "technical_indicators=['sma','ema','wma','trx','mom','std','var','rsi','roc']\n",
    "periods=['3','7','14','30','90']\n",
    "for i in technical_indicators:\n",
    "    for j in periods:\n",
    "        try:\n",
    "            string=str(j)+str(i)\n",
    "            X=df.filter(like=string,axis=1)\n",
    "            X=SimpleImputer(missing_values=0,strategy='most_frequent').fit_transform(X)\n",
    "            X=pd.DataFrame(X)\n",
    "            X.columns=df.filter(like=string,axis=1).columns\n",
    "            rf1=RandomForestRegressor(random_state=7,n_jobs=-1)\n",
    "            rfecv=RFECV(rf1,step=0.9,min_features_to_select=1,verbose=1,cv=5,scoring='neg_mean_absolute_error', n_jobs=-1)\n",
    "            rfecv.fit(X,y)\n",
    "            if rfecv.n_features_>1:\n",
    "                rf1.fit(X,y)\n",
    "                maximp=rf1.feature_importances_.max()\n",
    "                for x in range(len(rf1.feature_importances_)):\n",
    "                    if maximp==rf1.feature_importances_[x]:\n",
    "                        new_features = X.columns[x]\n",
    "            else:\n",
    "                mask = rfecv.get_support()\n",
    "                new_features = X.columns[mask]\n",
    "            features_list.append(str(new_features))\n",
    "            print(string+': '+new_features)\n",
    "        except:\n",
    "            pass"
   ]
  },
  {
   "cell_type": "code",
   "execution_count": 33,
   "id": "passing-fleece",
   "metadata": {},
   "outputs": [],
   "source": [
    "features_list\n",
    "l1=[]\n",
    "for j in range(len(features_list)):\n",
    "    result1 = re.search(\"'(.*)'],\", features_list[j])\n",
    "    if result1!=None:\n",
    "        l1.append(result1.group(1))\n",
    "for i in range(len(features_list)):\n",
    "    result2 = re.search('.*',features_list[i])\n",
    "    if len(result2.group(0))<33:\n",
    "        l1.append(result2.group(0))"
   ]
  },
  {
   "cell_type": "code",
   "execution_count": 43,
   "id": "developing-venezuela",
   "metadata": {},
   "outputs": [],
   "source": [
    "X_new = min_max_scaler.fit_transform(df[l1])"
   ]
  },
  {
   "cell_type": "code",
   "execution_count": 47,
   "id": "trying-maria",
   "metadata": {},
   "outputs": [
    {
     "name": "stdout",
     "output_type": "stream",
     "text": [
      "Iteration: 1 / 10\n",
      "Iteration: 2 / 10\n",
      "Iteration: 3 / 10\n",
      "Iteration: 4 / 10\n",
      "Iteration: 5 / 10\n",
      "Iteration: 6 / 10\n",
      "Iteration: 7 / 10\n",
      "Iteration: 8 / 10\n",
      "Iteration: 9 / 10\n",
      "\n",
      "\n",
      "BorutaPy finished running.\n",
      "\n",
      "Iteration: \t10 / 10\n",
      "Confirmed: \t17\n",
      "Tentative: \t3\n",
      "Rejected: \t16\n",
      "Features with high Support: ['price3smaUSD', 'price7smaUSD', 'price14smaUSD', 'price30smaUSD', 'price3emaUSD', 'price7emaUSD', 'price14emaUSD', 'price30emaUSD', 'price90emaUSD', 'price3wmaUSD', 'price7wmaUSD', 'price14wmaUSD', 'price30wmaUSD', 'price90wmaUSD', 'transactionvalue90smaUSD', 'price3momUSD', 'price90stdUSD']\n",
      "Features with low Support: ['top100cap30trx', 'price90momUSD', 'top100cap90rsi']\n"
     ]
    }
   ],
   "source": [
    "# Using boruta and rfr\n",
    "\n",
    "from boruta import BorutaPy\n",
    "from sklearn.ensemble import RandomForestRegressor\n",
    "import numpy as np\n",
    "\n",
    "\n",
    "boruta = BorutaPy(\n",
    "   estimator = forest, \n",
    "   n_estimators = 'auto',\n",
    "   max_iter = 10,\n",
    "    verbose = True\n",
    ")\n",
    "\n",
    "boruta.fit(X_new, y)\n",
    "\n",
    "green_area = df[l1].columns[boruta.support_].to_list()\n",
    "blue_area = df[l1].columns[boruta.support_weak_].to_list()\n",
    "\n",
    "print('Features with high Support:', green_area)\n",
    "print('Features with low Support:', blue_area)"
   ]
  },
  {
   "cell_type": "code",
   "execution_count": 48,
   "id": "advance-april",
   "metadata": {},
   "outputs": [],
   "source": [
    "df_with_features = df[['Date', 'priceUSD']+green_area]\n",
    "df_with_features.to_csv('../data/new/features_regression_boruta_plus_rf.csv', index=False)"
   ]
  },
  {
   "cell_type": "code",
   "execution_count": 52,
   "id": "advanced-rabbit",
   "metadata": {},
   "outputs": [
    {
     "name": "stdout",
     "output_type": "stream",
     "text": [
      "Requirement already satisfied: bs4 in /root/.pyenv/versions/3.7.9/envs/nlp/lib/python3.7/site-packages (0.0.1)\n",
      "Requirement already satisfied: beautifulsoup4 in /root/.pyenv/versions/3.7.9/envs/nlp/lib/python3.7/site-packages (from bs4) (4.9.3)\n",
      "Requirement already satisfied: soupsieve>1.2; python_version >= \"3.0\" in /root/.pyenv/versions/3.7.9/envs/nlp/lib/python3.7/site-packages (from beautifulsoup4->bs4) (2.2.1)\n",
      "\u001b[33mWARNING: You are using pip version 20.1.1; however, version 21.2.4 is available.\n",
      "You should consider upgrading via the '/root/.pyenv/versions/3.7.9/envs/nlp/bin/python3.7 -m pip install --upgrade pip' command.\u001b[0m\n",
      "Collecting pytrends\n",
      "  Downloading pytrends-4.7.3-py3-none-any.whl (14 kB)\n",
      "Requirement already satisfied: requests in /root/.pyenv/versions/3.7.9/envs/nlp/lib/python3.7/site-packages (from pytrends) (2.22.0)\n",
      "Requirement already satisfied: pandas>=0.25 in /root/.pyenv/versions/3.7.9/envs/nlp/lib/python3.7/site-packages (from pytrends) (0.25.3)\n",
      "Collecting lxml\n",
      "  Downloading lxml-4.6.3-cp37-cp37m-manylinux2014_x86_64.whl (6.3 MB)\n",
      "\u001b[K     |████████████████████████████████| 6.3 MB 13.1 MB/s eta 0:00:01\n",
      "\u001b[?25hRequirement already satisfied: certifi>=2017.4.17 in /root/.pyenv/versions/3.7.9/envs/nlp/lib/python3.7/site-packages (from requests->pytrends) (2020.12.5)\n",
      "Requirement already satisfied: chardet<3.1.0,>=3.0.2 in /root/.pyenv/versions/3.7.9/envs/nlp/lib/python3.7/site-packages (from requests->pytrends) (3.0.4)\n",
      "Requirement already satisfied: idna<2.9,>=2.5 in /root/.pyenv/versions/3.7.9/envs/nlp/lib/python3.7/site-packages (from requests->pytrends) (2.5)\n",
      "Requirement already satisfied: urllib3!=1.25.0,!=1.25.1,<1.26,>=1.21.1 in /root/.pyenv/versions/3.7.9/envs/nlp/lib/python3.7/site-packages (from requests->pytrends) (1.25.11)\n",
      "Requirement already satisfied: numpy>=1.13.3 in /root/.pyenv/versions/3.7.9/envs/nlp/lib/python3.7/site-packages (from pandas>=0.25->pytrends) (1.18.0)\n",
      "Requirement already satisfied: python-dateutil>=2.6.1 in /root/.pyenv/versions/3.7.9/envs/nlp/lib/python3.7/site-packages (from pandas>=0.25->pytrends) (2.8.1)\n",
      "Requirement already satisfied: pytz>=2017.2 in /root/.pyenv/versions/3.7.9/envs/nlp/lib/python3.7/site-packages (from pandas>=0.25->pytrends) (2019.1)\n",
      "Requirement already satisfied: six>=1.5 in /root/.pyenv/versions/3.7.9/envs/nlp/lib/python3.7/site-packages (from python-dateutil>=2.6.1->pandas>=0.25->pytrends) (1.15.0)\n",
      "Installing collected packages: lxml, pytrends\n",
      "Successfully installed lxml-4.6.3 pytrends-4.7.3\n",
      "\u001b[33mWARNING: You are using pip version 20.1.1; however, version 21.2.4 is available.\n",
      "You should consider upgrading via the '/root/.pyenv/versions/3.7.9/envs/nlp/bin/python3.7 -m pip install --upgrade pip' command.\u001b[0m\n",
      "Collecting cryptory\n",
      "  Using cached cryptory-0.1.1.tar.gz (11 kB)\n",
      "Requirement already satisfied: pandas>=0.23.0 in /root/.pyenv/versions/3.7.9/envs/nlp/lib/python3.7/site-packages (from cryptory) (0.25.3)\n",
      "Requirement already satisfied: numpy>=1.14.0 in /root/.pyenv/versions/3.7.9/envs/nlp/lib/python3.7/site-packages (from cryptory) (1.18.0)\n",
      "Requirement already satisfied: pytrends>=4.4.0 in /root/.pyenv/versions/3.7.9/envs/nlp/lib/python3.7/site-packages (from cryptory) (4.7.3)\n",
      "Requirement already satisfied: beautifulsoup4>=4.0.0 in /root/.pyenv/versions/3.7.9/envs/nlp/lib/python3.7/site-packages (from cryptory) (4.9.3)\n",
      "Requirement already satisfied: python-dateutil>=2.6.1 in /root/.pyenv/versions/3.7.9/envs/nlp/lib/python3.7/site-packages (from pandas>=0.23.0->cryptory) (2.8.1)\n",
      "Requirement already satisfied: pytz>=2017.2 in /root/.pyenv/versions/3.7.9/envs/nlp/lib/python3.7/site-packages (from pandas>=0.23.0->cryptory) (2019.1)\n",
      "Requirement already satisfied: lxml in /root/.pyenv/versions/3.7.9/envs/nlp/lib/python3.7/site-packages (from pytrends>=4.4.0->cryptory) (4.6.3)\n",
      "Requirement already satisfied: requests in /root/.pyenv/versions/3.7.9/envs/nlp/lib/python3.7/site-packages (from pytrends>=4.4.0->cryptory) (2.22.0)\n",
      "Requirement already satisfied: soupsieve>1.2; python_version >= \"3.0\" in /root/.pyenv/versions/3.7.9/envs/nlp/lib/python3.7/site-packages (from beautifulsoup4>=4.0.0->cryptory) (2.2.1)\n",
      "Requirement already satisfied: six>=1.5 in /root/.pyenv/versions/3.7.9/envs/nlp/lib/python3.7/site-packages (from python-dateutil>=2.6.1->pandas>=0.23.0->cryptory) (1.15.0)\n",
      "Requirement already satisfied: certifi>=2017.4.17 in /root/.pyenv/versions/3.7.9/envs/nlp/lib/python3.7/site-packages (from requests->pytrends>=4.4.0->cryptory) (2020.12.5)\n",
      "Requirement already satisfied: chardet<3.1.0,>=3.0.2 in /root/.pyenv/versions/3.7.9/envs/nlp/lib/python3.7/site-packages (from requests->pytrends>=4.4.0->cryptory) (3.0.4)\n",
      "Requirement already satisfied: idna<2.9,>=2.5 in /root/.pyenv/versions/3.7.9/envs/nlp/lib/python3.7/site-packages (from requests->pytrends>=4.4.0->cryptory) (2.5)\n",
      "Requirement already satisfied: urllib3!=1.25.0,!=1.25.1,<1.26,>=1.21.1 in /root/.pyenv/versions/3.7.9/envs/nlp/lib/python3.7/site-packages (from requests->pytrends>=4.4.0->cryptory) (1.25.11)\n",
      "Building wheels for collected packages: cryptory\n",
      "  Building wheel for cryptory (setup.py) ... \u001b[?25ldone\n",
      "\u001b[?25h  Created wheel for cryptory: filename=cryptory-0.1.1-py3-none-any.whl size=9190 sha256=ae0202bc22a450c16157b4775259e3a255c3c888fe541c4b23f7a01f66f59a91\n",
      "  Stored in directory: /root/.cache/pip/wheels/a6/2d/d0/226c24d2fc279c557cb97ec0a2587c6750650f10098eaae9fc\n",
      "Successfully built cryptory\n",
      "Installing collected packages: cryptory\n",
      "Successfully installed cryptory-0.1.1\n",
      "\u001b[33mWARNING: You are using pip version 20.1.1; however, version 21.2.4 is available.\n",
      "You should consider upgrading via the '/root/.pyenv/versions/3.7.9/envs/nlp/bin/python3.7 -m pip install --upgrade pip' command.\u001b[0m\n"
     ]
    }
   ],
   "source": [
    "!pip install bs4\n",
    "!pip install pytrends\n",
    "!pip install cryptory"
   ]
  },
  {
   "cell_type": "code",
   "execution_count": 54,
   "id": "permanent-consequence",
   "metadata": {},
   "outputs": [
    {
     "name": "stdout",
     "output_type": "stream",
     "text": [
      "Collecting html5lib\n",
      "  Using cached html5lib-1.1-py2.py3-none-any.whl (112 kB)\n",
      "Requirement already satisfied: webencodings in /root/.pyenv/versions/3.7.9/envs/nlp/lib/python3.7/site-packages (from html5lib) (0.5.1)\n",
      "Requirement already satisfied: six>=1.9 in /root/.pyenv/versions/3.7.9/envs/nlp/lib/python3.7/site-packages (from html5lib) (1.15.0)\n",
      "Installing collected packages: html5lib\n",
      "Successfully installed html5lib-1.1\n",
      "\u001b[33mWARNING: You are using pip version 20.1.1; however, version 21.2.4 is available.\n",
      "You should consider upgrading via the '/root/.pyenv/versions/3.7.9/envs/nlp/bin/python3.7 -m pip install --upgrade pip' command.\u001b[0m\n"
     ]
    }
   ],
   "source": [
    "!pip install html5lib"
   ]
  },
  {
   "cell_type": "code",
   "execution_count": 5,
   "id": "expired-memorial",
   "metadata": {},
   "outputs": [
    {
     "ename": "HTTPError",
     "evalue": "HTTP Error 404: Not Found",
     "output_type": "error",
     "traceback": [
      "\u001b[0;31m---------------------------------------------------------------------------\u001b[0m",
      "\u001b[0;31mHTTPError\u001b[0m                                 Traceback (most recent call last)",
      "\u001b[0;32m<ipython-input-5-6cedd7a5c3fe>\u001b[0m in \u001b[0;36m<module>\u001b[0;34m\u001b[0m\n\u001b[1;32m      6\u001b[0m \u001b[0;34m\u001b[0m\u001b[0m\n\u001b[1;32m      7\u001b[0m \u001b[0;31m# get historical bitcoin prices from coinmarketcap\u001b[0m\u001b[0;34m\u001b[0m\u001b[0;34m\u001b[0m\u001b[0;34m\u001b[0m\u001b[0m\n\u001b[0;32m----> 8\u001b[0;31m \u001b[0mmy_cryptory\u001b[0m\u001b[0;34m.\u001b[0m\u001b[0mextract_coinmarketcap\u001b[0m\u001b[0;34m(\u001b[0m\u001b[0;34m\"btc\"\u001b[0m\u001b[0;34m)\u001b[0m\u001b[0;34m\u001b[0m\u001b[0;34m\u001b[0m\u001b[0m\n\u001b[0m",
      "\u001b[0;32m~/.pyenv/versions/3.7.9/envs/nlp/lib/python3.7/site-packages/cryptory/cryptory.py\u001b[0m in \u001b[0;36mextract_coinmarketcap\u001b[0;34m(self, coin, coin_col)\u001b[0m\n\u001b[1;32m    127\u001b[0m         \u001b[0;32mtry\u001b[0m\u001b[0;34m:\u001b[0m\u001b[0;34m\u001b[0m\u001b[0;34m\u001b[0m\u001b[0m\n\u001b[1;32m    128\u001b[0m             output = pd.read_html(\"https://coinmarketcap.com/currencies/{}/historical-data/?start={}&end={}\".format(\n\u001b[0;32m--> 129\u001b[0;31m                 coin, self.from_date.replace(\"-\", \"\"), self.to_date.replace(\"-\", \"\")))[0]\n\u001b[0m\u001b[1;32m    130\u001b[0m         \u001b[0;32mexcept\u001b[0m\u001b[0;34m:\u001b[0m\u001b[0;34m\u001b[0m\u001b[0;34m\u001b[0m\u001b[0m\n\u001b[1;32m    131\u001b[0m             \u001b[0;31m# future versions may split out the different exceptions (e.g. timeout)\u001b[0m\u001b[0;34m\u001b[0m\u001b[0;34m\u001b[0m\u001b[0;34m\u001b[0m\u001b[0m\n",
      "\u001b[0;32m~/.pyenv/versions/3.7.9/envs/nlp/lib/python3.7/site-packages/pandas/io/html.py\u001b[0m in \u001b[0;36mread_html\u001b[0;34m(io, match, flavor, header, index_col, skiprows, attrs, parse_dates, thousands, encoding, decimal, converters, na_values, keep_default_na, displayed_only)\u001b[0m\n\u001b[1;32m   1103\u001b[0m         \u001b[0mna_values\u001b[0m\u001b[0;34m=\u001b[0m\u001b[0mna_values\u001b[0m\u001b[0;34m,\u001b[0m\u001b[0;34m\u001b[0m\u001b[0;34m\u001b[0m\u001b[0m\n\u001b[1;32m   1104\u001b[0m         \u001b[0mkeep_default_na\u001b[0m\u001b[0;34m=\u001b[0m\u001b[0mkeep_default_na\u001b[0m\u001b[0;34m,\u001b[0m\u001b[0;34m\u001b[0m\u001b[0;34m\u001b[0m\u001b[0m\n\u001b[0;32m-> 1105\u001b[0;31m         \u001b[0mdisplayed_only\u001b[0m\u001b[0;34m=\u001b[0m\u001b[0mdisplayed_only\u001b[0m\u001b[0;34m,\u001b[0m\u001b[0;34m\u001b[0m\u001b[0;34m\u001b[0m\u001b[0m\n\u001b[0m\u001b[1;32m   1106\u001b[0m     )\n",
      "\u001b[0;32m~/.pyenv/versions/3.7.9/envs/nlp/lib/python3.7/site-packages/pandas/io/html.py\u001b[0m in \u001b[0;36m_parse\u001b[0;34m(flavor, io, match, attrs, encoding, displayed_only, **kwargs)\u001b[0m\n\u001b[1;32m    910\u001b[0m             \u001b[0;32mbreak\u001b[0m\u001b[0;34m\u001b[0m\u001b[0;34m\u001b[0m\u001b[0m\n\u001b[1;32m    911\u001b[0m     \u001b[0;32melse\u001b[0m\u001b[0;34m:\u001b[0m\u001b[0;34m\u001b[0m\u001b[0;34m\u001b[0m\u001b[0m\n\u001b[0;32m--> 912\u001b[0;31m         \u001b[0mraise_with_traceback\u001b[0m\u001b[0;34m(\u001b[0m\u001b[0mretained\u001b[0m\u001b[0;34m)\u001b[0m\u001b[0;34m\u001b[0m\u001b[0;34m\u001b[0m\u001b[0m\n\u001b[0m\u001b[1;32m    913\u001b[0m \u001b[0;34m\u001b[0m\u001b[0m\n\u001b[1;32m    914\u001b[0m     \u001b[0mret\u001b[0m \u001b[0;34m=\u001b[0m \u001b[0;34m[\u001b[0m\u001b[0;34m]\u001b[0m\u001b[0;34m\u001b[0m\u001b[0;34m\u001b[0m\u001b[0m\n",
      "\u001b[0;32m~/.pyenv/versions/3.7.9/envs/nlp/lib/python3.7/site-packages/pandas/compat/__init__.py\u001b[0m in \u001b[0;36mraise_with_traceback\u001b[0;34m(exc, traceback)\u001b[0m\n\u001b[1;32m     45\u001b[0m     \u001b[0;32mif\u001b[0m \u001b[0mtraceback\u001b[0m \u001b[0;34m==\u001b[0m \u001b[0mEllipsis\u001b[0m\u001b[0;34m:\u001b[0m\u001b[0;34m\u001b[0m\u001b[0;34m\u001b[0m\u001b[0m\n\u001b[1;32m     46\u001b[0m         \u001b[0m_\u001b[0m\u001b[0;34m,\u001b[0m \u001b[0m_\u001b[0m\u001b[0;34m,\u001b[0m \u001b[0mtraceback\u001b[0m \u001b[0;34m=\u001b[0m \u001b[0msys\u001b[0m\u001b[0;34m.\u001b[0m\u001b[0mexc_info\u001b[0m\u001b[0;34m(\u001b[0m\u001b[0;34m)\u001b[0m\u001b[0;34m\u001b[0m\u001b[0;34m\u001b[0m\u001b[0m\n\u001b[0;32m---> 47\u001b[0;31m     \u001b[0;32mraise\u001b[0m \u001b[0mexc\u001b[0m\u001b[0;34m.\u001b[0m\u001b[0mwith_traceback\u001b[0m\u001b[0;34m(\u001b[0m\u001b[0mtraceback\u001b[0m\u001b[0;34m)\u001b[0m\u001b[0;34m\u001b[0m\u001b[0;34m\u001b[0m\u001b[0m\n\u001b[0m\u001b[1;32m     48\u001b[0m \u001b[0;34m\u001b[0m\u001b[0m\n\u001b[1;32m     49\u001b[0m \u001b[0;34m\u001b[0m\u001b[0m\n",
      "\u001b[0;31mHTTPError\u001b[0m: HTTP Error 404: Not Found"
     ]
    }
   ],
   "source": [
    "from cryptory import Cryptory\n",
    "\n",
    "# initialise object \n",
    "# pull data from start of 2017 to present day\n",
    "my_cryptory = Cryptory(from_date = \"2017-01-01\")\n",
    "\n",
    "# get historical bitcoin prices from coinmarketcap\n",
    "my_cryptory.extract_coinmarketcap(\"btc\")"
   ]
  },
  {
   "cell_type": "code",
   "execution_count": null,
   "id": "floral-metropolitan",
   "metadata": {},
   "outputs": [],
   "source": [
    "my_cryptory.extract_coinmarketcap(\"bitcoin\")"
   ]
  },
  {
   "cell_type": "code",
   "execution_count": 6,
   "id": "dress-authority",
   "metadata": {},
   "outputs": [
    {
     "name": "stdout",
     "output_type": "stream",
     "text": [
      "Collecting cryptocmd\n",
      "  Downloading cryptocmd-0.6.0-py3-none-any.whl (8.5 kB)\n",
      "Requirement already satisfied: requests in /root/.pyenv/versions/3.7.9/envs/nlp/lib/python3.7/site-packages (from cryptocmd) (2.22.0)\n",
      "Collecting tablib\n",
      "  Downloading tablib-3.0.0-py3-none-any.whl (47 kB)\n",
      "\u001b[K     |████████████████████████████████| 47 kB 5.6 MB/s  eta 0:00:01\n",
      "\u001b[?25hRequirement already satisfied: idna<2.9,>=2.5 in /root/.pyenv/versions/3.7.9/envs/nlp/lib/python3.7/site-packages (from requests->cryptocmd) (2.5)\n",
      "Requirement already satisfied: chardet<3.1.0,>=3.0.2 in /root/.pyenv/versions/3.7.9/envs/nlp/lib/python3.7/site-packages (from requests->cryptocmd) (3.0.4)\n",
      "Requirement already satisfied: certifi>=2017.4.17 in /root/.pyenv/versions/3.7.9/envs/nlp/lib/python3.7/site-packages (from requests->cryptocmd) (2020.12.5)\n",
      "Requirement already satisfied: urllib3!=1.25.0,!=1.25.1,<1.26,>=1.21.1 in /root/.pyenv/versions/3.7.9/envs/nlp/lib/python3.7/site-packages (from requests->cryptocmd) (1.25.11)\n",
      "Installing collected packages: tablib, cryptocmd\n",
      "Successfully installed cryptocmd-0.6.0 tablib-3.0.0\n",
      "\u001b[33mWARNING: You are using pip version 20.1.1; however, version 21.2.4 is available.\n",
      "You should consider upgrading via the '/root/.pyenv/versions/3.7.9/envs/nlp/bin/python3.7 -m pip install --upgrade pip' command.\u001b[0m\n"
     ]
    }
   ],
   "source": [
    "!pip install cryptocmd"
   ]
  },
  {
   "cell_type": "code",
   "execution_count": 4,
   "id": "molecular-rabbit",
   "metadata": {},
   "outputs": [],
   "source": [
    "from cryptocmd import CmcScraper\n",
    "\n",
    "# initialise scraper without time interval\n",
    "scraper = CmcScraper(\"btc\")\n",
    "\n",
    "# get raw data as list of list\n",
    "headers, data = scraper.get_data()\n",
    "\n",
    "# get data in a json format\n",
    "xrp_json_data = scraper.get_data(\"json\")\n",
    "\n",
    "# export the data as csv file, you can also pass optional `name` parameter\n",
    "scraper.export(\"csv\", name=\"xrp_all_time\")\n",
    "\n",
    "# Pandas dataFrame for the same data\n",
    "df = scraper.get_dataframe()"
   ]
  },
  {
   "cell_type": "code",
   "execution_count": 6,
   "id": "northern-maple",
   "metadata": {},
   "outputs": [
    {
     "data": {
      "text/plain": [
       "0      2021-08-16\n",
       "1      2021-08-15\n",
       "2      2021-08-14\n",
       "3      2021-08-13\n",
       "4      2021-08-12\n",
       "          ...    \n",
       "3028   2013-05-02\n",
       "3029   2013-05-01\n",
       "3030   2013-04-30\n",
       "3031   2013-04-29\n",
       "3032   2013-04-28\n",
       "Name: Date, Length: 3033, dtype: datetime64[ns]"
      ]
     },
     "execution_count": 6,
     "metadata": {},
     "output_type": "execute_result"
    }
   ],
   "source": [
    "df['Date']"
   ]
  },
  {
   "cell_type": "code",
   "execution_count": null,
   "id": "smart-couple",
   "metadata": {},
   "outputs": [],
   "source": []
  }
 ],
 "metadata": {
  "kernelspec": {
   "display_name": "Python 3",
   "language": "python",
   "name": "python3"
  },
  "language_info": {
   "codemirror_mode": {
    "name": "ipython",
    "version": 3
   },
   "file_extension": ".py",
   "mimetype": "text/x-python",
   "name": "python",
   "nbconvert_exporter": "python",
   "pygments_lexer": "ipython3",
   "version": "3.7.9"
  }
 },
 "nbformat": 4,
 "nbformat_minor": 5
}
