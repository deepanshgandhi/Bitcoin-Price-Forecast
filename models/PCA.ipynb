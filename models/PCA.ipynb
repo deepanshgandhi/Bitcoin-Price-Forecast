{
 "cells": [
  {
   "cell_type": "code",
   "execution_count": 1,
   "metadata": {},
   "outputs": [],
   "source": [
    "import pandas as pd\n",
    "import numpy as np\n",
    "import matplotlib.pyplot as plt\n",
    "from sklearn.decomposition import PCA\n",
    "from sklearn.preprocessing import Normalizer, StandardScaler, MinMaxScaler, RobustScaler\n",
    "from sklearn.pipeline import Pipeline\n",
    "from sklearn.model_selection import train_test_split\n",
    "from sklearn.metrics import mean_absolute_error, r2_score, mean_squared_error\n",
    "%matplotlib inline"
   ]
  },
  {
   "cell_type": "code",
   "execution_count": 2,
   "metadata": {},
   "outputs": [],
   "source": [
    "data=pd.read_csv('494dec4f-e508-489c-b679-6c12631f96e1_BTC_Data.csv',sep=',')"
   ]
  },
  {
   "cell_type": "code",
   "execution_count": 3,
   "metadata": {},
   "outputs": [],
   "source": [
    "data.interpolate(axis=0,inplace=True)"
   ]
  },
  {
   "cell_type": "code",
   "execution_count": 4,
   "metadata": {},
   "outputs": [],
   "source": [
    "interval3=(data['Date'] >= '2013/04/01') & (data['Date'] <= '2019/12/31')"
   ]
  },
  {
   "cell_type": "code",
   "execution_count": 5,
   "metadata": {},
   "outputs": [],
   "source": [
    "df=data.loc[interval3]"
   ]
  },
  {
   "cell_type": "code",
   "execution_count": 6,
   "metadata": {},
   "outputs": [
    {
     "data": {
      "text/html": [
       "<div>\n",
       "<style scoped>\n",
       "    .dataframe tbody tr th:only-of-type {\n",
       "        vertical-align: middle;\n",
       "    }\n",
       "\n",
       "    .dataframe tbody tr th {\n",
       "        vertical-align: top;\n",
       "    }\n",
       "\n",
       "    .dataframe thead th {\n",
       "        text-align: right;\n",
       "    }\n",
       "</style>\n",
       "<table border=\"1\" class=\"dataframe\">\n",
       "  <thead>\n",
       "    <tr style=\"text-align: right;\">\n",
       "      <th></th>\n",
       "      <th>Unnamed: 0</th>\n",
       "      <th>Date</th>\n",
       "      <th>priceUSD</th>\n",
       "      <th>transactions</th>\n",
       "      <th>size</th>\n",
       "      <th>sentbyaddress</th>\n",
       "      <th>difficulty</th>\n",
       "      <th>hashrate</th>\n",
       "      <th>mining_profitability</th>\n",
       "      <th>sentinusdUSD</th>\n",
       "      <th>...</th>\n",
       "      <th>price3rsiUSD</th>\n",
       "      <th>price7rsiUSD</th>\n",
       "      <th>price14rsiUSD</th>\n",
       "      <th>price30rsiUSD</th>\n",
       "      <th>price90rsiUSD</th>\n",
       "      <th>price3rocUSD</th>\n",
       "      <th>price7rocUSD</th>\n",
       "      <th>price14rocUSD</th>\n",
       "      <th>price30rocUSD</th>\n",
       "      <th>price90rocUSD</th>\n",
       "    </tr>\n",
       "  </thead>\n",
       "  <tbody>\n",
       "    <tr>\n",
       "      <th>989</th>\n",
       "      <td>989</td>\n",
       "      <td>2013/04/01</td>\n",
       "      <td>94.715</td>\n",
       "      <td>52572</td>\n",
       "      <td>139256.0</td>\n",
       "      <td>48809</td>\n",
       "      <td>6695826.0</td>\n",
       "      <td>6.550211e+13</td>\n",
       "      <td>7220.0</td>\n",
       "      <td>127826531.0</td>\n",
       "      <td>...</td>\n",
       "      <td>99.456</td>\n",
       "      <td>96.992</td>\n",
       "      <td>95.075</td>\n",
       "      <td>93.774</td>\n",
       "      <td>91.450</td>\n",
       "      <td>9.383</td>\n",
       "      <td>36.980</td>\n",
       "      <td>104.747</td>\n",
       "      <td>185.993</td>\n",
       "      <td>606.456</td>\n",
       "    </tr>\n",
       "    <tr>\n",
       "      <th>990</th>\n",
       "      <td>990</td>\n",
       "      <td>2013/04/02</td>\n",
       "      <td>107.749</td>\n",
       "      <td>63095</td>\n",
       "      <td>175443.0</td>\n",
       "      <td>62276</td>\n",
       "      <td>6695826.0</td>\n",
       "      <td>6.184560e+13</td>\n",
       "      <td>7990.0</td>\n",
       "      <td>257306533.0</td>\n",
       "      <td>...</td>\n",
       "      <td>99.811</td>\n",
       "      <td>98.201</td>\n",
       "      <td>96.416</td>\n",
       "      <td>94.987</td>\n",
       "      <td>92.645</td>\n",
       "      <td>23.206</td>\n",
       "      <td>50.270</td>\n",
       "      <td>109.704</td>\n",
       "      <td>231.964</td>\n",
       "      <td>716.218</td>\n",
       "    </tr>\n",
       "    <tr>\n",
       "      <th>991</th>\n",
       "      <td>991</td>\n",
       "      <td>2013/04/03</td>\n",
       "      <td>120.003</td>\n",
       "      <td>63766</td>\n",
       "      <td>184209.0</td>\n",
       "      <td>69174</td>\n",
       "      <td>6695826.0</td>\n",
       "      <td>6.027037e+13</td>\n",
       "      <td>8852.0</td>\n",
       "      <td>252194497.0</td>\n",
       "      <td>...</td>\n",
       "      <td>99.902</td>\n",
       "      <td>98.752</td>\n",
       "      <td>97.190</td>\n",
       "      <td>95.785</td>\n",
       "      <td>93.508</td>\n",
       "      <td>34.759</td>\n",
       "      <td>51.448</td>\n",
       "      <td>107.789</td>\n",
       "      <td>259.795</td>\n",
       "      <td>808.284</td>\n",
       "    </tr>\n",
       "    <tr>\n",
       "      <th>992</th>\n",
       "      <td>992</td>\n",
       "      <td>2013/04/04</td>\n",
       "      <td>123.562</td>\n",
       "      <td>66738</td>\n",
       "      <td>221568.0</td>\n",
       "      <td>71753</td>\n",
       "      <td>6695826.0</td>\n",
       "      <td>5.527246e+13</td>\n",
       "      <td>8777.0</td>\n",
       "      <td>226470029.0</td>\n",
       "      <td>...</td>\n",
       "      <td>99.919</td>\n",
       "      <td>98.869</td>\n",
       "      <td>97.368</td>\n",
       "      <td>95.977</td>\n",
       "      <td>93.724</td>\n",
       "      <td>30.456</td>\n",
       "      <td>44.093</td>\n",
       "      <td>93.098</td>\n",
       "      <td>237.355</td>\n",
       "      <td>834.762</td>\n",
       "    </tr>\n",
       "    <tr>\n",
       "      <th>993</th>\n",
       "      <td>993</td>\n",
       "      <td>2013/04/05</td>\n",
       "      <td>128.664</td>\n",
       "      <td>61215</td>\n",
       "      <td>190067.0</td>\n",
       "      <td>69310</td>\n",
       "      <td>7005058.0</td>\n",
       "      <td>5.181545e+13</td>\n",
       "      <td>9950.0</td>\n",
       "      <td>227376421.0</td>\n",
       "      <td>...</td>\n",
       "      <td>99.941</td>\n",
       "      <td>99.022</td>\n",
       "      <td>97.602</td>\n",
       "      <td>96.233</td>\n",
       "      <td>94.013</td>\n",
       "      <td>19.411</td>\n",
       "      <td>48.589</td>\n",
       "      <td>95.718</td>\n",
       "      <td>229.992</td>\n",
       "      <td>876.762</td>\n",
       "    </tr>\n",
       "  </tbody>\n",
       "</table>\n",
       "<p>5 rows × 738 columns</p>\n",
       "</div>"
      ],
      "text/plain": [
       "     Unnamed: 0        Date  priceUSD  transactions      size  sentbyaddress  \\\n",
       "989         989  2013/04/01    94.715         52572  139256.0          48809   \n",
       "990         990  2013/04/02   107.749         63095  175443.0          62276   \n",
       "991         991  2013/04/03   120.003         63766  184209.0          69174   \n",
       "992         992  2013/04/04   123.562         66738  221568.0          71753   \n",
       "993         993  2013/04/05   128.664         61215  190067.0          69310   \n",
       "\n",
       "     difficulty      hashrate  mining_profitability  sentinusdUSD  ...  \\\n",
       "989   6695826.0  6.550211e+13                7220.0   127826531.0  ...   \n",
       "990   6695826.0  6.184560e+13                7990.0   257306533.0  ...   \n",
       "991   6695826.0  6.027037e+13                8852.0   252194497.0  ...   \n",
       "992   6695826.0  5.527246e+13                8777.0   226470029.0  ...   \n",
       "993   7005058.0  5.181545e+13                9950.0   227376421.0  ...   \n",
       "\n",
       "     price3rsiUSD  price7rsiUSD  price14rsiUSD  price30rsiUSD  price90rsiUSD  \\\n",
       "989        99.456        96.992         95.075         93.774         91.450   \n",
       "990        99.811        98.201         96.416         94.987         92.645   \n",
       "991        99.902        98.752         97.190         95.785         93.508   \n",
       "992        99.919        98.869         97.368         95.977         93.724   \n",
       "993        99.941        99.022         97.602         96.233         94.013   \n",
       "\n",
       "     price3rocUSD  price7rocUSD  price14rocUSD  price30rocUSD  price90rocUSD  \n",
       "989         9.383        36.980        104.747        185.993        606.456  \n",
       "990        23.206        50.270        109.704        231.964        716.218  \n",
       "991        34.759        51.448        107.789        259.795        808.284  \n",
       "992        30.456        44.093         93.098        237.355        834.762  \n",
       "993        19.411        48.589         95.718        229.992        876.762  \n",
       "\n",
       "[5 rows x 738 columns]"
      ]
     },
     "execution_count": 6,
     "metadata": {},
     "output_type": "execute_result"
    }
   ],
   "source": [
    "df.head()"
   ]
  },
  {
   "cell_type": "code",
   "execution_count": 7,
   "metadata": {},
   "outputs": [],
   "source": [
    "X=df.iloc[:,2:]"
   ]
  },
  {
   "cell_type": "code",
   "execution_count": 8,
   "metadata": {},
   "outputs": [
    {
     "data": {
      "text/html": [
       "<div>\n",
       "<style scoped>\n",
       "    .dataframe tbody tr th:only-of-type {\n",
       "        vertical-align: middle;\n",
       "    }\n",
       "\n",
       "    .dataframe tbody tr th {\n",
       "        vertical-align: top;\n",
       "    }\n",
       "\n",
       "    .dataframe thead th {\n",
       "        text-align: right;\n",
       "    }\n",
       "</style>\n",
       "<table border=\"1\" class=\"dataframe\">\n",
       "  <thead>\n",
       "    <tr style=\"text-align: right;\">\n",
       "      <th></th>\n",
       "      <th>priceUSD</th>\n",
       "      <th>transactions</th>\n",
       "      <th>size</th>\n",
       "      <th>sentbyaddress</th>\n",
       "      <th>difficulty</th>\n",
       "      <th>hashrate</th>\n",
       "      <th>mining_profitability</th>\n",
       "      <th>sentinusdUSD</th>\n",
       "      <th>transactionfeesUSD</th>\n",
       "      <th>median_transaction_feeUSD</th>\n",
       "      <th>...</th>\n",
       "      <th>price3rsiUSD</th>\n",
       "      <th>price7rsiUSD</th>\n",
       "      <th>price14rsiUSD</th>\n",
       "      <th>price30rsiUSD</th>\n",
       "      <th>price90rsiUSD</th>\n",
       "      <th>price3rocUSD</th>\n",
       "      <th>price7rocUSD</th>\n",
       "      <th>price14rocUSD</th>\n",
       "      <th>price30rocUSD</th>\n",
       "      <th>price90rocUSD</th>\n",
       "    </tr>\n",
       "  </thead>\n",
       "  <tbody>\n",
       "    <tr>\n",
       "      <th>989</th>\n",
       "      <td>94.715</td>\n",
       "      <td>52572</td>\n",
       "      <td>139256.0</td>\n",
       "      <td>48809</td>\n",
       "      <td>6695826.0</td>\n",
       "      <td>6.550211e+13</td>\n",
       "      <td>7220.0</td>\n",
       "      <td>127826531.0</td>\n",
       "      <td>0.0777</td>\n",
       "      <td>0.0474</td>\n",
       "      <td>...</td>\n",
       "      <td>99.456</td>\n",
       "      <td>96.992</td>\n",
       "      <td>95.075</td>\n",
       "      <td>93.774</td>\n",
       "      <td>91.450</td>\n",
       "      <td>9.383</td>\n",
       "      <td>36.980</td>\n",
       "      <td>104.747</td>\n",
       "      <td>185.993</td>\n",
       "      <td>606.456</td>\n",
       "    </tr>\n",
       "    <tr>\n",
       "      <th>990</th>\n",
       "      <td>107.749</td>\n",
       "      <td>63095</td>\n",
       "      <td>175443.0</td>\n",
       "      <td>62276</td>\n",
       "      <td>6695826.0</td>\n",
       "      <td>6.184560e+13</td>\n",
       "      <td>7990.0</td>\n",
       "      <td>257306533.0</td>\n",
       "      <td>0.1050</td>\n",
       "      <td>0.0539</td>\n",
       "      <td>...</td>\n",
       "      <td>99.811</td>\n",
       "      <td>98.201</td>\n",
       "      <td>96.416</td>\n",
       "      <td>94.987</td>\n",
       "      <td>92.645</td>\n",
       "      <td>23.206</td>\n",
       "      <td>50.270</td>\n",
       "      <td>109.704</td>\n",
       "      <td>231.964</td>\n",
       "      <td>716.218</td>\n",
       "    </tr>\n",
       "    <tr>\n",
       "      <th>991</th>\n",
       "      <td>120.003</td>\n",
       "      <td>63766</td>\n",
       "      <td>184209.0</td>\n",
       "      <td>69174</td>\n",
       "      <td>6695826.0</td>\n",
       "      <td>6.027037e+13</td>\n",
       "      <td>8852.0</td>\n",
       "      <td>252194497.0</td>\n",
       "      <td>0.1330</td>\n",
       "      <td>0.0600</td>\n",
       "      <td>...</td>\n",
       "      <td>99.902</td>\n",
       "      <td>98.752</td>\n",
       "      <td>97.190</td>\n",
       "      <td>95.785</td>\n",
       "      <td>93.508</td>\n",
       "      <td>34.759</td>\n",
       "      <td>51.448</td>\n",
       "      <td>107.789</td>\n",
       "      <td>259.795</td>\n",
       "      <td>808.284</td>\n",
       "    </tr>\n",
       "    <tr>\n",
       "      <th>992</th>\n",
       "      <td>123.562</td>\n",
       "      <td>66738</td>\n",
       "      <td>221568.0</td>\n",
       "      <td>71753</td>\n",
       "      <td>6695826.0</td>\n",
       "      <td>5.527246e+13</td>\n",
       "      <td>8777.0</td>\n",
       "      <td>226470029.0</td>\n",
       "      <td>0.1410</td>\n",
       "      <td>0.0618</td>\n",
       "      <td>...</td>\n",
       "      <td>99.919</td>\n",
       "      <td>98.869</td>\n",
       "      <td>97.368</td>\n",
       "      <td>95.977</td>\n",
       "      <td>93.724</td>\n",
       "      <td>30.456</td>\n",
       "      <td>44.093</td>\n",
       "      <td>93.098</td>\n",
       "      <td>237.355</td>\n",
       "      <td>834.762</td>\n",
       "    </tr>\n",
       "    <tr>\n",
       "      <th>993</th>\n",
       "      <td>128.664</td>\n",
       "      <td>61215</td>\n",
       "      <td>190067.0</td>\n",
       "      <td>69310</td>\n",
       "      <td>7005058.0</td>\n",
       "      <td>5.181545e+13</td>\n",
       "      <td>9950.0</td>\n",
       "      <td>227376421.0</td>\n",
       "      <td>0.1200</td>\n",
       "      <td>0.0643</td>\n",
       "      <td>...</td>\n",
       "      <td>99.941</td>\n",
       "      <td>99.022</td>\n",
       "      <td>97.602</td>\n",
       "      <td>96.233</td>\n",
       "      <td>94.013</td>\n",
       "      <td>19.411</td>\n",
       "      <td>48.589</td>\n",
       "      <td>95.718</td>\n",
       "      <td>229.992</td>\n",
       "      <td>876.762</td>\n",
       "    </tr>\n",
       "  </tbody>\n",
       "</table>\n",
       "<p>5 rows × 736 columns</p>\n",
       "</div>"
      ],
      "text/plain": [
       "     priceUSD  transactions      size  sentbyaddress  difficulty  \\\n",
       "989    94.715         52572  139256.0          48809   6695826.0   \n",
       "990   107.749         63095  175443.0          62276   6695826.0   \n",
       "991   120.003         63766  184209.0          69174   6695826.0   \n",
       "992   123.562         66738  221568.0          71753   6695826.0   \n",
       "993   128.664         61215  190067.0          69310   7005058.0   \n",
       "\n",
       "         hashrate  mining_profitability  sentinusdUSD  transactionfeesUSD  \\\n",
       "989  6.550211e+13                7220.0   127826531.0              0.0777   \n",
       "990  6.184560e+13                7990.0   257306533.0              0.1050   \n",
       "991  6.027037e+13                8852.0   252194497.0              0.1330   \n",
       "992  5.527246e+13                8777.0   226470029.0              0.1410   \n",
       "993  5.181545e+13                9950.0   227376421.0              0.1200   \n",
       "\n",
       "     median_transaction_feeUSD  ...  price3rsiUSD  price7rsiUSD  \\\n",
       "989                     0.0474  ...        99.456        96.992   \n",
       "990                     0.0539  ...        99.811        98.201   \n",
       "991                     0.0600  ...        99.902        98.752   \n",
       "992                     0.0618  ...        99.919        98.869   \n",
       "993                     0.0643  ...        99.941        99.022   \n",
       "\n",
       "     price14rsiUSD  price30rsiUSD  price90rsiUSD  price3rocUSD  price7rocUSD  \\\n",
       "989         95.075         93.774         91.450         9.383        36.980   \n",
       "990         96.416         94.987         92.645        23.206        50.270   \n",
       "991         97.190         95.785         93.508        34.759        51.448   \n",
       "992         97.368         95.977         93.724        30.456        44.093   \n",
       "993         97.602         96.233         94.013        19.411        48.589   \n",
       "\n",
       "     price14rocUSD  price30rocUSD  price90rocUSD  \n",
       "989        104.747        185.993        606.456  \n",
       "990        109.704        231.964        716.218  \n",
       "991        107.789        259.795        808.284  \n",
       "992         93.098        237.355        834.762  \n",
       "993         95.718        229.992        876.762  \n",
       "\n",
       "[5 rows x 736 columns]"
      ]
     },
     "execution_count": 8,
     "metadata": {},
     "output_type": "execute_result"
    }
   ],
   "source": [
    "X.head()"
   ]
  },
  {
   "cell_type": "code",
   "execution_count": 9,
   "metadata": {},
   "outputs": [],
   "source": [
    "estimators=[]"
   ]
  },
  {
   "cell_type": "code",
   "execution_count": 10,
   "metadata": {},
   "outputs": [],
   "source": [
    "estimators.append(['minmax',MinMaxScaler(feature_range=(-1,1))])"
   ]
  },
  {
   "cell_type": "code",
   "execution_count": 11,
   "metadata": {},
   "outputs": [],
   "source": [
    "scale=Pipeline(estimators)"
   ]
  },
  {
   "cell_type": "code",
   "execution_count": 12,
   "metadata": {},
   "outputs": [],
   "source": [
    "X=scale.fit_transform(X)"
   ]
  },
  {
   "cell_type": "code",
   "execution_count": 13,
   "metadata": {},
   "outputs": [
    {
     "data": {
      "text/plain": [
       "PCA(n_components=6, random_state=7)"
      ]
     },
     "execution_count": 13,
     "metadata": {},
     "output_type": "execute_result"
    }
   ],
   "source": [
    "pca = PCA(n_components=6,random_state=7)\n",
    "pca.fit(X)"
   ]
  },
  {
   "cell_type": "code",
   "execution_count": 14,
   "metadata": {},
   "outputs": [
    {
     "data": {
      "text/plain": [
       "array([0.43630273, 0.12499583, 0.09213874, 0.04407213, 0.03042072,\n",
       "       0.02542222])"
      ]
     },
     "execution_count": 14,
     "metadata": {},
     "output_type": "execute_result"
    }
   ],
   "source": [
    "pca.explained_variance_ratio_"
   ]
  },
  {
   "cell_type": "code",
   "execution_count": 15,
   "metadata": {},
   "outputs": [
    {
     "data": {
      "text/plain": [
       "array([0.43630273, 0.56129856, 0.6534373 , 0.69750943, 0.72793015,\n",
       "       0.75335237])"
      ]
     },
     "execution_count": 15,
     "metadata": {},
     "output_type": "execute_result"
    }
   ],
   "source": [
    "np.cumsum(pca.explained_variance_ratio_)"
   ]
  },
  {
   "cell_type": "code",
   "execution_count": 16,
   "metadata": {},
   "outputs": [
    {
     "data": {
      "image/png": "[encoded data removed]",
      "text/plain": [
       "<Figure size 432x288 with 1 Axes>"
      ]
     },
     "metadata": {
      "needs_background": "light"
     },
     "output_type": "display_data"
    }
   ],
   "source": [
    "#Plotting the Cumulative Summation of the Explained Variance\n",
    "plt.figure()\n",
    "plt.plot(np.cumsum(pca.explained_variance_ratio_))\n",
    "plt.xlabel('Number of Components')\n",
    "plt.ylabel('Variance (%)') #for each component\n",
    "plt.title('Explained Variance')\n",
    "plt.show()"
   ]
  },
  {
   "cell_type": "code",
   "execution_count": 17,
   "metadata": {
    "scrolled": false
   },
   "outputs": [],
   "source": [
    "df_pca=pd.DataFrame(pca.components_).transpose()"
   ]
  },
  {
   "cell_type": "code",
   "execution_count": 18,
   "metadata": {},
   "outputs": [],
   "source": [
    "df_pca.columns=['comp_1','comp_2','comp_3','comp_4','comp_5','comp_6']"
   ]
  },
  {
   "cell_type": "code",
   "execution_count": 19,
   "metadata": {},
   "outputs": [],
   "source": [
    "y=df.iloc[:,1:2]"
   ]
  },
  {
   "cell_type": "code",
   "execution_count": 20,
   "metadata": {},
   "outputs": [],
   "source": [
    "y.reset_index(drop=True,inplace=True)"
   ]
  },
  {
   "cell_type": "code",
   "execution_count": 21,
   "metadata": {},
   "outputs": [],
   "source": [
    "df_pca['priceUSD']=y"
   ]
  },
  {
   "cell_type": "code",
   "execution_count": 22,
   "metadata": {},
   "outputs": [
    {
     "data": {
      "text/html": [
       "<div>\n",
       "<style scoped>\n",
       "    .dataframe tbody tr th:only-of-type {\n",
       "        vertical-align: middle;\n",
       "    }\n",
       "\n",
       "    .dataframe tbody tr th {\n",
       "        vertical-align: top;\n",
       "    }\n",
       "\n",
       "    .dataframe thead th {\n",
       "        text-align: right;\n",
       "    }\n",
       "</style>\n",
       "<table border=\"1\" class=\"dataframe\">\n",
       "  <thead>\n",
       "    <tr style=\"text-align: right;\">\n",
       "      <th></th>\n",
       "      <th>comp_1</th>\n",
       "      <th>comp_2</th>\n",
       "      <th>comp_3</th>\n",
       "      <th>comp_4</th>\n",
       "      <th>comp_5</th>\n",
       "      <th>comp_6</th>\n",
       "      <th>priceUSD</th>\n",
       "    </tr>\n",
       "  </thead>\n",
       "  <tbody>\n",
       "    <tr>\n",
       "      <th>0</th>\n",
       "      <td>0.058116</td>\n",
       "      <td>-0.016694</td>\n",
       "      <td>0.070860</td>\n",
       "      <td>0.005743</td>\n",
       "      <td>0.041563</td>\n",
       "      <td>0.004048</td>\n",
       "      <td>2013/04/01</td>\n",
       "    </tr>\n",
       "    <tr>\n",
       "      <th>1</th>\n",
       "      <td>0.073989</td>\n",
       "      <td>0.009038</td>\n",
       "      <td>-0.050076</td>\n",
       "      <td>0.041870</td>\n",
       "      <td>0.006122</td>\n",
       "      <td>-0.015159</td>\n",
       "      <td>2013/04/02</td>\n",
       "    </tr>\n",
       "    <tr>\n",
       "      <th>2</th>\n",
       "      <td>0.094911</td>\n",
       "      <td>0.062334</td>\n",
       "      <td>-0.086404</td>\n",
       "      <td>-0.016571</td>\n",
       "      <td>0.022675</td>\n",
       "      <td>-0.056049</td>\n",
       "      <td>2013/04/03</td>\n",
       "    </tr>\n",
       "    <tr>\n",
       "      <th>3</th>\n",
       "      <td>0.064889</td>\n",
       "      <td>0.023375</td>\n",
       "      <td>-0.041694</td>\n",
       "      <td>0.018898</td>\n",
       "      <td>0.027442</td>\n",
       "      <td>-0.016319</td>\n",
       "      <td>2013/04/04</td>\n",
       "    </tr>\n",
       "    <tr>\n",
       "      <th>4</th>\n",
       "      <td>0.065752</td>\n",
       "      <td>-0.117845</td>\n",
       "      <td>0.022383</td>\n",
       "      <td>0.035928</td>\n",
       "      <td>-0.001689</td>\n",
       "      <td>0.011374</td>\n",
       "      <td>2013/04/05</td>\n",
       "    </tr>\n",
       "  </tbody>\n",
       "</table>\n",
       "</div>"
      ],
      "text/plain": [
       "     comp_1    comp_2    comp_3    comp_4    comp_5    comp_6    priceUSD\n",
       "0  0.058116 -0.016694  0.070860  0.005743  0.041563  0.004048  2013/04/01\n",
       "1  0.073989  0.009038 -0.050076  0.041870  0.006122 -0.015159  2013/04/02\n",
       "2  0.094911  0.062334 -0.086404 -0.016571  0.022675 -0.056049  2013/04/03\n",
       "3  0.064889  0.023375 -0.041694  0.018898  0.027442 -0.016319  2013/04/04\n",
       "4  0.065752 -0.117845  0.022383  0.035928 -0.001689  0.011374  2013/04/05"
      ]
     },
     "execution_count": 22,
     "metadata": {},
     "output_type": "execute_result"
    }
   ],
   "source": [
    "df_pca.head()"
   ]
  },
  {
   "cell_type": "code",
   "execution_count": 23,
   "metadata": {},
   "outputs": [],
   "source": [
    "df_pca.to_csv('pca_75_reg.csv',index=False)"
   ]
  },
  {
   "cell_type": "markdown",
   "metadata": {},
   "source": [
    "# Classification"
   ]
  },
  {
   "cell_type": "code",
   "execution_count": 24,
   "metadata": {},
   "outputs": [],
   "source": [
    "one=data['priceUSD'].shift(-1,fill_value=1)"
   ]
  },
  {
   "cell_type": "code",
   "execution_count": 25,
   "metadata": {},
   "outputs": [
    {
     "name": "stderr",
     "output_type": "stream",
     "text": [
      "<ipython-input-25-97e2f315f074>:1: SettingWithCopyWarning: \n",
      "A value is trying to be set on a copy of a slice from a DataFrame.\n",
      "Try using .loc[row_indexer,col_indexer] = value instead\n",
      "\n",
      "See the caveats in the documentation: https://pandas.pydata.org/pandas-docs/stable/user_guide/indexing.html#returning-a-view-versus-a-copy\n",
      "  df['one']=one.loc[interval3]\n"
     ]
    }
   ],
   "source": [
    "df['one']=one.loc[interval3]"
   ]
  },
  {
   "cell_type": "code",
   "execution_count": 26,
   "metadata": {},
   "outputs": [
    {
     "name": "stderr",
     "output_type": "stream",
     "text": [
      "<ipython-input-26-95a65c7a4bec>:1: SettingWithCopyWarning: \n",
      "A value is trying to be set on a copy of a slice from a DataFrame.\n",
      "Try using .loc[row_indexer,col_indexer] = value instead\n",
      "\n",
      "See the caveats in the documentation: https://pandas.pydata.org/pandas-docs/stable/user_guide/indexing.html#returning-a-view-versus-a-copy\n",
      "  df['difference']=((df['one']-df['priceUSD'])/df['priceUSD'])*100\n"
     ]
    }
   ],
   "source": [
    "df['difference']=((df['one']-df['priceUSD'])/df['priceUSD'])*100"
   ]
  },
  {
   "cell_type": "code",
   "execution_count": 27,
   "metadata": {},
   "outputs": [],
   "source": [
    "df.reset_index(drop=True,inplace=True)"
   ]
  },
  {
   "cell_type": "code",
   "execution_count": 28,
   "metadata": {},
   "outputs": [],
   "source": [
    "category=[]\n",
    "for x in range(len(df['difference'])):\n",
    "    if df['difference'][x]>=0:\n",
    "        category.append(1)\n",
    "    else:\n",
    "        category.append(0)"
   ]
  },
  {
   "cell_type": "code",
   "execution_count": 29,
   "metadata": {},
   "outputs": [
    {
     "data": {
      "text/plain": [
       "1332"
      ]
     },
     "execution_count": 29,
     "metadata": {},
     "output_type": "execute_result"
    }
   ],
   "source": [
    "sum(category)"
   ]
  },
  {
   "cell_type": "code",
   "execution_count": 30,
   "metadata": {
    "scrolled": true
   },
   "outputs": [
    {
     "name": "stderr",
     "output_type": "stream",
     "text": [
      "<ipython-input-30-e41b9fed2149>:1: SettingWithCopyWarning: \n",
      "A value is trying to be set on a copy of a slice from a DataFrame.\n",
      "Try using .loc[row_indexer,col_indexer] = value instead\n",
      "\n",
      "See the caveats in the documentation: https://pandas.pydata.org/pandas-docs/stable/user_guide/indexing.html#returning-a-view-versus-a-copy\n",
      "  df['category']=pd.DataFrame(category)\n"
     ]
    }
   ],
   "source": [
    "df['category']=pd.DataFrame(category)"
   ]
  },
  {
   "cell_type": "code",
   "execution_count": 31,
   "metadata": {},
   "outputs": [
    {
     "data": {
      "text/html": [
       "<div>\n",
       "<style scoped>\n",
       "    .dataframe tbody tr th:only-of-type {\n",
       "        vertical-align: middle;\n",
       "    }\n",
       "\n",
       "    .dataframe tbody tr th {\n",
       "        vertical-align: top;\n",
       "    }\n",
       "\n",
       "    .dataframe thead th {\n",
       "        text-align: right;\n",
       "    }\n",
       "</style>\n",
       "<table border=\"1\" class=\"dataframe\">\n",
       "  <thead>\n",
       "    <tr style=\"text-align: right;\">\n",
       "      <th></th>\n",
       "      <th>Unnamed: 0</th>\n",
       "      <th>Date</th>\n",
       "      <th>priceUSD</th>\n",
       "      <th>transactions</th>\n",
       "      <th>size</th>\n",
       "      <th>sentbyaddress</th>\n",
       "      <th>difficulty</th>\n",
       "      <th>hashrate</th>\n",
       "      <th>mining_profitability</th>\n",
       "      <th>sentinusdUSD</th>\n",
       "      <th>...</th>\n",
       "      <th>price30rsiUSD</th>\n",
       "      <th>price90rsiUSD</th>\n",
       "      <th>price3rocUSD</th>\n",
       "      <th>price7rocUSD</th>\n",
       "      <th>price14rocUSD</th>\n",
       "      <th>price30rocUSD</th>\n",
       "      <th>price90rocUSD</th>\n",
       "      <th>one</th>\n",
       "      <th>difference</th>\n",
       "      <th>category</th>\n",
       "    </tr>\n",
       "  </thead>\n",
       "  <tbody>\n",
       "    <tr>\n",
       "      <th>2461</th>\n",
       "      <td>3450</td>\n",
       "      <td>2019/12/27</td>\n",
       "      <td>7263.0</td>\n",
       "      <td>322059</td>\n",
       "      <td>709273.0</td>\n",
       "      <td>415723</td>\n",
       "      <td>1.294859e+13</td>\n",
       "      <td>9.725392e+19</td>\n",
       "      <td>0.137</td>\n",
       "      <td>3.906419e+09</td>\n",
       "      <td>...</td>\n",
       "      <td>42.961</td>\n",
       "      <td>46.220</td>\n",
       "      <td>-1.348</td>\n",
       "      <td>0.717</td>\n",
       "      <td>0.076</td>\n",
       "      <td>-0.081</td>\n",
       "      <td>-11.109</td>\n",
       "      <td>7361.0</td>\n",
       "      <td>1.349305</td>\n",
       "      <td>1</td>\n",
       "    </tr>\n",
       "    <tr>\n",
       "      <th>2462</th>\n",
       "      <td>3451</td>\n",
       "      <td>2019/12/28</td>\n",
       "      <td>7361.0</td>\n",
       "      <td>298138</td>\n",
       "      <td>625161.0</td>\n",
       "      <td>376120</td>\n",
       "      <td>1.294859e+13</td>\n",
       "      <td>9.517417e+19</td>\n",
       "      <td>0.145</td>\n",
       "      <td>3.214321e+09</td>\n",
       "      <td>...</td>\n",
       "      <td>44.575</td>\n",
       "      <td>46.608</td>\n",
       "      <td>1.080</td>\n",
       "      <td>2.124</td>\n",
       "      <td>2.180</td>\n",
       "      <td>-2.562</td>\n",
       "      <td>-9.029</td>\n",
       "      <td>7469.0</td>\n",
       "      <td>1.467192</td>\n",
       "      <td>1</td>\n",
       "    </tr>\n",
       "    <tr>\n",
       "      <th>2463</th>\n",
       "      <td>3452</td>\n",
       "      <td>2019/12/29</td>\n",
       "      <td>7469.0</td>\n",
       "      <td>279770</td>\n",
       "      <td>552879.0</td>\n",
       "      <td>344377</td>\n",
       "      <td>1.294859e+13</td>\n",
       "      <td>1.010148e+20</td>\n",
       "      <td>0.144</td>\n",
       "      <td>2.491859e+09</td>\n",
       "      <td>...</td>\n",
       "      <td>46.295</td>\n",
       "      <td>47.031</td>\n",
       "      <td>2.631</td>\n",
       "      <td>2.658</td>\n",
       "      <td>4.788</td>\n",
       "      <td>-1.656</td>\n",
       "      <td>-7.569</td>\n",
       "      <td>7388.0</td>\n",
       "      <td>-1.084483</td>\n",
       "      <td>0</td>\n",
       "    </tr>\n",
       "    <tr>\n",
       "      <th>2464</th>\n",
       "      <td>3453</td>\n",
       "      <td>2019/12/30</td>\n",
       "      <td>7388.0</td>\n",
       "      <td>324331</td>\n",
       "      <td>661326.0</td>\n",
       "      <td>418908</td>\n",
       "      <td>1.294859e+13</td>\n",
       "      <td>1.018722e+20</td>\n",
       "      <td>0.152</td>\n",
       "      <td>4.650041e+09</td>\n",
       "      <td>...</td>\n",
       "      <td>45.205</td>\n",
       "      <td>46.750</td>\n",
       "      <td>1.722</td>\n",
       "      <td>-1.875</td>\n",
       "      <td>4.286</td>\n",
       "      <td>-3.716</td>\n",
       "      <td>-11.675</td>\n",
       "      <td>7293.0</td>\n",
       "      <td>-1.285869</td>\n",
       "      <td>0</td>\n",
       "    </tr>\n",
       "    <tr>\n",
       "      <th>2465</th>\n",
       "      <td>3454</td>\n",
       "      <td>2019/12/31</td>\n",
       "      <td>7293.0</td>\n",
       "      <td>293302</td>\n",
       "      <td>687065.0</td>\n",
       "      <td>375764</td>\n",
       "      <td>1.294859e+13</td>\n",
       "      <td>9.877266e+19</td>\n",
       "      <td>0.135</td>\n",
       "      <td>3.430133e+09</td>\n",
       "      <td>...</td>\n",
       "      <td>43.938</td>\n",
       "      <td>46.417</td>\n",
       "      <td>-0.935</td>\n",
       "      <td>-0.948</td>\n",
       "      <td>6.402</td>\n",
       "      <td>-0.922</td>\n",
       "      <td>-11.770</td>\n",
       "      <td>7238.0</td>\n",
       "      <td>-0.754148</td>\n",
       "      <td>0</td>\n",
       "    </tr>\n",
       "  </tbody>\n",
       "</table>\n",
       "<p>5 rows × 741 columns</p>\n",
       "</div>"
      ],
      "text/plain": [
       "      Unnamed: 0        Date  priceUSD  transactions      size  sentbyaddress  \\\n",
       "2461        3450  2019/12/27    7263.0        322059  709273.0         415723   \n",
       "2462        3451  2019/12/28    7361.0        298138  625161.0         376120   \n",
       "2463        3452  2019/12/29    7469.0        279770  552879.0         344377   \n",
       "2464        3453  2019/12/30    7388.0        324331  661326.0         418908   \n",
       "2465        3454  2019/12/31    7293.0        293302  687065.0         375764   \n",
       "\n",
       "        difficulty      hashrate  mining_profitability  sentinusdUSD  ...  \\\n",
       "2461  1.294859e+13  9.725392e+19                 0.137  3.906419e+09  ...   \n",
       "2462  1.294859e+13  9.517417e+19                 0.145  3.214321e+09  ...   \n",
       "2463  1.294859e+13  1.010148e+20                 0.144  2.491859e+09  ...   \n",
       "2464  1.294859e+13  1.018722e+20                 0.152  4.650041e+09  ...   \n",
       "2465  1.294859e+13  9.877266e+19                 0.135  3.430133e+09  ...   \n",
       "\n",
       "      price30rsiUSD  price90rsiUSD  price3rocUSD  price7rocUSD  price14rocUSD  \\\n",
       "2461         42.961         46.220        -1.348         0.717          0.076   \n",
       "2462         44.575         46.608         1.080         2.124          2.180   \n",
       "2463         46.295         47.031         2.631         2.658          4.788   \n",
       "2464         45.205         46.750         1.722        -1.875          4.286   \n",
       "2465         43.938         46.417        -0.935        -0.948          6.402   \n",
       "\n",
       "      price30rocUSD  price90rocUSD     one  difference  category  \n",
       "2461         -0.081        -11.109  7361.0    1.349305         1  \n",
       "2462         -2.562         -9.029  7469.0    1.467192         1  \n",
       "2463         -1.656         -7.569  7388.0   -1.084483         0  \n",
       "2464         -3.716        -11.675  7293.0   -1.285869         0  \n",
       "2465         -0.922        -11.770  7238.0   -0.754148         0  \n",
       "\n",
       "[5 rows x 741 columns]"
      ]
     },
     "execution_count": 31,
     "metadata": {},
     "output_type": "execute_result"
    }
   ],
   "source": [
    "df.tail()"
   ]
  },
  {
   "cell_type": "code",
   "execution_count": 32,
   "metadata": {},
   "outputs": [
    {
     "name": "stderr",
     "output_type": "stream",
     "text": [
      "<ipython-input-32-aff945fbe896>:1: SettingWithCopyWarning: \n",
      "A value is trying to be set on a copy of a slice from a DataFrame.\n",
      "Try using .loc[row_indexer,col_indexer] = value instead\n",
      "\n",
      "See the caveats in the documentation: https://pandas.pydata.org/pandas-docs/stable/user_guide/indexing.html#returning-a-view-versus-a-copy\n",
      "  df['priceUSD']=df['category']\n"
     ]
    }
   ],
   "source": [
    "df['priceUSD']=df['category']"
   ]
  },
  {
   "cell_type": "code",
   "execution_count": 33,
   "metadata": {},
   "outputs": [
    {
     "name": "stderr",
     "output_type": "stream",
     "text": [
      "/Users/deepanshgandhi/opt/anaconda3/lib/python3.8/site-packages/pandas/core/frame.py:4308: SettingWithCopyWarning: \n",
      "A value is trying to be set on a copy of a slice from a DataFrame\n",
      "\n",
      "See the caveats in the documentation: https://pandas.pydata.org/pandas-docs/stable/user_guide/indexing.html#returning-a-view-versus-a-copy\n",
      "  return super().drop(\n"
     ]
    }
   ],
   "source": [
    "df.drop(columns=['category','one','difference'],inplace=True)"
   ]
  },
  {
   "cell_type": "code",
   "execution_count": 34,
   "metadata": {},
   "outputs": [
    {
     "data": {
      "text/html": [
       "<div>\n",
       "<style scoped>\n",
       "    .dataframe tbody tr th:only-of-type {\n",
       "        vertical-align: middle;\n",
       "    }\n",
       "\n",
       "    .dataframe tbody tr th {\n",
       "        vertical-align: top;\n",
       "    }\n",
       "\n",
       "    .dataframe thead th {\n",
       "        text-align: right;\n",
       "    }\n",
       "</style>\n",
       "<table border=\"1\" class=\"dataframe\">\n",
       "  <thead>\n",
       "    <tr style=\"text-align: right;\">\n",
       "      <th></th>\n",
       "      <th>Unnamed: 0</th>\n",
       "      <th>Date</th>\n",
       "      <th>priceUSD</th>\n",
       "      <th>transactions</th>\n",
       "      <th>size</th>\n",
       "      <th>sentbyaddress</th>\n",
       "      <th>difficulty</th>\n",
       "      <th>hashrate</th>\n",
       "      <th>mining_profitability</th>\n",
       "      <th>sentinusdUSD</th>\n",
       "      <th>...</th>\n",
       "      <th>price3rsiUSD</th>\n",
       "      <th>price7rsiUSD</th>\n",
       "      <th>price14rsiUSD</th>\n",
       "      <th>price30rsiUSD</th>\n",
       "      <th>price90rsiUSD</th>\n",
       "      <th>price3rocUSD</th>\n",
       "      <th>price7rocUSD</th>\n",
       "      <th>price14rocUSD</th>\n",
       "      <th>price30rocUSD</th>\n",
       "      <th>price90rocUSD</th>\n",
       "    </tr>\n",
       "  </thead>\n",
       "  <tbody>\n",
       "    <tr>\n",
       "      <th>0</th>\n",
       "      <td>989</td>\n",
       "      <td>2013/04/01</td>\n",
       "      <td>1</td>\n",
       "      <td>52572</td>\n",
       "      <td>139256.0</td>\n",
       "      <td>48809</td>\n",
       "      <td>6695826.0</td>\n",
       "      <td>6.550211e+13</td>\n",
       "      <td>7220.0</td>\n",
       "      <td>127826531.0</td>\n",
       "      <td>...</td>\n",
       "      <td>99.456</td>\n",
       "      <td>96.992</td>\n",
       "      <td>95.075</td>\n",
       "      <td>93.774</td>\n",
       "      <td>91.450</td>\n",
       "      <td>9.383</td>\n",
       "      <td>36.980</td>\n",
       "      <td>104.747</td>\n",
       "      <td>185.993</td>\n",
       "      <td>606.456</td>\n",
       "    </tr>\n",
       "    <tr>\n",
       "      <th>1</th>\n",
       "      <td>990</td>\n",
       "      <td>2013/04/02</td>\n",
       "      <td>1</td>\n",
       "      <td>63095</td>\n",
       "      <td>175443.0</td>\n",
       "      <td>62276</td>\n",
       "      <td>6695826.0</td>\n",
       "      <td>6.184560e+13</td>\n",
       "      <td>7990.0</td>\n",
       "      <td>257306533.0</td>\n",
       "      <td>...</td>\n",
       "      <td>99.811</td>\n",
       "      <td>98.201</td>\n",
       "      <td>96.416</td>\n",
       "      <td>94.987</td>\n",
       "      <td>92.645</td>\n",
       "      <td>23.206</td>\n",
       "      <td>50.270</td>\n",
       "      <td>109.704</td>\n",
       "      <td>231.964</td>\n",
       "      <td>716.218</td>\n",
       "    </tr>\n",
       "    <tr>\n",
       "      <th>2</th>\n",
       "      <td>991</td>\n",
       "      <td>2013/04/03</td>\n",
       "      <td>1</td>\n",
       "      <td>63766</td>\n",
       "      <td>184209.0</td>\n",
       "      <td>69174</td>\n",
       "      <td>6695826.0</td>\n",
       "      <td>6.027037e+13</td>\n",
       "      <td>8852.0</td>\n",
       "      <td>252194497.0</td>\n",
       "      <td>...</td>\n",
       "      <td>99.902</td>\n",
       "      <td>98.752</td>\n",
       "      <td>97.190</td>\n",
       "      <td>95.785</td>\n",
       "      <td>93.508</td>\n",
       "      <td>34.759</td>\n",
       "      <td>51.448</td>\n",
       "      <td>107.789</td>\n",
       "      <td>259.795</td>\n",
       "      <td>808.284</td>\n",
       "    </tr>\n",
       "  </tbody>\n",
       "</table>\n",
       "<p>3 rows × 738 columns</p>\n",
       "</div>"
      ],
      "text/plain": [
       "   Unnamed: 0        Date  priceUSD  transactions      size  sentbyaddress  \\\n",
       "0         989  2013/04/01         1         52572  139256.0          48809   \n",
       "1         990  2013/04/02         1         63095  175443.0          62276   \n",
       "2         991  2013/04/03         1         63766  184209.0          69174   \n",
       "\n",
       "   difficulty      hashrate  mining_profitability  sentinusdUSD  ...  \\\n",
       "0   6695826.0  6.550211e+13                7220.0   127826531.0  ...   \n",
       "1   6695826.0  6.184560e+13                7990.0   257306533.0  ...   \n",
       "2   6695826.0  6.027037e+13                8852.0   252194497.0  ...   \n",
       "\n",
       "   price3rsiUSD  price7rsiUSD  price14rsiUSD  price30rsiUSD  price90rsiUSD  \\\n",
       "0        99.456        96.992         95.075         93.774         91.450   \n",
       "1        99.811        98.201         96.416         94.987         92.645   \n",
       "2        99.902        98.752         97.190         95.785         93.508   \n",
       "\n",
       "   price3rocUSD  price7rocUSD  price14rocUSD  price30rocUSD  price90rocUSD  \n",
       "0         9.383        36.980        104.747        185.993        606.456  \n",
       "1        23.206        50.270        109.704        231.964        716.218  \n",
       "2        34.759        51.448        107.789        259.795        808.284  \n",
       "\n",
       "[3 rows x 738 columns]"
      ]
     },
     "execution_count": 34,
     "metadata": {},
     "output_type": "execute_result"
    }
   ],
   "source": [
    "df.head(3)"
   ]
  },
  {
   "cell_type": "code",
   "execution_count": 35,
   "metadata": {},
   "outputs": [],
   "source": [
    "X=df.iloc[:,2:]"
   ]
  },
  {
   "cell_type": "code",
   "execution_count": 36,
   "metadata": {},
   "outputs": [
    {
     "data": {
      "text/html": [
       "<div>\n",
       "<style scoped>\n",
       "    .dataframe tbody tr th:only-of-type {\n",
       "        vertical-align: middle;\n",
       "    }\n",
       "\n",
       "    .dataframe tbody tr th {\n",
       "        vertical-align: top;\n",
       "    }\n",
       "\n",
       "    .dataframe thead th {\n",
       "        text-align: right;\n",
       "    }\n",
       "</style>\n",
       "<table border=\"1\" class=\"dataframe\">\n",
       "  <thead>\n",
       "    <tr style=\"text-align: right;\">\n",
       "      <th></th>\n",
       "      <th>priceUSD</th>\n",
       "      <th>transactions</th>\n",
       "      <th>size</th>\n",
       "      <th>sentbyaddress</th>\n",
       "      <th>difficulty</th>\n",
       "      <th>hashrate</th>\n",
       "      <th>mining_profitability</th>\n",
       "      <th>sentinusdUSD</th>\n",
       "      <th>transactionfeesUSD</th>\n",
       "      <th>median_transaction_feeUSD</th>\n",
       "      <th>...</th>\n",
       "      <th>price3rsiUSD</th>\n",
       "      <th>price7rsiUSD</th>\n",
       "      <th>price14rsiUSD</th>\n",
       "      <th>price30rsiUSD</th>\n",
       "      <th>price90rsiUSD</th>\n",
       "      <th>price3rocUSD</th>\n",
       "      <th>price7rocUSD</th>\n",
       "      <th>price14rocUSD</th>\n",
       "      <th>price30rocUSD</th>\n",
       "      <th>price90rocUSD</th>\n",
       "    </tr>\n",
       "  </thead>\n",
       "  <tbody>\n",
       "    <tr>\n",
       "      <th>0</th>\n",
       "      <td>1</td>\n",
       "      <td>52572</td>\n",
       "      <td>139256.0</td>\n",
       "      <td>48809</td>\n",
       "      <td>6695826.0</td>\n",
       "      <td>6.550211e+13</td>\n",
       "      <td>7220.0</td>\n",
       "      <td>127826531.0</td>\n",
       "      <td>0.0777</td>\n",
       "      <td>0.0474</td>\n",
       "      <td>...</td>\n",
       "      <td>99.456</td>\n",
       "      <td>96.992</td>\n",
       "      <td>95.075</td>\n",
       "      <td>93.774</td>\n",
       "      <td>91.450</td>\n",
       "      <td>9.383</td>\n",
       "      <td>36.980</td>\n",
       "      <td>104.747</td>\n",
       "      <td>185.993</td>\n",
       "      <td>606.456</td>\n",
       "    </tr>\n",
       "    <tr>\n",
       "      <th>1</th>\n",
       "      <td>1</td>\n",
       "      <td>63095</td>\n",
       "      <td>175443.0</td>\n",
       "      <td>62276</td>\n",
       "      <td>6695826.0</td>\n",
       "      <td>6.184560e+13</td>\n",
       "      <td>7990.0</td>\n",
       "      <td>257306533.0</td>\n",
       "      <td>0.1050</td>\n",
       "      <td>0.0539</td>\n",
       "      <td>...</td>\n",
       "      <td>99.811</td>\n",
       "      <td>98.201</td>\n",
       "      <td>96.416</td>\n",
       "      <td>94.987</td>\n",
       "      <td>92.645</td>\n",
       "      <td>23.206</td>\n",
       "      <td>50.270</td>\n",
       "      <td>109.704</td>\n",
       "      <td>231.964</td>\n",
       "      <td>716.218</td>\n",
       "    </tr>\n",
       "    <tr>\n",
       "      <th>2</th>\n",
       "      <td>1</td>\n",
       "      <td>63766</td>\n",
       "      <td>184209.0</td>\n",
       "      <td>69174</td>\n",
       "      <td>6695826.0</td>\n",
       "      <td>6.027037e+13</td>\n",
       "      <td>8852.0</td>\n",
       "      <td>252194497.0</td>\n",
       "      <td>0.1330</td>\n",
       "      <td>0.0600</td>\n",
       "      <td>...</td>\n",
       "      <td>99.902</td>\n",
       "      <td>98.752</td>\n",
       "      <td>97.190</td>\n",
       "      <td>95.785</td>\n",
       "      <td>93.508</td>\n",
       "      <td>34.759</td>\n",
       "      <td>51.448</td>\n",
       "      <td>107.789</td>\n",
       "      <td>259.795</td>\n",
       "      <td>808.284</td>\n",
       "    </tr>\n",
       "    <tr>\n",
       "      <th>3</th>\n",
       "      <td>1</td>\n",
       "      <td>66738</td>\n",
       "      <td>221568.0</td>\n",
       "      <td>71753</td>\n",
       "      <td>6695826.0</td>\n",
       "      <td>5.527246e+13</td>\n",
       "      <td>8777.0</td>\n",
       "      <td>226470029.0</td>\n",
       "      <td>0.1410</td>\n",
       "      <td>0.0618</td>\n",
       "      <td>...</td>\n",
       "      <td>99.919</td>\n",
       "      <td>98.869</td>\n",
       "      <td>97.368</td>\n",
       "      <td>95.977</td>\n",
       "      <td>93.724</td>\n",
       "      <td>30.456</td>\n",
       "      <td>44.093</td>\n",
       "      <td>93.098</td>\n",
       "      <td>237.355</td>\n",
       "      <td>834.762</td>\n",
       "    </tr>\n",
       "    <tr>\n",
       "      <th>4</th>\n",
       "      <td>1</td>\n",
       "      <td>61215</td>\n",
       "      <td>190067.0</td>\n",
       "      <td>69310</td>\n",
       "      <td>7005058.0</td>\n",
       "      <td>5.181545e+13</td>\n",
       "      <td>9950.0</td>\n",
       "      <td>227376421.0</td>\n",
       "      <td>0.1200</td>\n",
       "      <td>0.0643</td>\n",
       "      <td>...</td>\n",
       "      <td>99.941</td>\n",
       "      <td>99.022</td>\n",
       "      <td>97.602</td>\n",
       "      <td>96.233</td>\n",
       "      <td>94.013</td>\n",
       "      <td>19.411</td>\n",
       "      <td>48.589</td>\n",
       "      <td>95.718</td>\n",
       "      <td>229.992</td>\n",
       "      <td>876.762</td>\n",
       "    </tr>\n",
       "  </tbody>\n",
       "</table>\n",
       "<p>5 rows × 736 columns</p>\n",
       "</div>"
      ],
      "text/plain": [
       "   priceUSD  transactions      size  sentbyaddress  difficulty      hashrate  \\\n",
       "0         1         52572  139256.0          48809   6695826.0  6.550211e+13   \n",
       "1         1         63095  175443.0          62276   6695826.0  6.184560e+13   \n",
       "2         1         63766  184209.0          69174   6695826.0  6.027037e+13   \n",
       "3         1         66738  221568.0          71753   6695826.0  5.527246e+13   \n",
       "4         1         61215  190067.0          69310   7005058.0  5.181545e+13   \n",
       "\n",
       "   mining_profitability  sentinusdUSD  transactionfeesUSD  \\\n",
       "0                7220.0   127826531.0              0.0777   \n",
       "1                7990.0   257306533.0              0.1050   \n",
       "2                8852.0   252194497.0              0.1330   \n",
       "3                8777.0   226470029.0              0.1410   \n",
       "4                9950.0   227376421.0              0.1200   \n",
       "\n",
       "   median_transaction_feeUSD  ...  price3rsiUSD  price7rsiUSD  price14rsiUSD  \\\n",
       "0                     0.0474  ...        99.456        96.992         95.075   \n",
       "1                     0.0539  ...        99.811        98.201         96.416   \n",
       "2                     0.0600  ...        99.902        98.752         97.190   \n",
       "3                     0.0618  ...        99.919        98.869         97.368   \n",
       "4                     0.0643  ...        99.941        99.022         97.602   \n",
       "\n",
       "   price30rsiUSD  price90rsiUSD  price3rocUSD  price7rocUSD  price14rocUSD  \\\n",
       "0         93.774         91.450         9.383        36.980        104.747   \n",
       "1         94.987         92.645        23.206        50.270        109.704   \n",
       "2         95.785         93.508        34.759        51.448        107.789   \n",
       "3         95.977         93.724        30.456        44.093         93.098   \n",
       "4         96.233         94.013        19.411        48.589         95.718   \n",
       "\n",
       "   price30rocUSD  price90rocUSD  \n",
       "0        185.993        606.456  \n",
       "1        231.964        716.218  \n",
       "2        259.795        808.284  \n",
       "3        237.355        834.762  \n",
       "4        229.992        876.762  \n",
       "\n",
       "[5 rows x 736 columns]"
      ]
     },
     "execution_count": 36,
     "metadata": {},
     "output_type": "execute_result"
    }
   ],
   "source": [
    "X.head()"
   ]
  },
  {
   "cell_type": "code",
   "execution_count": 37,
   "metadata": {},
   "outputs": [],
   "source": [
    "estimators=[]"
   ]
  },
  {
   "cell_type": "code",
   "execution_count": 38,
   "metadata": {},
   "outputs": [],
   "source": [
    "estimators.append(['minmax',MinMaxScaler(feature_range=(-1,1))])"
   ]
  },
  {
   "cell_type": "code",
   "execution_count": 39,
   "metadata": {},
   "outputs": [],
   "source": [
    "scale=Pipeline(estimators)"
   ]
  },
  {
   "cell_type": "code",
   "execution_count": 40,
   "metadata": {},
   "outputs": [],
   "source": [
    "X=scale.fit_transform(X)"
   ]
  },
  {
   "cell_type": "code",
   "execution_count": 41,
   "metadata": {},
   "outputs": [
    {
     "data": {
      "text/plain": [
       "PCA(n_components=50, random_state=7)"
      ]
     },
     "execution_count": 41,
     "metadata": {},
     "output_type": "execute_result"
    }
   ],
   "source": [
    "pca = PCA(n_components=50,random_state=7)\n",
    "pca.fit(X)"
   ]
  },
  {
   "cell_type": "code",
   "execution_count": 42,
   "metadata": {},
   "outputs": [
    {
     "data": {
      "text/plain": [
       "array([0.42969228, 0.12359557, 0.09064055, 0.04361428, 0.03004435,\n",
       "       0.02525898, 0.01847277, 0.01566585, 0.01558409, 0.01377162,\n",
       "       0.01280891, 0.01169935, 0.01053912, 0.01003131, 0.00825134,\n",
       "       0.00714565, 0.00697337, 0.00627245, 0.00567899, 0.00545957,\n",
       "       0.00444157, 0.00433028, 0.00395461, 0.00369488, 0.00362328,\n",
       "       0.0031674 , 0.00304598, 0.00295923, 0.00288328, 0.00269992,\n",
       "       0.00260189, 0.00231051, 0.00229641, 0.00218691, 0.00196794,\n",
       "       0.00186371, 0.00182893, 0.00173892, 0.00166641, 0.00160396,\n",
       "       0.00154919, 0.00143255, 0.00140492, 0.00138316, 0.00130873,\n",
       "       0.00125712, 0.00115603, 0.00107712, 0.00101314, 0.00097075])"
      ]
     },
     "execution_count": 42,
     "metadata": {},
     "output_type": "execute_result"
    }
   ],
   "source": [
    "pca.explained_variance_ratio_"
   ]
  },
  {
   "cell_type": "code",
   "execution_count": 43,
   "metadata": {},
   "outputs": [
    {
     "data": {
      "text/plain": [
       "array([0.42969228, 0.55328784, 0.64392839, 0.68754267, 0.71758702,\n",
       "       0.742846  , 0.76131877, 0.77698462, 0.79256871, 0.80634033,\n",
       "       0.81914924, 0.83084859, 0.84138771, 0.85141902, 0.85967036,\n",
       "       0.86681601, 0.87378939, 0.88006183, 0.88574083, 0.8912004 ,\n",
       "       0.89564197, 0.89997225, 0.90392686, 0.90762175, 0.91124503,\n",
       "       0.91441243, 0.91745841, 0.92041764, 0.92330092, 0.92600084,\n",
       "       0.92860273, 0.93091324, 0.93320965, 0.93539657, 0.9373645 ,\n",
       "       0.93922821, 0.94105714, 0.94279606, 0.94446247, 0.94606643,\n",
       "       0.94761562, 0.94904817, 0.9504531 , 0.95183626, 0.95314499,\n",
       "       0.95440211, 0.95555814, 0.95663526, 0.9576484 , 0.95861914])"
      ]
     },
     "execution_count": 43,
     "metadata": {},
     "output_type": "execute_result"
    }
   ],
   "source": [
    "np.cumsum(pca.explained_variance_ratio_)"
   ]
  },
  {
   "cell_type": "code",
   "execution_count": 44,
   "metadata": {},
   "outputs": [
    {
     "data": {
      "image/png": "[encoded data removed]",
      "text/plain": [
       "<Figure size 432x288 with 1 Axes>"
      ]
     },
     "metadata": {
      "needs_background": "light"
     },
     "output_type": "display_data"
    }
   ],
   "source": [
    "#Plotting the Cumulative Summation of the Explained Variance\n",
    "plt.figure()\n",
    "plt.plot(np.cumsum(pca.explained_variance_ratio_))\n",
    "plt.xlabel('Number of Components')\n",
    "plt.ylabel('Variance (%)') #for each component\n",
    "plt.title('Explained Variance')\n",
    "plt.show()"
   ]
  },
  {
   "cell_type": "code",
   "execution_count": 45,
   "metadata": {
    "scrolled": false
   },
   "outputs": [],
   "source": [
    "df_pca=pd.DataFrame(pca.components_).transpose()"
   ]
  },
  {
   "cell_type": "raw",
   "metadata": {},
   "source": [
    "df_pca.columns=['comp_1','comp_2','comp_3','comp_4','comp_5','comp_6']"
   ]
  },
  {
   "cell_type": "code",
   "execution_count": 47,
   "metadata": {},
   "outputs": [],
   "source": [
    "y=df.iloc[:,1:2]"
   ]
  },
  {
   "cell_type": "code",
   "execution_count": 48,
   "metadata": {},
   "outputs": [],
   "source": [
    "y.reset_index(drop=True,inplace=True)"
   ]
  },
  {
   "cell_type": "code",
   "execution_count": 49,
   "metadata": {},
   "outputs": [],
   "source": [
    "df_pca['priceUSD']=y"
   ]
  },
  {
   "cell_type": "code",
   "execution_count": 50,
   "metadata": {},
   "outputs": [
    {
     "data": {
      "text/html": [
       "<div>\n",
       "<style scoped>\n",
       "    .dataframe tbody tr th:only-of-type {\n",
       "        vertical-align: middle;\n",
       "    }\n",
       "\n",
       "    .dataframe tbody tr th {\n",
       "        vertical-align: top;\n",
       "    }\n",
       "\n",
       "    .dataframe thead th {\n",
       "        text-align: right;\n",
       "    }\n",
       "</style>\n",
       "<table border=\"1\" class=\"dataframe\">\n",
       "  <thead>\n",
       "    <tr style=\"text-align: right;\">\n",
       "      <th></th>\n",
       "      <th>0</th>\n",
       "      <th>1</th>\n",
       "      <th>2</th>\n",
       "      <th>3</th>\n",
       "      <th>4</th>\n",
       "      <th>5</th>\n",
       "      <th>6</th>\n",
       "      <th>7</th>\n",
       "      <th>8</th>\n",
       "      <th>9</th>\n",
       "      <th>...</th>\n",
       "      <th>41</th>\n",
       "      <th>42</th>\n",
       "      <th>43</th>\n",
       "      <th>44</th>\n",
       "      <th>45</th>\n",
       "      <th>46</th>\n",
       "      <th>47</th>\n",
       "      <th>48</th>\n",
       "      <th>49</th>\n",
       "      <th>priceUSD</th>\n",
       "    </tr>\n",
       "  </thead>\n",
       "  <tbody>\n",
       "    <tr>\n",
       "      <th>0</th>\n",
       "      <td>-0.000453</td>\n",
       "      <td>0.031858</td>\n",
       "      <td>-0.025353</td>\n",
       "      <td>0.046557</td>\n",
       "      <td>-0.047065</td>\n",
       "      <td>-0.108655</td>\n",
       "      <td>-0.138888</td>\n",
       "      <td>0.294589</td>\n",
       "      <td>-0.119116</td>\n",
       "      <td>0.720788</td>\n",
       "      <td>...</td>\n",
       "      <td>-0.009600</td>\n",
       "      <td>0.017538</td>\n",
       "      <td>-0.001525</td>\n",
       "      <td>-0.005297</td>\n",
       "      <td>0.016080</td>\n",
       "      <td>-0.009969</td>\n",
       "      <td>-0.009536</td>\n",
       "      <td>-0.018498</td>\n",
       "      <td>0.015729</td>\n",
       "      <td>2013/04/01</td>\n",
       "    </tr>\n",
       "    <tr>\n",
       "      <th>1</th>\n",
       "      <td>0.074171</td>\n",
       "      <td>0.008900</td>\n",
       "      <td>-0.049871</td>\n",
       "      <td>0.041746</td>\n",
       "      <td>0.006259</td>\n",
       "      <td>-0.014658</td>\n",
       "      <td>0.002565</td>\n",
       "      <td>-0.013526</td>\n",
       "      <td>-0.043989</td>\n",
       "      <td>-0.023718</td>\n",
       "      <td>...</td>\n",
       "      <td>-0.005627</td>\n",
       "      <td>-0.002172</td>\n",
       "      <td>-0.031594</td>\n",
       "      <td>-0.015005</td>\n",
       "      <td>-0.004019</td>\n",
       "      <td>-0.014197</td>\n",
       "      <td>0.025744</td>\n",
       "      <td>-0.024140</td>\n",
       "      <td>0.012206</td>\n",
       "      <td>2013/04/02</td>\n",
       "    </tr>\n",
       "    <tr>\n",
       "      <th>2</th>\n",
       "      <td>0.095193</td>\n",
       "      <td>0.062041</td>\n",
       "      <td>-0.086169</td>\n",
       "      <td>-0.016918</td>\n",
       "      <td>0.022403</td>\n",
       "      <td>-0.054620</td>\n",
       "      <td>0.058363</td>\n",
       "      <td>-0.041482</td>\n",
       "      <td>0.015277</td>\n",
       "      <td>0.006979</td>\n",
       "      <td>...</td>\n",
       "      <td>0.028723</td>\n",
       "      <td>-0.007679</td>\n",
       "      <td>0.051816</td>\n",
       "      <td>0.059706</td>\n",
       "      <td>-0.013381</td>\n",
       "      <td>0.016500</td>\n",
       "      <td>-0.005264</td>\n",
       "      <td>-0.004222</td>\n",
       "      <td>0.013503</td>\n",
       "      <td>2013/04/03</td>\n",
       "    </tr>\n",
       "    <tr>\n",
       "      <th>3</th>\n",
       "      <td>0.065050</td>\n",
       "      <td>0.023236</td>\n",
       "      <td>-0.041538</td>\n",
       "      <td>0.018701</td>\n",
       "      <td>0.027465</td>\n",
       "      <td>-0.016234</td>\n",
       "      <td>-0.001668</td>\n",
       "      <td>-0.011407</td>\n",
       "      <td>-0.030464</td>\n",
       "      <td>-0.022885</td>\n",
       "      <td>...</td>\n",
       "      <td>-0.001863</td>\n",
       "      <td>0.010657</td>\n",
       "      <td>-0.012329</td>\n",
       "      <td>-0.012180</td>\n",
       "      <td>0.017880</td>\n",
       "      <td>-0.015558</td>\n",
       "      <td>0.002289</td>\n",
       "      <td>-0.003856</td>\n",
       "      <td>0.029197</td>\n",
       "      <td>2013/04/04</td>\n",
       "    </tr>\n",
       "    <tr>\n",
       "      <th>4</th>\n",
       "      <td>0.065794</td>\n",
       "      <td>-0.117846</td>\n",
       "      <td>0.022970</td>\n",
       "      <td>0.036187</td>\n",
       "      <td>-0.001153</td>\n",
       "      <td>0.011254</td>\n",
       "      <td>-0.001054</td>\n",
       "      <td>-0.008897</td>\n",
       "      <td>0.009599</td>\n",
       "      <td>0.000261</td>\n",
       "      <td>...</td>\n",
       "      <td>0.011975</td>\n",
       "      <td>0.004857</td>\n",
       "      <td>-0.002993</td>\n",
       "      <td>0.006000</td>\n",
       "      <td>0.002369</td>\n",
       "      <td>-0.013699</td>\n",
       "      <td>-0.005764</td>\n",
       "      <td>-0.004391</td>\n",
       "      <td>0.013442</td>\n",
       "      <td>2013/04/05</td>\n",
       "    </tr>\n",
       "  </tbody>\n",
       "</table>\n",
       "<p>5 rows × 51 columns</p>\n",
       "</div>"
      ],
      "text/plain": [
       "          0         1         2         3         4         5         6  \\\n",
       "0 -0.000453  0.031858 -0.025353  0.046557 -0.047065 -0.108655 -0.138888   \n",
       "1  0.074171  0.008900 -0.049871  0.041746  0.006259 -0.014658  0.002565   \n",
       "2  0.095193  0.062041 -0.086169 -0.016918  0.022403 -0.054620  0.058363   \n",
       "3  0.065050  0.023236 -0.041538  0.018701  0.027465 -0.016234 -0.001668   \n",
       "4  0.065794 -0.117846  0.022970  0.036187 -0.001153  0.011254 -0.001054   \n",
       "\n",
       "          7         8         9  ...        41        42        43        44  \\\n",
       "0  0.294589 -0.119116  0.720788  ... -0.009600  0.017538 -0.001525 -0.005297   \n",
       "1 -0.013526 -0.043989 -0.023718  ... -0.005627 -0.002172 -0.031594 -0.015005   \n",
       "2 -0.041482  0.015277  0.006979  ...  0.028723 -0.007679  0.051816  0.059706   \n",
       "3 -0.011407 -0.030464 -0.022885  ... -0.001863  0.010657 -0.012329 -0.012180   \n",
       "4 -0.008897  0.009599  0.000261  ...  0.011975  0.004857 -0.002993  0.006000   \n",
       "\n",
       "         45        46        47        48        49    priceUSD  \n",
       "0  0.016080 -0.009969 -0.009536 -0.018498  0.015729  2013/04/01  \n",
       "1 -0.004019 -0.014197  0.025744 -0.024140  0.012206  2013/04/02  \n",
       "2 -0.013381  0.016500 -0.005264 -0.004222  0.013503  2013/04/03  \n",
       "3  0.017880 -0.015558  0.002289 -0.003856  0.029197  2013/04/04  \n",
       "4  0.002369 -0.013699 -0.005764 -0.004391  0.013442  2013/04/05  \n",
       "\n",
       "[5 rows x 51 columns]"
      ]
     },
     "execution_count": 50,
     "metadata": {},
     "output_type": "execute_result"
    }
   ],
   "source": [
    "df_pca.head()"
   ]
  },
  {
   "cell_type": "code",
   "execution_count": 51,
   "metadata": {},
   "outputs": [],
   "source": [
    "df_pca.to_csv('pca_75_clas.csv',index=False)"
   ]
  },
  {
   "cell_type": "code",
   "execution_count": null,
   "metadata": {},
   "outputs": [],
   "source": []
  }
 ],
 "metadata": {
  "kernelspec": {
   "display_name": "Python 3",
   "language": "python",
   "name": "python3"
  },
  "language_info": {
   "codemirror_mode": {
    "name": "ipython",
    "version": 3
   },
   "file_extension": ".py",
   "mimetype": "text/x-python",
   "name": "python",
   "nbconvert_exporter": "python",
   "pygments_lexer": "ipython3",
   "version": "3.8.8"
  }
 },
 "nbformat": 4,
 "nbformat_minor": 2
}
